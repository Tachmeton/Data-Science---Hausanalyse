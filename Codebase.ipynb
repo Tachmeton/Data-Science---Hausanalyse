{
 "cells": [
  {
   "cell_type": "code",
   "execution_count": 1,
   "metadata": {},
   "outputs": [],
   "source": [
    "import pandas as pd"
   ]
  },
  {
   "cell_type": "code",
   "execution_count": null,
   "metadata": {},
   "outputs": [],
   "source": []
  },
  {
   "cell_type": "code",
   "execution_count": 2,
   "metadata": {},
   "outputs": [],
   "source": [
    "import seaborn  as sb"
   ]
  },
  {
   "cell_type": "code",
   "execution_count": null,
   "metadata": {},
   "outputs": [],
   "source": []
  },
  {
   "cell_type": "code",
   "execution_count": 3,
   "metadata": {},
   "outputs": [
    {
     "data": {
      "text/plain": [
       "pandas.core.frame.DataFrame"
      ]
     },
     "execution_count": 3,
     "metadata": {},
     "output_type": "execute_result"
    }
   ],
   "source": [
    "data = pd.read_csv(\"SetFiltered.csv\", sep= \";\") \n",
    "type(data)"
   ]
  },
  {
   "cell_type": "markdown",
   "metadata": {},
   "source": [
    "#Erste Erkenntnisse first look\n",
    "\n",
    "Null gibt es sonst nicht\n",
    "NAN auch nicht\n",
    "-1 auch nicht "
   ]
  },
  {
   "cell_type": "code",
   "execution_count": 4,
   "metadata": {},
   "outputs": [
    {
     "data": {
      "text/html": [
       "<div>\n",
       "<style scoped>\n",
       "    .dataframe tbody tr th:only-of-type {\n",
       "        vertical-align: middle;\n",
       "    }\n",
       "\n",
       "    .dataframe tbody tr th {\n",
       "        vertical-align: top;\n",
       "    }\n",
       "\n",
       "    .dataframe thead th {\n",
       "        text-align: right;\n",
       "    }\n",
       "</style>\n",
       "<table border=\"1\" class=\"dataframe\">\n",
       "  <thead>\n",
       "    <tr style=\"text-align: right;\">\n",
       "      <th></th>\n",
       "      <th>MSZoning</th>\n",
       "      <th>LotArea</th>\n",
       "      <th>Neighborhood</th>\n",
       "      <th>BldgType</th>\n",
       "      <th>OverallQual</th>\n",
       "      <th>OverallCond</th>\n",
       "      <th>YearBuilt</th>\n",
       "      <th>YearRemodAdd</th>\n",
       "      <th>RoofStyle</th>\n",
       "      <th>TotalBsmtSF</th>\n",
       "      <th>HeatingQC</th>\n",
       "      <th>CentralAir</th>\n",
       "      <th>GrLivArea</th>\n",
       "      <th>TotRmsAbvGrd</th>\n",
       "      <th>GarageCars</th>\n",
       "      <th>YrSold</th>\n",
       "      <th>SalePrice</th>\n",
       "    </tr>\n",
       "  </thead>\n",
       "  <tbody>\n",
       "    <tr>\n",
       "      <td>81</td>\n",
       "      <td>C (all)</td>\n",
       "      <td>8500</td>\n",
       "      <td>IDOTRR</td>\n",
       "      <td>1Fam</td>\n",
       "      <td>4</td>\n",
       "      <td>4</td>\n",
       "      <td>1920</td>\n",
       "      <td>1950</td>\n",
       "      <td>Gambrel</td>\n",
       "      <td>649</td>\n",
       "      <td>TA</td>\n",
       "      <td>N</td>\n",
       "      <td>1317</td>\n",
       "      <td>6</td>\n",
       "      <td>1</td>\n",
       "      <td>2008</td>\n",
       "      <td>40000</td>\n",
       "    </tr>\n",
       "  </tbody>\n",
       "</table>\n",
       "</div>"
      ],
      "text/plain": [
       "   MSZoning  LotArea Neighborhood BldgType  OverallQual  OverallCond  \\\n",
       "81  C (all)     8500       IDOTRR     1Fam            4            4   \n",
       "\n",
       "    YearBuilt  YearRemodAdd RoofStyle  TotalBsmtSF HeatingQC CentralAir  \\\n",
       "81       1920          1950   Gambrel          649        TA          N   \n",
       "\n",
       "    GrLivArea  TotRmsAbvGrd  GarageCars  YrSold  SalePrice  \n",
       "81       1317             6           1    2008      40000  "
      ]
     },
     "execution_count": 4,
     "metadata": {},
     "output_type": "execute_result"
    }
   ],
   "source": [
    "data[81:82]\n"
   ]
  },
  {
   "cell_type": "code",
   "execution_count": 5,
   "metadata": {},
   "outputs": [
    {
     "data": {
      "text/html": [
       "<div>\n",
       "<style scoped>\n",
       "    .dataframe tbody tr th:only-of-type {\n",
       "        vertical-align: middle;\n",
       "    }\n",
       "\n",
       "    .dataframe tbody tr th {\n",
       "        vertical-align: top;\n",
       "    }\n",
       "\n",
       "    .dataframe thead th {\n",
       "        text-align: right;\n",
       "    }\n",
       "</style>\n",
       "<table border=\"1\" class=\"dataframe\">\n",
       "  <thead>\n",
       "    <tr style=\"text-align: right;\">\n",
       "      <th></th>\n",
       "      <th>LotArea</th>\n",
       "      <th>OverallQual</th>\n",
       "      <th>OverallCond</th>\n",
       "      <th>YearBuilt</th>\n",
       "      <th>YearRemodAdd</th>\n",
       "      <th>TotalBsmtSF</th>\n",
       "      <th>GrLivArea</th>\n",
       "      <th>TotRmsAbvGrd</th>\n",
       "      <th>GarageCars</th>\n",
       "      <th>YrSold</th>\n",
       "      <th>SalePrice</th>\n",
       "    </tr>\n",
       "  </thead>\n",
       "  <tbody>\n",
       "    <tr>\n",
       "      <td>count</td>\n",
       "      <td>900.000000</td>\n",
       "      <td>900.000000</td>\n",
       "      <td>900.000000</td>\n",
       "      <td>900.000000</td>\n",
       "      <td>900.000000</td>\n",
       "      <td>900.000000</td>\n",
       "      <td>900.000000</td>\n",
       "      <td>900.000000</td>\n",
       "      <td>900.000000</td>\n",
       "      <td>900.000000</td>\n",
       "      <td>900.000000</td>\n",
       "    </tr>\n",
       "    <tr>\n",
       "      <td>mean</td>\n",
       "      <td>10629.817778</td>\n",
       "      <td>6.014444</td>\n",
       "      <td>5.652222</td>\n",
       "      <td>1969.347778</td>\n",
       "      <td>1984.185556</td>\n",
       "      <td>1028.166667</td>\n",
       "      <td>1487.441111</td>\n",
       "      <td>6.415556</td>\n",
       "      <td>1.745556</td>\n",
       "      <td>2007.896667</td>\n",
       "      <td>176184.454444</td>\n",
       "    </tr>\n",
       "    <tr>\n",
       "      <td>std</td>\n",
       "      <td>9947.088936</td>\n",
       "      <td>1.336912</td>\n",
       "      <td>1.151555</td>\n",
       "      <td>29.573049</td>\n",
       "      <td>20.195265</td>\n",
       "      <td>403.019702</td>\n",
       "      <td>504.588271</td>\n",
       "      <td>1.601786</td>\n",
       "      <td>0.715887</td>\n",
       "      <td>1.306010</td>\n",
       "      <td>71412.482393</td>\n",
       "    </tr>\n",
       "    <tr>\n",
       "      <td>min</td>\n",
       "      <td>1300.000000</td>\n",
       "      <td>1.000000</td>\n",
       "      <td>1.000000</td>\n",
       "      <td>1872.000000</td>\n",
       "      <td>1950.000000</td>\n",
       "      <td>0.000000</td>\n",
       "      <td>334.000000</td>\n",
       "      <td>2.000000</td>\n",
       "      <td>0.000000</td>\n",
       "      <td>2006.000000</td>\n",
       "      <td>39300.000000</td>\n",
       "    </tr>\n",
       "    <tr>\n",
       "      <td>25%</td>\n",
       "      <td>7432.250000</td>\n",
       "      <td>5.000000</td>\n",
       "      <td>5.000000</td>\n",
       "      <td>1953.000000</td>\n",
       "      <td>1966.000000</td>\n",
       "      <td>790.250000</td>\n",
       "      <td>1102.750000</td>\n",
       "      <td>5.000000</td>\n",
       "      <td>1.000000</td>\n",
       "      <td>2007.000000</td>\n",
       "      <td>130000.000000</td>\n",
       "    </tr>\n",
       "    <tr>\n",
       "      <td>50%</td>\n",
       "      <td>9475.000000</td>\n",
       "      <td>6.000000</td>\n",
       "      <td>5.000000</td>\n",
       "      <td>1971.000000</td>\n",
       "      <td>1993.000000</td>\n",
       "      <td>968.500000</td>\n",
       "      <td>1443.500000</td>\n",
       "      <td>6.000000</td>\n",
       "      <td>2.000000</td>\n",
       "      <td>2008.000000</td>\n",
       "      <td>161000.000000</td>\n",
       "    </tr>\n",
       "    <tr>\n",
       "      <td>75%</td>\n",
       "      <td>11700.000000</td>\n",
       "      <td>7.000000</td>\n",
       "      <td>6.000000</td>\n",
       "      <td>1998.000000</td>\n",
       "      <td>2002.000000</td>\n",
       "      <td>1249.500000</td>\n",
       "      <td>1750.500000</td>\n",
       "      <td>7.000000</td>\n",
       "      <td>2.000000</td>\n",
       "      <td>2009.000000</td>\n",
       "      <td>205000.000000</td>\n",
       "    </tr>\n",
       "    <tr>\n",
       "      <td>max</td>\n",
       "      <td>164660.000000</td>\n",
       "      <td>10.000000</td>\n",
       "      <td>9.000000</td>\n",
       "      <td>2009.000000</td>\n",
       "      <td>2009.000000</td>\n",
       "      <td>3206.000000</td>\n",
       "      <td>4316.000000</td>\n",
       "      <td>12.000000</td>\n",
       "      <td>4.000000</td>\n",
       "      <td>2010.000000</td>\n",
       "      <td>755000.000000</td>\n",
       "    </tr>\n",
       "  </tbody>\n",
       "</table>\n",
       "</div>"
      ],
      "text/plain": [
       "             LotArea  OverallQual  OverallCond    YearBuilt  YearRemodAdd  \\\n",
       "count     900.000000   900.000000   900.000000   900.000000    900.000000   \n",
       "mean    10629.817778     6.014444     5.652222  1969.347778   1984.185556   \n",
       "std      9947.088936     1.336912     1.151555    29.573049     20.195265   \n",
       "min      1300.000000     1.000000     1.000000  1872.000000   1950.000000   \n",
       "25%      7432.250000     5.000000     5.000000  1953.000000   1966.000000   \n",
       "50%      9475.000000     6.000000     5.000000  1971.000000   1993.000000   \n",
       "75%     11700.000000     7.000000     6.000000  1998.000000   2002.000000   \n",
       "max    164660.000000    10.000000     9.000000  2009.000000   2009.000000   \n",
       "\n",
       "       TotalBsmtSF    GrLivArea  TotRmsAbvGrd  GarageCars       YrSold  \\\n",
       "count   900.000000   900.000000    900.000000  900.000000   900.000000   \n",
       "mean   1028.166667  1487.441111      6.415556    1.745556  2007.896667   \n",
       "std     403.019702   504.588271      1.601786    0.715887     1.306010   \n",
       "min       0.000000   334.000000      2.000000    0.000000  2006.000000   \n",
       "25%     790.250000  1102.750000      5.000000    1.000000  2007.000000   \n",
       "50%     968.500000  1443.500000      6.000000    2.000000  2008.000000   \n",
       "75%    1249.500000  1750.500000      7.000000    2.000000  2009.000000   \n",
       "max    3206.000000  4316.000000     12.000000    4.000000  2010.000000   \n",
       "\n",
       "           SalePrice  \n",
       "count     900.000000  \n",
       "mean   176184.454444  \n",
       "std     71412.482393  \n",
       "min     39300.000000  \n",
       "25%    130000.000000  \n",
       "50%    161000.000000  \n",
       "75%    205000.000000  \n",
       "max    755000.000000  "
      ]
     },
     "execution_count": 5,
     "metadata": {},
     "output_type": "execute_result"
    }
   ],
   "source": [
    "data.describe()"
   ]
  },
  {
   "cell_type": "markdown",
   "metadata": {},
   "source": [
    "Lot Area riesiges Maximum kann riesige Auswirkungen haben. </br>\n",
    "Riesiges Minimum und Maximum </br>\n",
    "\n",
    "\n"
   ]
  },
  {
   "cell_type": "code",
   "execution_count": null,
   "metadata": {},
   "outputs": [],
   "source": []
  },
  {
   "cell_type": "code",
   "execution_count": 6,
   "metadata": {},
   "outputs": [
    {
     "data": {
      "text/html": [
       "<div>\n",
       "<style scoped>\n",
       "    .dataframe tbody tr th:only-of-type {\n",
       "        vertical-align: middle;\n",
       "    }\n",
       "\n",
       "    .dataframe tbody tr th {\n",
       "        vertical-align: top;\n",
       "    }\n",
       "\n",
       "    .dataframe thead th {\n",
       "        text-align: right;\n",
       "    }\n",
       "</style>\n",
       "<table border=\"1\" class=\"dataframe\">\n",
       "  <thead>\n",
       "    <tr style=\"text-align: right;\">\n",
       "      <th></th>\n",
       "      <th>MSZoning</th>\n",
       "      <th>LotArea</th>\n",
       "      <th>Neighborhood</th>\n",
       "      <th>BldgType</th>\n",
       "      <th>OverallQual</th>\n",
       "      <th>OverallCond</th>\n",
       "      <th>YearBuilt</th>\n",
       "      <th>YearRemodAdd</th>\n",
       "      <th>RoofStyle</th>\n",
       "      <th>TotalBsmtSF</th>\n",
       "      <th>HeatingQC</th>\n",
       "      <th>CentralAir</th>\n",
       "      <th>GrLivArea</th>\n",
       "      <th>TotRmsAbvGrd</th>\n",
       "      <th>GarageCars</th>\n",
       "      <th>YrSold</th>\n",
       "      <th>SalePrice</th>\n",
       "    </tr>\n",
       "  </thead>\n",
       "  <tbody>\n",
       "    <tr>\n",
       "      <td>123</td>\n",
       "      <td>RL</td>\n",
       "      <td>10655</td>\n",
       "      <td>NridgHt</td>\n",
       "      <td>1Fam</td>\n",
       "      <td>8</td>\n",
       "      <td>5</td>\n",
       "      <td>2003</td>\n",
       "      <td>2004</td>\n",
       "      <td>Gable</td>\n",
       "      <td>3206</td>\n",
       "      <td>Ex</td>\n",
       "      <td>Y</td>\n",
       "      <td>1629</td>\n",
       "      <td>7</td>\n",
       "      <td>3</td>\n",
       "      <td>2009</td>\n",
       "      <td>284000</td>\n",
       "    </tr>\n",
       "  </tbody>\n",
       "</table>\n",
       "</div>"
      ],
      "text/plain": [
       "    MSZoning  LotArea Neighborhood BldgType  OverallQual  OverallCond  \\\n",
       "123       RL    10655      NridgHt     1Fam            8            5   \n",
       "\n",
       "     YearBuilt  YearRemodAdd RoofStyle  TotalBsmtSF HeatingQC CentralAir  \\\n",
       "123       2003          2004     Gable         3206        Ex          Y   \n",
       "\n",
       "     GrLivArea  TotRmsAbvGrd  GarageCars  YrSold  SalePrice  \n",
       "123       1629             7           3    2009     284000  "
      ]
     },
     "execution_count": 6,
     "metadata": {},
     "output_type": "execute_result"
    }
   ],
   "source": [
    "bigG = data.query(\"TotalBsmtSF == 3206\")\n",
    "bigG\n"
   ]
  },
  {
   "cell_type": "code",
   "execution_count": 7,
   "metadata": {},
   "outputs": [
    {
     "data": {
      "text/html": [
       "<div>\n",
       "<style scoped>\n",
       "    .dataframe tbody tr th:only-of-type {\n",
       "        vertical-align: middle;\n",
       "    }\n",
       "\n",
       "    .dataframe tbody tr th {\n",
       "        vertical-align: top;\n",
       "    }\n",
       "\n",
       "    .dataframe thead th {\n",
       "        text-align: right;\n",
       "    }\n",
       "</style>\n",
       "<table border=\"1\" class=\"dataframe\">\n",
       "  <thead>\n",
       "    <tr style=\"text-align: right;\">\n",
       "      <th></th>\n",
       "      <th>MSZoning</th>\n",
       "      <th>LotArea</th>\n",
       "      <th>Neighborhood</th>\n",
       "      <th>BldgType</th>\n",
       "      <th>OverallQual</th>\n",
       "      <th>OverallCond</th>\n",
       "      <th>YearBuilt</th>\n",
       "      <th>YearRemodAdd</th>\n",
       "      <th>RoofStyle</th>\n",
       "      <th>TotalBsmtSF</th>\n",
       "      <th>HeatingQC</th>\n",
       "      <th>CentralAir</th>\n",
       "      <th>GrLivArea</th>\n",
       "      <th>TotRmsAbvGrd</th>\n",
       "      <th>GarageCars</th>\n",
       "      <th>YrSold</th>\n",
       "      <th>SalePrice</th>\n",
       "    </tr>\n",
       "  </thead>\n",
       "  <tbody>\n",
       "    <tr>\n",
       "      <td>844</td>\n",
       "      <td>RL</td>\n",
       "      <td>164660</td>\n",
       "      <td>Timber</td>\n",
       "      <td>2fmCon</td>\n",
       "      <td>5</td>\n",
       "      <td>6</td>\n",
       "      <td>1965</td>\n",
       "      <td>1965</td>\n",
       "      <td>Gable</td>\n",
       "      <td>1499</td>\n",
       "      <td>Ex</td>\n",
       "      <td>Y</td>\n",
       "      <td>1786</td>\n",
       "      <td>7</td>\n",
       "      <td>2</td>\n",
       "      <td>2008</td>\n",
       "      <td>228950</td>\n",
       "    </tr>\n",
       "  </tbody>\n",
       "</table>\n",
       "</div>"
      ],
      "text/plain": [
       "    MSZoning  LotArea Neighborhood BldgType  OverallQual  OverallCond  \\\n",
       "844       RL   164660       Timber   2fmCon            5            6   \n",
       "\n",
       "     YearBuilt  YearRemodAdd RoofStyle  TotalBsmtSF HeatingQC CentralAir  \\\n",
       "844       1965          1965     Gable         1499        Ex          Y   \n",
       "\n",
       "     GrLivArea  TotRmsAbvGrd  GarageCars  YrSold  SalePrice  \n",
       "844       1786             7           2    2008     228950  "
      ]
     },
     "execution_count": 7,
     "metadata": {},
     "output_type": "execute_result"
    }
   ],
   "source": [
    "data[data[\"LotArea\"].idxmax():data[\"LotArea\"].idxmax()+1]"
   ]
  },
  {
   "cell_type": "code",
   "execution_count": 8,
   "metadata": {},
   "outputs": [
    {
     "data": {
      "text/plain": [
       "array(['RL', 'RM', 'FV', 'RH', 'C (all)'], dtype=object)"
      ]
     },
     "execution_count": 8,
     "metadata": {},
     "output_type": "execute_result"
    }
   ],
   "source": [
    "data[\"MSZoning\"].unique()"
   ]
  },
  {
   "cell_type": "code",
   "execution_count": 9,
   "metadata": {
    "scrolled": true
   },
   "outputs": [
    {
     "data": {
      "text/plain": [
       "RL         716\n",
       "RM         145\n",
       "FV          28\n",
       "RH          10\n",
       "C (all)      1\n",
       "Name: MSZoning, dtype: int64"
      ]
     },
     "execution_count": 9,
     "metadata": {},
     "output_type": "execute_result"
    }
   ],
   "source": [
    "data['MSZoning'].value_counts()"
   ]
  },
  {
   "cell_type": "markdown",
   "metadata": {},
   "source": [
    "C (all) ist nur alleine "
   ]
  },
  {
   "cell_type": "code",
   "execution_count": 10,
   "metadata": {},
   "outputs": [],
   "source": [
    "data = data.query(\"MSZoning != 'C (all)'\")"
   ]
  },
  {
   "cell_type": "code",
   "execution_count": 11,
   "metadata": {},
   "outputs": [
    {
     "data": {
      "text/plain": [
       "NAmes      150\n",
       "CollgCr    103\n",
       "OldTown     71\n",
       "Edwards     53\n",
       "Sawyer      52\n",
       "Gilbert     47\n",
       "NWAmes      46\n",
       "BrkSide     41\n",
       "NridgHt     39\n",
       "SawyerW     37\n",
       "Crawfor     34\n",
       "Somerst     34\n",
       "Mitchel     33\n",
       "NoRidge     26\n",
       "Timber      21\n",
       "IDOTRR      20\n",
       "SWISU       18\n",
       "ClearCr     17\n",
       "StoneBr     13\n",
       "MeadowV     12\n",
       "Blmngtn      9\n",
       "BrDale       9\n",
       "Veenker      8\n",
       "NPkVill      5\n",
       "Blueste      1\n",
       "Name: Neighborhood, dtype: int64"
      ]
     },
     "execution_count": 11,
     "metadata": {},
     "output_type": "execute_result"
    }
   ],
   "source": [
    "data['Neighborhood'].value_counts()"
   ]
  },
  {
   "cell_type": "markdown",
   "metadata": {},
   "source": [
    "Blueste kommt nur einmal vor"
   ]
  },
  {
   "cell_type": "code",
   "execution_count": 12,
   "metadata": {},
   "outputs": [],
   "source": [
    "data = data.query(\"Neighborhood != 'Blueste'\")\n"
   ]
  },
  {
   "cell_type": "markdown",
   "metadata": {},
   "source": [
    "Geund warum dies man kann mit der Information Blueste wenn es nur einen Eintrag gibt nichts anfangen"
   ]
  },
  {
   "cell_type": "code",
   "execution_count": 13,
   "metadata": {},
   "outputs": [
    {
     "data": {
      "text/plain": [
       "1Fam      758\n",
       "TwnhsE     67\n",
       "Duplex     29\n",
       "Twnhs      27\n",
       "2fmCon     17\n",
       "Name: BldgType, dtype: int64"
      ]
     },
     "execution_count": 13,
     "metadata": {},
     "output_type": "execute_result"
    }
   ],
   "source": [
    "data['BldgType'].value_counts()"
   ]
  },
  {
   "cell_type": "markdown",
   "metadata": {},
   "source": [
    "Einfamiliehaushalt ist am häufigsten "
   ]
  },
  {
   "cell_type": "code",
   "execution_count": 14,
   "metadata": {},
   "outputs": [
    {
     "data": {
      "text/plain": [
       "5     248\n",
       "6     243\n",
       "7     193\n",
       "8      92\n",
       "4      77\n",
       "9      23\n",
       "3      13\n",
       "10      6\n",
       "1       2\n",
       "2       1\n",
       "Name: OverallQual, dtype: int64"
      ]
     },
     "execution_count": 14,
     "metadata": {},
     "output_type": "execute_result"
    }
   ],
   "source": [
    "data['OverallQual'].value_counts()"
   ]
  },
  {
   "cell_type": "code",
   "execution_count": 15,
   "metadata": {},
   "outputs": [
    {
     "data": {
      "text/plain": [
       "<matplotlib.axes._subplots.AxesSubplot at 0x2be8872a808>"
      ]
     },
     "execution_count": 15,
     "metadata": {},
     "output_type": "execute_result"
    },
    {
     "data": {
      "image/png": "[encoded data removed]",
      "text/plain": [
       "<Figure size 432x288 with 1 Axes>"
      ]
     },
     "metadata": {
      "needs_background": "light"
     },
     "output_type": "display_data"
    }
   ],
   "source": [
    "sb.lineplot(data['OverallQual'].value_counts().keys(), data['OverallQual'].value_counts())\n"
   ]
  },
  {
   "cell_type": "code",
   "execution_count": null,
   "metadata": {},
   "outputs": [],
   "source": []
  },
  {
   "cell_type": "markdown",
   "metadata": {},
   "source": [
    "schaut nach einer Gaussverteilung aus"
   ]
  },
  {
   "cell_type": "code",
   "execution_count": 16,
   "metadata": {},
   "outputs": [
    {
     "data": {
      "text/plain": [
       "5    481\n",
       "6    157\n",
       "7    134\n",
       "8     55\n",
       "4     40\n",
       "9     17\n",
       "3     12\n",
       "2      1\n",
       "1      1\n",
       "Name: OverallCond, dtype: int64"
      ]
     },
     "execution_count": 16,
     "metadata": {},
     "output_type": "execute_result"
    }
   ],
   "source": [
    "data['OverallCond'].value_counts()"
   ]
  },
  {
   "cell_type": "code",
   "execution_count": 17,
   "metadata": {},
   "outputs": [
    {
     "data": {
      "text/plain": [
       "<matplotlib.axes._subplots.AxesSubplot at 0x2be88a5c888>"
      ]
     },
     "execution_count": 17,
     "metadata": {},
     "output_type": "execute_result"
    },
    {
     "data": {
      "image/png": "[encoded data removed]",
      "text/plain": [
       "<Figure size 432x288 with 1 Axes>"
      ]
     },
     "metadata": {
      "needs_background": "light"
     },
     "output_type": "display_data"
    }
   ],
   "source": [
    "sb.lineplot(data['OverallCond'].value_counts().keys(), data['OverallCond'].value_counts())"
   ]
  },
  {
   "cell_type": "code",
   "execution_count": 18,
   "metadata": {},
   "outputs": [
    {
     "data": {
      "text/plain": [
       "Gable      707\n",
       "Hip        171\n",
       "Flat         7\n",
       "Gambrel      6\n",
       "Mansard      5\n",
       "Shed         2\n",
       "Name: RoofStyle, dtype: int64"
      ]
     },
     "execution_count": 18,
     "metadata": {},
     "output_type": "execute_result"
    }
   ],
   "source": [
    "data['RoofStyle'].value_counts()"
   ]
  },
  {
   "cell_type": "markdown",
   "metadata": {},
   "source": [
    "Giebel und hip dach sind auf häufigsten "
   ]
  },
  {
   "cell_type": "code",
   "execution_count": 19,
   "metadata": {},
   "outputs": [
    {
     "data": {
      "text/plain": [
       "Ex    448\n",
       "TA    262\n",
       "Gd    161\n",
       "Fa     26\n",
       "Po      1\n",
       "Name: HeatingQC, dtype: int64"
      ]
     },
     "execution_count": 19,
     "metadata": {},
     "output_type": "execute_result"
    }
   ],
   "source": [
    "data['HeatingQC'].value_counts()"
   ]
  },
  {
   "cell_type": "markdown",
   "metadata": {},
   "source": [
    "schlechte warmequaltität der Heizung ist nur ein Haus"
   ]
  },
  {
   "cell_type": "code",
   "execution_count": 20,
   "metadata": {},
   "outputs": [
    {
     "data": {
      "text/plain": [
       "Y    844\n",
       "N     54\n",
       "Name: CentralAir, dtype: int64"
      ]
     },
     "execution_count": 20,
     "metadata": {},
     "output_type": "execute_result"
    }
   ],
   "source": [
    "data['CentralAir'].value_counts()"
   ]
  },
  {
   "cell_type": "markdown",
   "metadata": {},
   "source": [
    "Meiste haben eine Klimaanlage"
   ]
  },
  {
   "cell_type": "code",
   "execution_count": 21,
   "metadata": {},
   "outputs": [
    {
     "data": {
      "text/plain": [
       "<matplotlib.axes._subplots.AxesSubplot at 0x2be88af4348>"
      ]
     },
     "execution_count": 21,
     "metadata": {},
     "output_type": "execute_result"
    },
    {
     "data": {
      "image/png": "[encoded data removed]",
      "text/plain": [
       "<Figure size 432x288 with 1 Axes>"
      ]
     },
     "metadata": {
      "needs_background": "light"
     },
     "output_type": "display_data"
    }
   ],
   "source": [
    "sb.lineplot(data['GrLivArea'].value_counts().keys(), data['GrLivArea'].value_counts())"
   ]
  },
  {
   "cell_type": "markdown",
   "metadata": {},
   "source": [
    "Viele kleine und der eine ausreisser"
   ]
  },
  {
   "cell_type": "code",
   "execution_count": 22,
   "metadata": {},
   "outputs": [
    {
     "data": {
      "text/plain": [
       "<matplotlib.axes._subplots.AxesSubplot at 0x2be88b50988>"
      ]
     },
     "execution_count": 22,
     "metadata": {},
     "output_type": "execute_result"
    },
    {
     "data": {
      "image/png": "[encoded data removed]",
      "text/plain": [
       "<Figure size 432x288 with 1 Axes>"
      ]
     },
     "metadata": {
      "needs_background": "light"
     },
     "output_type": "display_data"
    }
   ],
   "source": [
    "sb.lineplot(data['TotRmsAbvGrd'].value_counts().keys(), data['TotRmsAbvGrd'].value_counts())"
   ]
  },
  {
   "cell_type": "markdown",
   "metadata": {},
   "source": [
    "Sieht gut aus"
   ]
  },
  {
   "cell_type": "code",
   "execution_count": 23,
   "metadata": {},
   "outputs": [
    {
     "data": {
      "text/plain": [
       "<matplotlib.axes._subplots.AxesSubplot at 0x2be88bb4b88>"
      ]
     },
     "execution_count": 23,
     "metadata": {},
     "output_type": "execute_result"
    },
    {
     "data": {
      "image/png": "[encoded data removed]",
      "text/plain": [
       "<Figure size 432x288 with 1 Axes>"
      ]
     },
     "metadata": {
      "needs_background": "light"
     },
     "output_type": "display_data"
    }
   ],
   "source": [
    "sb.lineplot(data['GarageCars'].value_counts().keys(), data['GarageCars'].value_counts())"
   ]
  },
  {
   "cell_type": "markdown",
   "metadata": {},
   "source": [
    "geht "
   ]
  },
  {
   "cell_type": "code",
   "execution_count": 24,
   "metadata": {},
   "outputs": [
    {
     "data": {
      "text/plain": [
       "<matplotlib.axes._subplots.AxesSubplot at 0x2be88c4a0c8>"
      ]
     },
     "execution_count": 24,
     "metadata": {},
     "output_type": "execute_result"
    },
    {
     "data": {
      "image/png": "[encoded data removed]",
      "text/plain": [
       "<Figure size 432x288 with 1 Axes>"
      ]
     },
     "metadata": {
      "needs_background": "light"
     },
     "output_type": "display_data"
    }
   ],
   "source": [
    "sb.lineplot(data['YrSold'].value_counts().keys(), data['YrSold'].value_counts())"
   ]
  },
  {
   "cell_type": "markdown",
   "metadata": {},
   "source": [
    "Was war 2009.5 ?"
   ]
  },
  {
   "cell_type": "code",
   "execution_count": null,
   "metadata": {},
   "outputs": [],
   "source": []
  },
  {
   "cell_type": "code",
   "execution_count": null,
   "metadata": {},
   "outputs": [],
   "source": []
  },
  {
   "cell_type": "code",
   "execution_count": 25,
   "metadata": {},
   "outputs": [
    {
     "data": {
      "text/plain": [
       "2009    218\n",
       "2008    202\n",
       "2007    196\n",
       "2006    170\n",
       "2010    112\n",
       "Name: YrSold, dtype: int64"
      ]
     },
     "execution_count": 25,
     "metadata": {},
     "output_type": "execute_result"
    }
   ],
   "source": [
    "data['YrSold'].value_counts()"
   ]
  },
  {
   "cell_type": "code",
   "execution_count": 26,
   "metadata": {},
   "outputs": [
    {
     "data": {
      "text/plain": [
       "<matplotlib.axes._subplots.AxesSubplot at 0x2be87027d88>"
      ]
     },
     "execution_count": 26,
     "metadata": {},
     "output_type": "execute_result"
    },
    {
     "data": {
      "image/png": "[encoded data removed]",
      "text/plain": [
       "<Figure size 432x288 with 1 Axes>"
      ]
     },
     "metadata": {
      "needs_background": "light"
     },
     "output_type": "display_data"
    }
   ],
   "source": [
    "sb.lineplot(data['YearBuilt'].value_counts().keys(), data['YearBuilt'].value_counts())"
   ]
  },
  {
   "cell_type": "code",
   "execution_count": null,
   "metadata": {},
   "outputs": [],
   "source": []
  },
  {
   "cell_type": "code",
   "execution_count": null,
   "metadata": {},
   "outputs": [],
   "source": []
  },
  {
   "cell_type": "code",
   "execution_count": 27,
   "metadata": {},
   "outputs": [],
   "source": [
    "YearBuilt = data['YearBuilt'].value_counts()"
   ]
  },
  {
   "cell_type": "code",
   "execution_count": 28,
   "metadata": {},
   "outputs": [
    {
     "name": "stdout",
     "output_type": "stream",
     "text": [
      "1940: 12\n",
      "1941: 10\n",
      "1942: 2\n",
      "Kein Haus im Jahr: 1943\n",
      "Kein Haus im Jahr: 1944\n",
      "1945: 5\n",
      "1946: 2\n",
      "1947: 2\n",
      "1948: 11\n",
      "1949: 9\n",
      "1950: 16\n",
      "1951: 2\n",
      "1952: 1\n",
      "1953: 8\n",
      "1954: 15\n",
      "1955: 12\n",
      "1956: 10\n",
      "1957: 16\n",
      "1958: 14\n",
      "1959: 17\n",
      "1960: 10\n"
     ]
    },
    {
     "data": {
      "text/plain": [
       "174"
      ]
     },
     "execution_count": 28,
     "metadata": {},
     "output_type": "execute_result"
    }
   ],
   "source": [
    "built = 0\n",
    "for i in range(1940,1961):\n",
    "    if i in YearBuilt.keys():\n",
    "        built+=YearBuilt[i]\n",
    "        print(\"{}: {}\".format(i,YearBuilt[i]))\n",
    "    else:\n",
    "        print(\"Kein Haus im Jahr: {}\".format(i))\n",
    "built"
   ]
  },
  {
   "cell_type": "code",
   "execution_count": 29,
   "metadata": {},
   "outputs": [
    {
     "data": {
      "text/plain": [
       "1950    111\n",
       "2005     53\n",
       "2004     46\n",
       "2006     38\n",
       "2000     37\n",
       "2002     36\n",
       "2003     35\n",
       "2007     32\n",
       "1996     26\n",
       "1995     25\n",
       "1997     23\n",
       "1998     23\n",
       "1999     20\n",
       "1994     16\n",
       "2001     15\n",
       "1976     15\n",
       "2008     14\n",
       "1972     14\n",
       "1993     13\n",
       "1970     13\n",
       "1977     13\n",
       "1966     12\n",
       "1959     12\n",
       "1990     12\n",
       "1978     11\n",
       "1965     11\n",
       "1968     11\n",
       "1967     11\n",
       "1973     10\n",
       "1971     10\n",
       "1964      9\n",
       "1962      9\n",
       "1991      9\n",
       "1963      8\n",
       "1980      8\n",
       "1975      8\n",
       "1985      8\n",
       "1988      8\n",
       "1957      7\n",
       "1960      7\n",
       "1992      7\n",
       "1954      7\n",
       "1956      7\n",
       "1987      7\n",
       "1981      7\n",
       "1955      7\n",
       "1958      7\n",
       "1969      6\n",
       "1989      6\n",
       "1982      6\n",
       "1953      6\n",
       "2009      4\n",
       "1961      4\n",
       "1979      4\n",
       "1983      3\n",
       "1984      3\n",
       "1986      3\n",
       "1974      2\n",
       "1951      2\n",
       "1952      1\n",
       "Name: YearRemodAdd, dtype: int64"
      ]
     },
     "execution_count": 29,
     "metadata": {},
     "output_type": "execute_result"
    }
   ],
   "source": [
    "data['YearRemodAdd'].value_counts()"
   ]
  },
  {
   "cell_type": "code",
   "execution_count": 30,
   "metadata": {},
   "outputs": [
    {
     "data": {
      "text/plain": [
       "<matplotlib.axes._subplots.AxesSubplot at 0x2be88d3c608>"
      ]
     },
     "execution_count": 30,
     "metadata": {},
     "output_type": "execute_result"
    },
    {
     "data": {
      "image/png": "[encoded data removed]",
      "text/plain": [
       "<Figure size 432x288 with 1 Axes>"
      ]
     },
     "metadata": {
      "needs_background": "light"
     },
     "output_type": "display_data"
    }
   ],
   "source": [
    "sb.lineplot(data['YearRemodAdd'].value_counts().keys(), data['YearRemodAdd'].value_counts())"
   ]
  },
  {
   "cell_type": "markdown",
   "metadata": {},
   "source": [
    "1950 gab es eine große renoirierungswelle"
   ]
  },
  {
   "cell_type": "code",
   "execution_count": 31,
   "metadata": {},
   "outputs": [
    {
     "data": {
      "text/html": [
       "<div>\n",
       "<style scoped>\n",
       "    .dataframe tbody tr th:only-of-type {\n",
       "        vertical-align: middle;\n",
       "    }\n",
       "\n",
       "    .dataframe tbody tr th {\n",
       "        vertical-align: top;\n",
       "    }\n",
       "\n",
       "    .dataframe thead th {\n",
       "        text-align: right;\n",
       "    }\n",
       "</style>\n",
       "<table border=\"1\" class=\"dataframe\">\n",
       "  <thead>\n",
       "    <tr style=\"text-align: right;\">\n",
       "      <th></th>\n",
       "      <th>LotArea</th>\n",
       "      <th>OverallQual</th>\n",
       "      <th>OverallCond</th>\n",
       "      <th>YearBuilt</th>\n",
       "      <th>YearRemodAdd</th>\n",
       "      <th>TotalBsmtSF</th>\n",
       "      <th>GrLivArea</th>\n",
       "      <th>TotRmsAbvGrd</th>\n",
       "      <th>GarageCars</th>\n",
       "      <th>YrSold</th>\n",
       "      <th>SalePrice</th>\n",
       "    </tr>\n",
       "  </thead>\n",
       "  <tbody>\n",
       "    <tr>\n",
       "      <td>LotArea</td>\n",
       "      <td>1.000000</td>\n",
       "      <td>0.078118</td>\n",
       "      <td>0.008611</td>\n",
       "      <td>-0.002769</td>\n",
       "      <td>0.013309</td>\n",
       "      <td>0.214496</td>\n",
       "      <td>0.241608</td>\n",
       "      <td>0.170915</td>\n",
       "      <td>0.175377</td>\n",
       "      <td>-0.028536</td>\n",
       "      <td>0.294612</td>\n",
       "    </tr>\n",
       "    <tr>\n",
       "      <td>OverallQual</td>\n",
       "      <td>0.078118</td>\n",
       "      <td>1.000000</td>\n",
       "      <td>-0.070117</td>\n",
       "      <td>0.505580</td>\n",
       "      <td>0.497455</td>\n",
       "      <td>0.503372</td>\n",
       "      <td>0.579505</td>\n",
       "      <td>0.420298</td>\n",
       "      <td>0.570377</td>\n",
       "      <td>0.015041</td>\n",
       "      <td>0.778689</td>\n",
       "    </tr>\n",
       "    <tr>\n",
       "      <td>OverallCond</td>\n",
       "      <td>0.008611</td>\n",
       "      <td>-0.070117</td>\n",
       "      <td>1.000000</td>\n",
       "      <td>-0.413357</td>\n",
       "      <td>0.106004</td>\n",
       "      <td>-0.179958</td>\n",
       "      <td>-0.064906</td>\n",
       "      <td>-0.042361</td>\n",
       "      <td>-0.175688</td>\n",
       "      <td>-0.013004</td>\n",
       "      <td>-0.048636</td>\n",
       "    </tr>\n",
       "    <tr>\n",
       "      <td>YearBuilt</td>\n",
       "      <td>-0.002769</td>\n",
       "      <td>0.505580</td>\n",
       "      <td>-0.413357</td>\n",
       "      <td>1.000000</td>\n",
       "      <td>0.531105</td>\n",
       "      <td>0.375120</td>\n",
       "      <td>0.150368</td>\n",
       "      <td>0.058768</td>\n",
       "      <td>0.502403</td>\n",
       "      <td>0.042530</td>\n",
       "      <td>0.471721</td>\n",
       "    </tr>\n",
       "    <tr>\n",
       "      <td>YearRemodAdd</td>\n",
       "      <td>0.013309</td>\n",
       "      <td>0.497455</td>\n",
       "      <td>0.106004</td>\n",
       "      <td>0.531105</td>\n",
       "      <td>1.000000</td>\n",
       "      <td>0.249978</td>\n",
       "      <td>0.234302</td>\n",
       "      <td>0.143257</td>\n",
       "      <td>0.384041</td>\n",
       "      <td>0.066916</td>\n",
       "      <td>0.463600</td>\n",
       "    </tr>\n",
       "    <tr>\n",
       "      <td>TotalBsmtSF</td>\n",
       "      <td>0.214496</td>\n",
       "      <td>0.503372</td>\n",
       "      <td>-0.179958</td>\n",
       "      <td>0.375120</td>\n",
       "      <td>0.249978</td>\n",
       "      <td>1.000000</td>\n",
       "      <td>0.391654</td>\n",
       "      <td>0.255091</td>\n",
       "      <td>0.408928</td>\n",
       "      <td>0.049185</td>\n",
       "      <td>0.628727</td>\n",
       "    </tr>\n",
       "    <tr>\n",
       "      <td>GrLivArea</td>\n",
       "      <td>0.241608</td>\n",
       "      <td>0.579505</td>\n",
       "      <td>-0.064906</td>\n",
       "      <td>0.150368</td>\n",
       "      <td>0.234302</td>\n",
       "      <td>0.391654</td>\n",
       "      <td>1.000000</td>\n",
       "      <td>0.835124</td>\n",
       "      <td>0.476622</td>\n",
       "      <td>-0.013700</td>\n",
       "      <td>0.758611</td>\n",
       "    </tr>\n",
       "    <tr>\n",
       "      <td>TotRmsAbvGrd</td>\n",
       "      <td>0.170915</td>\n",
       "      <td>0.420298</td>\n",
       "      <td>-0.042361</td>\n",
       "      <td>0.058768</td>\n",
       "      <td>0.143257</td>\n",
       "      <td>0.255091</td>\n",
       "      <td>0.835124</td>\n",
       "      <td>1.000000</td>\n",
       "      <td>0.357591</td>\n",
       "      <td>-0.016895</td>\n",
       "      <td>0.550466</td>\n",
       "    </tr>\n",
       "    <tr>\n",
       "      <td>GarageCars</td>\n",
       "      <td>0.175377</td>\n",
       "      <td>0.570377</td>\n",
       "      <td>-0.175688</td>\n",
       "      <td>0.502403</td>\n",
       "      <td>0.384041</td>\n",
       "      <td>0.408928</td>\n",
       "      <td>0.476622</td>\n",
       "      <td>0.357591</td>\n",
       "      <td>1.000000</td>\n",
       "      <td>0.009687</td>\n",
       "      <td>0.633621</td>\n",
       "    </tr>\n",
       "    <tr>\n",
       "      <td>YrSold</td>\n",
       "      <td>-0.028536</td>\n",
       "      <td>0.015041</td>\n",
       "      <td>-0.013004</td>\n",
       "      <td>0.042530</td>\n",
       "      <td>0.066916</td>\n",
       "      <td>0.049185</td>\n",
       "      <td>-0.013700</td>\n",
       "      <td>-0.016895</td>\n",
       "      <td>0.009687</td>\n",
       "      <td>1.000000</td>\n",
       "      <td>0.010421</td>\n",
       "    </tr>\n",
       "    <tr>\n",
       "      <td>SalePrice</td>\n",
       "      <td>0.294612</td>\n",
       "      <td>0.778689</td>\n",
       "      <td>-0.048636</td>\n",
       "      <td>0.471721</td>\n",
       "      <td>0.463600</td>\n",
       "      <td>0.628727</td>\n",
       "      <td>0.758611</td>\n",
       "      <td>0.550466</td>\n",
       "      <td>0.633621</td>\n",
       "      <td>0.010421</td>\n",
       "      <td>1.000000</td>\n",
       "    </tr>\n",
       "  </tbody>\n",
       "</table>\n",
       "</div>"
      ],
      "text/plain": [
       "               LotArea  OverallQual  OverallCond  YearBuilt  YearRemodAdd  \\\n",
       "LotArea       1.000000     0.078118     0.008611  -0.002769      0.013309   \n",
       "OverallQual   0.078118     1.000000    -0.070117   0.505580      0.497455   \n",
       "OverallCond   0.008611    -0.070117     1.000000  -0.413357      0.106004   \n",
       "YearBuilt    -0.002769     0.505580    -0.413357   1.000000      0.531105   \n",
       "YearRemodAdd  0.013309     0.497455     0.106004   0.531105      1.000000   \n",
       "TotalBsmtSF   0.214496     0.503372    -0.179958   0.375120      0.249978   \n",
       "GrLivArea     0.241608     0.579505    -0.064906   0.150368      0.234302   \n",
       "TotRmsAbvGrd  0.170915     0.420298    -0.042361   0.058768      0.143257   \n",
       "GarageCars    0.175377     0.570377    -0.175688   0.502403      0.384041   \n",
       "YrSold       -0.028536     0.015041    -0.013004   0.042530      0.066916   \n",
       "SalePrice     0.294612     0.778689    -0.048636   0.471721      0.463600   \n",
       "\n",
       "              TotalBsmtSF  GrLivArea  TotRmsAbvGrd  GarageCars    YrSold  \\\n",
       "LotArea          0.214496   0.241608      0.170915    0.175377 -0.028536   \n",
       "OverallQual      0.503372   0.579505      0.420298    0.570377  0.015041   \n",
       "OverallCond     -0.179958  -0.064906     -0.042361   -0.175688 -0.013004   \n",
       "YearBuilt        0.375120   0.150368      0.058768    0.502403  0.042530   \n",
       "YearRemodAdd     0.249978   0.234302      0.143257    0.384041  0.066916   \n",
       "TotalBsmtSF      1.000000   0.391654      0.255091    0.408928  0.049185   \n",
       "GrLivArea        0.391654   1.000000      0.835124    0.476622 -0.013700   \n",
       "TotRmsAbvGrd     0.255091   0.835124      1.000000    0.357591 -0.016895   \n",
       "GarageCars       0.408928   0.476622      0.357591    1.000000  0.009687   \n",
       "YrSold           0.049185  -0.013700     -0.016895    0.009687  1.000000   \n",
       "SalePrice        0.628727   0.758611      0.550466    0.633621  0.010421   \n",
       "\n",
       "              SalePrice  \n",
       "LotArea        0.294612  \n",
       "OverallQual    0.778689  \n",
       "OverallCond   -0.048636  \n",
       "YearBuilt      0.471721  \n",
       "YearRemodAdd   0.463600  \n",
       "TotalBsmtSF    0.628727  \n",
       "GrLivArea      0.758611  \n",
       "TotRmsAbvGrd   0.550466  \n",
       "GarageCars     0.633621  \n",
       "YrSold         0.010421  \n",
       "SalePrice      1.000000  "
      ]
     },
     "execution_count": 31,
     "metadata": {},
     "output_type": "execute_result"
    }
   ],
   "source": [
    "data.corr()"
   ]
  },
  {
   "cell_type": "markdown",
   "metadata": {},
   "source": [
    "Starke corr zwischen preis mit Qulität, TotalMsmtSF, LivArea, größe Garage. außerdem livArea und room above ground, Idee: eines weglassen  "
   ]
  },
  {
   "cell_type": "code",
   "execution_count": 32,
   "metadata": {},
   "outputs": [],
   "source": [
    "dataP = data.drop(columns = [\"TotRmsAbvGrd\"])\n",
    "#data.drop(columns = [\"YearBuilt\"]) ???"
   ]
  },
  {
   "cell_type": "code",
   "execution_count": 33,
   "metadata": {},
   "outputs": [],
   "source": [
    "dataP = dataP.drop(columns = [\"YrSold\"])"
   ]
  },
  {
   "cell_type": "markdown",
   "metadata": {},
   "source": [
    "Hat corr kaum relation mit SalePrice und auch mit den anderen keine, dassheißt hier gibt es keinen Mehrwert "
   ]
  },
  {
   "cell_type": "markdown",
   "metadata": {},
   "source": [
    "Weil Daten doppelt mit livArea "
   ]
  },
  {
   "cell_type": "code",
   "execution_count": 34,
   "metadata": {
    "scrolled": false
   },
   "outputs": [
    {
     "data": {
      "text/plain": [
       "<matplotlib.axes._subplots.AxesSubplot at 0x2be88da34c8>"
      ]
     },
     "execution_count": 34,
     "metadata": {},
     "output_type": "execute_result"
    },
    {
     "data": {
      "image/png": "[encoded data removed]",
      "text/plain": [
       "<Figure size 432x288 with 1 Axes>"
      ]
     },
     "metadata": {
      "needs_background": "light"
     },
     "output_type": "display_data"
    }
   ],
   "source": [
    "sb.scatterplot(dataP[\"GrLivArea\"],dataP[\"SalePrice\"])"
   ]
  },
  {
   "cell_type": "markdown",
   "metadata": {},
   "source": [
    "Dadurch passen Ausreißer von Größe und Preis zusammen"
   ]
  },
  {
   "cell_type": "code",
   "execution_count": 35,
   "metadata": {},
   "outputs": [
    {
     "data": {
      "text/plain": [
       "<matplotlib.axes._subplots.AxesSubplot at 0x2be88e14548>"
      ]
     },
     "execution_count": 35,
     "metadata": {},
     "output_type": "execute_result"
    },
    {
     "data": {
      "image/png": "[encoded data removed]",
      "text/plain": [
       "<Figure size 432x288 with 1 Axes>"
      ]
     },
     "metadata": {
      "needs_background": "light"
     },
     "output_type": "display_data"
    }
   ],
   "source": [
    "sb.scatterplot(dataP[\"OverallQual\"],dataP[\"SalePrice\"])"
   ]
  },
  {
   "cell_type": "markdown",
   "metadata": {},
   "source": [
    "qualitat hat range"
   ]
  },
  {
   "cell_type": "code",
   "execution_count": 36,
   "metadata": {},
   "outputs": [
    {
     "data": {
      "text/plain": [
       "<matplotlib.axes._subplots.AxesSubplot at 0x2be88e53d88>"
      ]
     },
     "execution_count": 36,
     "metadata": {},
     "output_type": "execute_result"
    },
    {
     "data": {
      "image/png": "[encoded data removed]",
      "text/plain": [
       "<Figure size 432x288 with 1 Axes>"
      ]
     },
     "metadata": {
      "needs_background": "light"
     },
     "output_type": "display_data"
    }
   ],
   "source": [
    "sb.boxplot(dataP[\"LotArea\"])"
   ]
  },
  {
   "cell_type": "markdown",
   "metadata": {},
   "source": [
    "viele Ausreißer nach oben"
   ]
  },
  {
   "cell_type": "code",
   "execution_count": null,
   "metadata": {
    "scrolled": true
   },
   "outputs": [],
   "source": []
  },
  {
   "cell_type": "markdown",
   "metadata": {},
   "source": [
    "r"
   ]
  },
  {
   "cell_type": "code",
   "execution_count": null,
   "metadata": {},
   "outputs": [],
   "source": []
  },
  {
   "cell_type": "code",
   "execution_count": 37,
   "metadata": {},
   "outputs": [],
   "source": [
    "dataP = dataP.sample(frac=1, random_state = 42)\n",
    "#Die Daten zufällig anordnen, random state damit Beispielrechnung richtig und Ergebnisse gleich bleiben"
   ]
  },
  {
   "cell_type": "code",
   "execution_count": 38,
   "metadata": {
    "scrolled": true
   },
   "outputs": [
    {
     "data": {
      "text/plain": [
       "332    117000\n",
       "639    360000\n",
       "327    130500\n",
       "850    185850\n",
       "39     337500\n",
       "        ...  \n",
       "107     80000\n",
       "271    179500\n",
       "862    188700\n",
       "436    213000\n",
       "103     60000\n",
       "Name: SalePrice, Length: 898, dtype: int64"
      ]
     },
     "execution_count": 38,
     "metadata": {},
     "output_type": "execute_result"
    }
   ],
   "source": [
    "labels = dataP[\"SalePrice\"]\n",
    "labels"
   ]
  },
  {
   "cell_type": "code",
   "execution_count": 39,
   "metadata": {},
   "outputs": [
    {
     "data": {
      "text/plain": [
       "<matplotlib.axes._subplots.AxesSubplot at 0x2be88ee7648>"
      ]
     },
     "execution_count": 39,
     "metadata": {},
     "output_type": "execute_result"
    },
    {
     "data": {
      "image/png": "[encoded data removed]",
      "text/plain": [
       "<Figure size 432x288 with 1 Axes>"
      ]
     },
     "metadata": {
      "needs_background": "light"
     },
     "output_type": "display_data"
    }
   ],
   "source": [
    "sb.boxplot(dataP[\"SalePrice\"])"
   ]
  },
  {
   "cell_type": "code",
   "execution_count": 40,
   "metadata": {},
   "outputs": [],
   "source": [
    "lenDataSet = len(dataP)"
   ]
  },
  {
   "cell_type": "code",
   "execution_count": 41,
   "metadata": {},
   "outputs": [],
   "source": [
    "import nltk\n",
    "import numpy as np\n",
    "\n",
    "\n",
    "def text_to_numbers(text, cutoff_for_rare_words = 1):\n",
    "    \"\"\"Function to convert text to numbers. Text must be tokenzied so that\n",
    "    test is presented as a list of words. The index number for a word\n",
    "    is based on its frequency (words occuring more often have a lower index).\n",
    "    If a word does not occur as many times as cutoff_for_rare_words,\n",
    "    then it is given a word index of zero. All rare words will be zero.\n",
    "    \"\"\"\n",
    "    \n",
    "    # Flatten list if sublists are present\n",
    "    if len(text) > 1:\n",
    "        flat_text = [sublist for sublist in text]\n",
    "        \n",
    "    else:\n",
    "        flat_text = text\n",
    "    \n",
    "    # get word freuqncy\n",
    "    fdist = nltk.FreqDist(flat_text)\n",
    "\n",
    "    # Convert to Pandas dataframe\n",
    "    df_fdist = pd.DataFrame.from_dict(fdist, orient='index')\n",
    "    df_fdist.columns = ['Frequency']\n",
    "\n",
    "    # Sort by word frequency\n",
    "    df_fdist.sort_values(by=['Frequency'], ascending=False, inplace=True)\n",
    "\n",
    "    # Add word index\n",
    "    number_of_words = df_fdist.shape[0]\n",
    "    df_fdist['word_index'] = list(np.arange(number_of_words)+1)\n",
    "\n",
    "   \n",
    "    \n",
    "    # Convert pandas to dictionary\n",
    "    word_dict = df_fdist['word_index'].to_dict()\n",
    "   \n",
    "    \n",
    "    # Use dictionary to convert words in text to numbers\n",
    "    text_numbers = []\n",
    "    for string in text:\n",
    "        string_numbers = word_dict[string]\n",
    "        text_numbers.append(string_numbers)  \n",
    "    \n",
    "    return (text_numbers)"
   ]
  },
  {
   "cell_type": "code",
   "execution_count": 42,
   "metadata": {},
   "outputs": [
    {
     "data": {
      "text/plain": [
       "332    RL\n",
       "639    RL\n",
       "327    RL\n",
       "850    RL\n",
       "39     RL\n",
       "       ..\n",
       "107    RM\n",
       "271    RL\n",
       "862    RL\n",
       "436    RL\n",
       "103    RL\n",
       "Name: MSZoning, Length: 898, dtype: object"
      ]
     },
     "execution_count": 42,
     "metadata": {},
     "output_type": "execute_result"
    }
   ],
   "source": [
    "dataP.loc[:,\"MSZoning\"]"
   ]
  },
  {
   "cell_type": "code",
   "execution_count": 43,
   "metadata": {},
   "outputs": [],
   "source": [
    "stringLabels = [\"MSZoning\",\"Neighborhood\",\"BldgType\",\"RoofStyle\",\"HeatingQC\",\"CentralAir\"]"
   ]
  },
  {
   "cell_type": "code",
   "execution_count": 44,
   "metadata": {
    "scrolled": true
   },
   "outputs": [
    {
     "data": {
      "text/html": [
       "<div>\n",
       "<style scoped>\n",
       "    .dataframe tbody tr th:only-of-type {\n",
       "        vertical-align: middle;\n",
       "    }\n",
       "\n",
       "    .dataframe tbody tr th {\n",
       "        vertical-align: top;\n",
       "    }\n",
       "\n",
       "    .dataframe thead th {\n",
       "        text-align: right;\n",
       "    }\n",
       "</style>\n",
       "<table border=\"1\" class=\"dataframe\">\n",
       "  <thead>\n",
       "    <tr style=\"text-align: right;\">\n",
       "      <th></th>\n",
       "      <th>MSZoning</th>\n",
       "      <th>LotArea</th>\n",
       "      <th>Neighborhood</th>\n",
       "      <th>BldgType</th>\n",
       "      <th>OverallQual</th>\n",
       "      <th>OverallCond</th>\n",
       "      <th>YearBuilt</th>\n",
       "      <th>YearRemodAdd</th>\n",
       "      <th>RoofStyle</th>\n",
       "      <th>TotalBsmtSF</th>\n",
       "      <th>HeatingQC</th>\n",
       "      <th>CentralAir</th>\n",
       "      <th>GrLivArea</th>\n",
       "      <th>TotRmsAbvGrd</th>\n",
       "      <th>GarageCars</th>\n",
       "      <th>YrSold</th>\n",
       "      <th>SalePrice</th>\n",
       "    </tr>\n",
       "  </thead>\n",
       "  <tbody>\n",
       "    <tr>\n",
       "      <td>0</td>\n",
       "      <td>RL</td>\n",
       "      <td>9590</td>\n",
       "      <td>Timber</td>\n",
       "      <td>1Fam</td>\n",
       "      <td>7</td>\n",
       "      <td>5</td>\n",
       "      <td>2003</td>\n",
       "      <td>2003</td>\n",
       "      <td>Gable</td>\n",
       "      <td>868</td>\n",
       "      <td>Ex</td>\n",
       "      <td>Y</td>\n",
       "      <td>1146</td>\n",
       "      <td>6</td>\n",
       "      <td>2</td>\n",
       "      <td>2007</td>\n",
       "      <td>187500</td>\n",
       "    </tr>\n",
       "    <tr>\n",
       "      <td>1</td>\n",
       "      <td>RL</td>\n",
       "      <td>12256</td>\n",
       "      <td>NoRidge</td>\n",
       "      <td>1Fam</td>\n",
       "      <td>8</td>\n",
       "      <td>5</td>\n",
       "      <td>1994</td>\n",
       "      <td>1995</td>\n",
       "      <td>Gable</td>\n",
       "      <td>1463</td>\n",
       "      <td>Ex</td>\n",
       "      <td>Y</td>\n",
       "      <td>2622</td>\n",
       "      <td>9</td>\n",
       "      <td>2</td>\n",
       "      <td>2010</td>\n",
       "      <td>325000</td>\n",
       "    </tr>\n",
       "    <tr>\n",
       "      <td>2</td>\n",
       "      <td>RL</td>\n",
       "      <td>12108</td>\n",
       "      <td>Edwards</td>\n",
       "      <td>Duplex</td>\n",
       "      <td>4</td>\n",
       "      <td>4</td>\n",
       "      <td>1955</td>\n",
       "      <td>1955</td>\n",
       "      <td>Gable</td>\n",
       "      <td>1440</td>\n",
       "      <td>TA</td>\n",
       "      <td>N</td>\n",
       "      <td>1440</td>\n",
       "      <td>8</td>\n",
       "      <td>0</td>\n",
       "      <td>2008</td>\n",
       "      <td>118000</td>\n",
       "    </tr>\n",
       "    <tr>\n",
       "      <td>3</td>\n",
       "      <td>RL</td>\n",
       "      <td>7500</td>\n",
       "      <td>Sawyer</td>\n",
       "      <td>1Fam</td>\n",
       "      <td>5</td>\n",
       "      <td>5</td>\n",
       "      <td>1963</td>\n",
       "      <td>1963</td>\n",
       "      <td>Gable</td>\n",
       "      <td>1040</td>\n",
       "      <td>Fa</td>\n",
       "      <td>Y</td>\n",
       "      <td>1040</td>\n",
       "      <td>5</td>\n",
       "      <td>1</td>\n",
       "      <td>2010</td>\n",
       "      <td>133000</td>\n",
       "    </tr>\n",
       "    <tr>\n",
       "      <td>4</td>\n",
       "      <td>RM</td>\n",
       "      <td>6000</td>\n",
       "      <td>OldTown</td>\n",
       "      <td>2fmCon</td>\n",
       "      <td>4</td>\n",
       "      <td>4</td>\n",
       "      <td>1953</td>\n",
       "      <td>1953</td>\n",
       "      <td>Gable</td>\n",
       "      <td>936</td>\n",
       "      <td>TA</td>\n",
       "      <td>N</td>\n",
       "      <td>936</td>\n",
       "      <td>4</td>\n",
       "      <td>2</td>\n",
       "      <td>2009</td>\n",
       "      <td>93000</td>\n",
       "    </tr>\n",
       "    <tr>\n",
       "      <td>...</td>\n",
       "      <td>...</td>\n",
       "      <td>...</td>\n",
       "      <td>...</td>\n",
       "      <td>...</td>\n",
       "      <td>...</td>\n",
       "      <td>...</td>\n",
       "      <td>...</td>\n",
       "      <td>...</td>\n",
       "      <td>...</td>\n",
       "      <td>...</td>\n",
       "      <td>...</td>\n",
       "      <td>...</td>\n",
       "      <td>...</td>\n",
       "      <td>...</td>\n",
       "      <td>...</td>\n",
       "      <td>...</td>\n",
       "      <td>...</td>\n",
       "    </tr>\n",
       "    <tr>\n",
       "      <td>895</td>\n",
       "      <td>RL</td>\n",
       "      <td>8750</td>\n",
       "      <td>CollgCr</td>\n",
       "      <td>1Fam</td>\n",
       "      <td>7</td>\n",
       "      <td>5</td>\n",
       "      <td>1996</td>\n",
       "      <td>1996</td>\n",
       "      <td>Gable</td>\n",
       "      <td>880</td>\n",
       "      <td>Ex</td>\n",
       "      <td>Y</td>\n",
       "      <td>1716</td>\n",
       "      <td>7</td>\n",
       "      <td>2</td>\n",
       "      <td>2009</td>\n",
       "      <td>191000</td>\n",
       "    </tr>\n",
       "    <tr>\n",
       "      <td>896</td>\n",
       "      <td>RL</td>\n",
       "      <td>8064</td>\n",
       "      <td>NAmes</td>\n",
       "      <td>1Fam</td>\n",
       "      <td>5</td>\n",
       "      <td>7</td>\n",
       "      <td>1949</td>\n",
       "      <td>2006</td>\n",
       "      <td>Gable</td>\n",
       "      <td>672</td>\n",
       "      <td>Ex</td>\n",
       "      <td>Y</td>\n",
       "      <td>924</td>\n",
       "      <td>6</td>\n",
       "      <td>2</td>\n",
       "      <td>2007</td>\n",
       "      <td>122900</td>\n",
       "    </tr>\n",
       "    <tr>\n",
       "      <td>897</td>\n",
       "      <td>RL</td>\n",
       "      <td>13005</td>\n",
       "      <td>NWAmes</td>\n",
       "      <td>1Fam</td>\n",
       "      <td>7</td>\n",
       "      <td>7</td>\n",
       "      <td>1980</td>\n",
       "      <td>1980</td>\n",
       "      <td>Gable</td>\n",
       "      <td>845</td>\n",
       "      <td>TA</td>\n",
       "      <td>Y</td>\n",
       "      <td>2353</td>\n",
       "      <td>10</td>\n",
       "      <td>2</td>\n",
       "      <td>2009</td>\n",
       "      <td>260000</td>\n",
       "    </tr>\n",
       "    <tr>\n",
       "      <td>898</td>\n",
       "      <td>RL</td>\n",
       "      <td>9375</td>\n",
       "      <td>CollgCr</td>\n",
       "      <td>1Fam</td>\n",
       "      <td>8</td>\n",
       "      <td>5</td>\n",
       "      <td>2002</td>\n",
       "      <td>2002</td>\n",
       "      <td>Gable</td>\n",
       "      <td>1284</td>\n",
       "      <td>Ex</td>\n",
       "      <td>Y</td>\n",
       "      <td>2169</td>\n",
       "      <td>7</td>\n",
       "      <td>2</td>\n",
       "      <td>2007</td>\n",
       "      <td>228500</td>\n",
       "    </tr>\n",
       "    <tr>\n",
       "      <td>899</td>\n",
       "      <td>RL</td>\n",
       "      <td>9135</td>\n",
       "      <td>CollgCr</td>\n",
       "      <td>1Fam</td>\n",
       "      <td>7</td>\n",
       "      <td>5</td>\n",
       "      <td>2002</td>\n",
       "      <td>2003</td>\n",
       "      <td>Gable</td>\n",
       "      <td>1536</td>\n",
       "      <td>Ex</td>\n",
       "      <td>Y</td>\n",
       "      <td>1536</td>\n",
       "      <td>7</td>\n",
       "      <td>2</td>\n",
       "      <td>2008</td>\n",
       "      <td>214000</td>\n",
       "    </tr>\n",
       "  </tbody>\n",
       "</table>\n",
       "<p>898 rows × 17 columns</p>\n",
       "</div>"
      ],
      "text/plain": [
       "    MSZoning  LotArea Neighborhood BldgType  OverallQual  OverallCond  \\\n",
       "0         RL     9590       Timber     1Fam            7            5   \n",
       "1         RL    12256      NoRidge     1Fam            8            5   \n",
       "2         RL    12108      Edwards   Duplex            4            4   \n",
       "3         RL     7500       Sawyer     1Fam            5            5   \n",
       "4         RM     6000      OldTown   2fmCon            4            4   \n",
       "..       ...      ...          ...      ...          ...          ...   \n",
       "895       RL     8750      CollgCr     1Fam            7            5   \n",
       "896       RL     8064        NAmes     1Fam            5            7   \n",
       "897       RL    13005       NWAmes     1Fam            7            7   \n",
       "898       RL     9375      CollgCr     1Fam            8            5   \n",
       "899       RL     9135      CollgCr     1Fam            7            5   \n",
       "\n",
       "     YearBuilt  YearRemodAdd RoofStyle  TotalBsmtSF HeatingQC CentralAir  \\\n",
       "0         2003          2003     Gable          868        Ex          Y   \n",
       "1         1994          1995     Gable         1463        Ex          Y   \n",
       "2         1955          1955     Gable         1440        TA          N   \n",
       "3         1963          1963     Gable         1040        Fa          Y   \n",
       "4         1953          1953     Gable          936        TA          N   \n",
       "..         ...           ...       ...          ...       ...        ...   \n",
       "895       1996          1996     Gable          880        Ex          Y   \n",
       "896       1949          2006     Gable          672        Ex          Y   \n",
       "897       1980          1980     Gable          845        TA          Y   \n",
       "898       2002          2002     Gable         1284        Ex          Y   \n",
       "899       2002          2003     Gable         1536        Ex          Y   \n",
       "\n",
       "     GrLivArea  TotRmsAbvGrd  GarageCars  YrSold  SalePrice  \n",
       "0         1146             6           2    2007     187500  \n",
       "1         2622             9           2    2010     325000  \n",
       "2         1440             8           0    2008     118000  \n",
       "3         1040             5           1    2010     133000  \n",
       "4          936             4           2    2009      93000  \n",
       "..         ...           ...         ...     ...        ...  \n",
       "895       1716             7           2    2009     191000  \n",
       "896        924             6           2    2007     122900  \n",
       "897       2353            10           2    2009     260000  \n",
       "898       2169             7           2    2007     228500  \n",
       "899       1536             7           2    2008     214000  \n",
       "\n",
       "[898 rows x 17 columns]"
      ]
     },
     "execution_count": 44,
     "metadata": {},
     "output_type": "execute_result"
    }
   ],
   "source": [
    "for element in stringLabels:\n",
    "    dataP.loc[:,element] = text_to_numbers(dataP.loc[:,element])\n",
    "data"
   ]
  },
  {
   "cell_type": "code",
   "execution_count": null,
   "metadata": {},
   "outputs": [],
   "source": []
  },
  {
   "cell_type": "code",
   "execution_count": 45,
   "metadata": {},
   "outputs": [
    {
     "data": {
      "text/html": [
       "<div>\n",
       "<style scoped>\n",
       "    .dataframe tbody tr th:only-of-type {\n",
       "        vertical-align: middle;\n",
       "    }\n",
       "\n",
       "    .dataframe tbody tr th {\n",
       "        vertical-align: top;\n",
       "    }\n",
       "\n",
       "    .dataframe thead th {\n",
       "        text-align: right;\n",
       "    }\n",
       "</style>\n",
       "<table border=\"1\" class=\"dataframe\">\n",
       "  <thead>\n",
       "    <tr style=\"text-align: right;\">\n",
       "      <th></th>\n",
       "      <th>MSZoning</th>\n",
       "      <th>LotArea</th>\n",
       "      <th>Neighborhood</th>\n",
       "      <th>BldgType</th>\n",
       "      <th>OverallQual</th>\n",
       "      <th>OverallCond</th>\n",
       "      <th>YearBuilt</th>\n",
       "      <th>YearRemodAdd</th>\n",
       "      <th>RoofStyle</th>\n",
       "      <th>TotalBsmtSF</th>\n",
       "      <th>HeatingQC</th>\n",
       "      <th>CentralAir</th>\n",
       "      <th>GrLivArea</th>\n",
       "      <th>GarageCars</th>\n",
       "    </tr>\n",
       "  </thead>\n",
       "  <tbody>\n",
       "    <tr>\n",
       "      <td>332</td>\n",
       "      <td>1</td>\n",
       "      <td>10998</td>\n",
       "      <td>4</td>\n",
       "      <td>1</td>\n",
       "      <td>5</td>\n",
       "      <td>5</td>\n",
       "      <td>1941</td>\n",
       "      <td>1960</td>\n",
       "      <td>1</td>\n",
       "      <td>984</td>\n",
       "      <td>1</td>\n",
       "      <td>1</td>\n",
       "      <td>1604</td>\n",
       "      <td>2</td>\n",
       "    </tr>\n",
       "    <tr>\n",
       "      <td>639</td>\n",
       "      <td>1</td>\n",
       "      <td>12378</td>\n",
       "      <td>9</td>\n",
       "      <td>1</td>\n",
       "      <td>9</td>\n",
       "      <td>5</td>\n",
       "      <td>2003</td>\n",
       "      <td>2004</td>\n",
       "      <td>1</td>\n",
       "      <td>1896</td>\n",
       "      <td>1</td>\n",
       "      <td>1</td>\n",
       "      <td>1944</td>\n",
       "      <td>3</td>\n",
       "    </tr>\n",
       "    <tr>\n",
       "      <td>327</td>\n",
       "      <td>1</td>\n",
       "      <td>6600</td>\n",
       "      <td>13</td>\n",
       "      <td>1</td>\n",
       "      <td>5</td>\n",
       "      <td>9</td>\n",
       "      <td>1982</td>\n",
       "      <td>2008</td>\n",
       "      <td>1</td>\n",
       "      <td>816</td>\n",
       "      <td>1</td>\n",
       "      <td>1</td>\n",
       "      <td>816</td>\n",
       "      <td>1</td>\n",
       "    </tr>\n",
       "    <tr>\n",
       "      <td>850</td>\n",
       "      <td>1</td>\n",
       "      <td>7052</td>\n",
       "      <td>9</td>\n",
       "      <td>2</td>\n",
       "      <td>7</td>\n",
       "      <td>5</td>\n",
       "      <td>2005</td>\n",
       "      <td>2005</td>\n",
       "      <td>1</td>\n",
       "      <td>1364</td>\n",
       "      <td>1</td>\n",
       "      <td>1</td>\n",
       "      <td>1364</td>\n",
       "      <td>2</td>\n",
       "    </tr>\n",
       "    <tr>\n",
       "      <td>39</td>\n",
       "      <td>1</td>\n",
       "      <td>12456</td>\n",
       "      <td>9</td>\n",
       "      <td>1</td>\n",
       "      <td>10</td>\n",
       "      <td>5</td>\n",
       "      <td>2006</td>\n",
       "      <td>2007</td>\n",
       "      <td>2</td>\n",
       "      <td>1700</td>\n",
       "      <td>1</td>\n",
       "      <td>1</td>\n",
       "      <td>1718</td>\n",
       "      <td>3</td>\n",
       "    </tr>\n",
       "    <tr>\n",
       "      <td>...</td>\n",
       "      <td>...</td>\n",
       "      <td>...</td>\n",
       "      <td>...</td>\n",
       "      <td>...</td>\n",
       "      <td>...</td>\n",
       "      <td>...</td>\n",
       "      <td>...</td>\n",
       "      <td>...</td>\n",
       "      <td>...</td>\n",
       "      <td>...</td>\n",
       "      <td>...</td>\n",
       "      <td>...</td>\n",
       "      <td>...</td>\n",
       "      <td>...</td>\n",
       "    </tr>\n",
       "    <tr>\n",
       "      <td>107</td>\n",
       "      <td>2</td>\n",
       "      <td>4608</td>\n",
       "      <td>3</td>\n",
       "      <td>1</td>\n",
       "      <td>4</td>\n",
       "      <td>6</td>\n",
       "      <td>1945</td>\n",
       "      <td>1950</td>\n",
       "      <td>1</td>\n",
       "      <td>747</td>\n",
       "      <td>2</td>\n",
       "      <td>1</td>\n",
       "      <td>747</td>\n",
       "      <td>1</td>\n",
       "    </tr>\n",
       "    <tr>\n",
       "      <td>271</td>\n",
       "      <td>1</td>\n",
       "      <td>8400</td>\n",
       "      <td>17</td>\n",
       "      <td>1</td>\n",
       "      <td>5</td>\n",
       "      <td>8</td>\n",
       "      <td>1939</td>\n",
       "      <td>1997</td>\n",
       "      <td>1</td>\n",
       "      <td>720</td>\n",
       "      <td>1</td>\n",
       "      <td>1</td>\n",
       "      <td>2192</td>\n",
       "      <td>1</td>\n",
       "    </tr>\n",
       "    <tr>\n",
       "      <td>862</td>\n",
       "      <td>1</td>\n",
       "      <td>11988</td>\n",
       "      <td>11</td>\n",
       "      <td>1</td>\n",
       "      <td>6</td>\n",
       "      <td>7</td>\n",
       "      <td>1934</td>\n",
       "      <td>1995</td>\n",
       "      <td>2</td>\n",
       "      <td>715</td>\n",
       "      <td>4</td>\n",
       "      <td>1</td>\n",
       "      <td>1660</td>\n",
       "      <td>1</td>\n",
       "    </tr>\n",
       "    <tr>\n",
       "      <td>436</td>\n",
       "      <td>1</td>\n",
       "      <td>8400</td>\n",
       "      <td>2</td>\n",
       "      <td>1</td>\n",
       "      <td>7</td>\n",
       "      <td>5</td>\n",
       "      <td>2004</td>\n",
       "      <td>2005</td>\n",
       "      <td>1</td>\n",
       "      <td>1473</td>\n",
       "      <td>1</td>\n",
       "      <td>1</td>\n",
       "      <td>1484</td>\n",
       "      <td>2</td>\n",
       "    </tr>\n",
       "    <tr>\n",
       "      <td>103</td>\n",
       "      <td>1</td>\n",
       "      <td>8400</td>\n",
       "      <td>17</td>\n",
       "      <td>1</td>\n",
       "      <td>2</td>\n",
       "      <td>5</td>\n",
       "      <td>1920</td>\n",
       "      <td>1950</td>\n",
       "      <td>1</td>\n",
       "      <td>290</td>\n",
       "      <td>2</td>\n",
       "      <td>2</td>\n",
       "      <td>438</td>\n",
       "      <td>1</td>\n",
       "    </tr>\n",
       "  </tbody>\n",
       "</table>\n",
       "<p>898 rows × 14 columns</p>\n",
       "</div>"
      ],
      "text/plain": [
       "     MSZoning  LotArea  Neighborhood  BldgType  OverallQual  OverallCond  \\\n",
       "332         1    10998             4         1            5            5   \n",
       "639         1    12378             9         1            9            5   \n",
       "327         1     6600            13         1            5            9   \n",
       "850         1     7052             9         2            7            5   \n",
       "39          1    12456             9         1           10            5   \n",
       "..        ...      ...           ...       ...          ...          ...   \n",
       "107         2     4608             3         1            4            6   \n",
       "271         1     8400            17         1            5            8   \n",
       "862         1    11988            11         1            6            7   \n",
       "436         1     8400             2         1            7            5   \n",
       "103         1     8400            17         1            2            5   \n",
       "\n",
       "     YearBuilt  YearRemodAdd  RoofStyle  TotalBsmtSF  HeatingQC  CentralAir  \\\n",
       "332       1941          1960          1          984          1           1   \n",
       "639       2003          2004          1         1896          1           1   \n",
       "327       1982          2008          1          816          1           1   \n",
       "850       2005          2005          1         1364          1           1   \n",
       "39        2006          2007          2         1700          1           1   \n",
       "..         ...           ...        ...          ...        ...         ...   \n",
       "107       1945          1950          1          747          2           1   \n",
       "271       1939          1997          1          720          1           1   \n",
       "862       1934          1995          2          715          4           1   \n",
       "436       2004          2005          1         1473          1           1   \n",
       "103       1920          1950          1          290          2           2   \n",
       "\n",
       "     GrLivArea  GarageCars  \n",
       "332       1604           2  \n",
       "639       1944           3  \n",
       "327        816           1  \n",
       "850       1364           2  \n",
       "39        1718           3  \n",
       "..         ...         ...  \n",
       "107        747           1  \n",
       "271       2192           1  \n",
       "862       1660           1  \n",
       "436       1484           2  \n",
       "103        438           1  \n",
       "\n",
       "[898 rows x 14 columns]"
      ]
     },
     "execution_count": 45,
     "metadata": {},
     "output_type": "execute_result"
    }
   ],
   "source": [
    "rawdata = dataP.loc[:,\"MSZoning\":\"GarageCars\"]\n",
    "rawdata"
   ]
  },
  {
   "cell_type": "code",
   "execution_count": 46,
   "metadata": {},
   "outputs": [],
   "source": [
    "import math"
   ]
  },
  {
   "cell_type": "code",
   "execution_count": 47,
   "metadata": {},
   "outputs": [],
   "source": [
    "trainData = rawdata[0:math.floor(lenDataSet*0.8)]"
   ]
  },
  {
   "cell_type": "code",
   "execution_count": 48,
   "metadata": {},
   "outputs": [],
   "source": [
    "validateData = rawdata[math.ceil(lenDataSet*0.8):math.floor(lenDataSet*0.95)] "
   ]
  },
  {
   "cell_type": "code",
   "execution_count": 49,
   "metadata": {},
   "outputs": [],
   "source": [
    "testData = rawdata[math.ceil(lenDataSet*0.95):]"
   ]
  },
  {
   "cell_type": "code",
   "execution_count": 50,
   "metadata": {},
   "outputs": [],
   "source": [
    "trainLabels = labels[0:math.floor(lenDataSet*0.8)] "
   ]
  },
  {
   "cell_type": "code",
   "execution_count": 51,
   "metadata": {},
   "outputs": [],
   "source": [
    "validateLabels = labels[math.ceil(lenDataSet*0.8):math.floor(lenDataSet*0.95)]"
   ]
  },
  {
   "cell_type": "code",
   "execution_count": 52,
   "metadata": {},
   "outputs": [],
   "source": [
    "testLabels = labels[math.ceil(lenDataSet*0.95):]"
   ]
  },
  {
   "cell_type": "markdown",
   "metadata": {},
   "source": []
  },
  {
   "cell_type": "code",
   "execution_count": 53,
   "metadata": {},
   "outputs": [
    {
     "data": {
      "text/plain": [
       "RandomForestRegressor(bootstrap=True, criterion='mse', max_depth=None,\n",
       "                      max_features=3, max_leaf_nodes=None,\n",
       "                      min_impurity_decrease=0.0, min_impurity_split=None,\n",
       "                      min_samples_leaf=1, min_samples_split=2,\n",
       "                      min_weight_fraction_leaf=0.0, n_estimators=1000,\n",
       "                      n_jobs=None, oob_score=False, random_state=42, verbose=0,\n",
       "                      warm_start=False)"
      ]
     },
     "execution_count": 53,
     "metadata": {},
     "output_type": "execute_result"
    }
   ],
   "source": [
    "from sklearn.ensemble import RandomForestRegressor\n",
    "\n",
    "rfR = RandomForestRegressor(n_estimators = 1000, random_state = 42, max_features = 3)\n",
    "rfR.fit(trainData, trainLabels)\n",
    "#n_estimators = Anzahl an trees \n",
    "#random_state = \n",
    "# max_featurs = anzahl der feautres maximal \n"
   ]
  },
  {
   "cell_type": "code",
   "execution_count": 54,
   "metadata": {},
   "outputs": [
    {
     "data": {
      "text/plain": [
       "0.9174617531675052"
      ]
     },
     "execution_count": 54,
     "metadata": {},
     "output_type": "execute_result"
    }
   ],
   "source": [
    "rfR.score(validateData, validateLabels)\n"
   ]
  },
  {
   "cell_type": "code",
   "execution_count": 55,
   "metadata": {
    "scrolled": false
   },
   "outputs": [],
   "source": [
    "import sklearn\n",
    "#import sklearn.cross_validation"
   ]
  },
  {
   "cell_type": "code",
   "execution_count": 56,
   "metadata": {
    "scrolled": true
   },
   "outputs": [],
   "source": [
    " from sklearn.model_selection import cross_val_score"
   ]
  },
  {
   "cell_type": "code",
   "execution_count": 57,
   "metadata": {},
   "outputs": [
    {
     "data": {
      "text/plain": [
       "array([0.88123051, 0.83794313, 0.90861283, 0.89474147, 0.82423702])"
      ]
     },
     "execution_count": 57,
     "metadata": {},
     "output_type": "execute_result"
    }
   ],
   "source": [
    "rfK = RandomForestRegressor(n_estimators = 1000, random_state = 42, max_features = 3)\n",
    "scores = cross_val_score(rfK, trainData, trainLabels, cv=5)\n",
    "scores"
   ]
  },
  {
   "cell_type": "code",
   "execution_count": 58,
   "metadata": {},
   "outputs": [
    {
     "data": {
      "text/plain": [
       "array([0.88123051, 0.83794313, 0.90861283, 0.89474147, 0.82423702])"
      ]
     },
     "execution_count": 58,
     "metadata": {},
     "output_type": "execute_result"
    }
   ],
   "source": [
    "rfK = RandomForestRegressor(n_estimators = 1000, random_state = 42, max_features = \"sqrt\")\n",
    "scores = cross_val_score(rfK, trainData, trainLabels, cv=5)\n",
    "scores"
   ]
  },
  {
   "cell_type": "code",
   "execution_count": 59,
   "metadata": {},
   "outputs": [],
   "source": [
    "#sqrtFeatures = 4\n",
    "#rfK = RandomForestRegressor(n_estimators = 1000, random_state = 42, max_features = sqrtFeatures)\n",
    "#scores = cross_val_score(rfK, trainData, trainLabels, cv=10)\n",
    "#sum(scores)/len(scores)\n"
   ]
  },
  {
   "cell_type": "code",
   "execution_count": 60,
   "metadata": {},
   "outputs": [],
   "source": [
    "#sqrtFeatures = 4\n",
    "#rfK = RandomForestRegressor(n_estimators = 1000, random_state = 42, max_features = sqrtFeatures + 1)\n",
    "#scores = cross_val_score(rfK, trainData, trainLabels, cv=10)\n",
    "#sum(scores)/len(scores)"
   ]
  },
  {
   "cell_type": "code",
   "execution_count": 61,
   "metadata": {},
   "outputs": [],
   "source": [
    "#sqrtFeatures = 4\n",
    "#rfK = RandomForestRegressor(n_estimators = 1000, random_state = 42, max_features = sqrtFeatures - 1)\n",
    "#scores = cross_val_score(rfK, trainData, trainLabels, cv=5)\n",
    "#sum(scores)/len(scores)"
   ]
  },
  {
   "cell_type": "code",
   "execution_count": 62,
   "metadata": {},
   "outputs": [],
   "source": [
    "#sqrtFeatures = 4\n",
    "#rfK = RandomForestRegressor(n_estimators = 1000, random_state = 42, max_features = sqrtFeatures - 2)\n",
    "#scores = cross_val_score(rfK, trainData, trainLabels, cv=10)\n",
    "#sum(scores)/len(scores)"
   ]
  },
  {
   "cell_type": "code",
   "execution_count": 63,
   "metadata": {},
   "outputs": [],
   "source": [
    "#sqrtFeatures = 4\n",
    "#rfK = RandomForestRegressor(n_estimators = 1000, random_state = 42, max_features = sqrtFeatures + 2)\n",
    "#scores = cross_val_score(rfK, trainData, trainLabels, cv=10)\n",
    "#sum(scores)/len(scores)"
   ]
  },
  {
   "cell_type": "code",
   "execution_count": 64,
   "metadata": {},
   "outputs": [],
   "source": [
    "from sklearn.ensemble import GradientBoostingRegressor"
   ]
  },
  {
   "cell_type": "code",
   "execution_count": 65,
   "metadata": {},
   "outputs": [
    {
     "data": {
      "text/plain": [
       "0.9153202086411851"
      ]
     },
     "execution_count": 65,
     "metadata": {},
     "output_type": "execute_result"
    }
   ],
   "source": [
    "gbR = GradientBoostingRegressor(\n",
    "    max_depth=1,\n",
    "    n_estimators=1000,\n",
    "    learning_rate=0.1\n",
    ")\n",
    "gbR.fit(trainData, trainLabels)\n",
    "gbR.score(validateData, validateLabels)\n",
    "#gbr.predict(rawdata[1:2])"
   ]
  },
  {
   "cell_type": "code",
   "execution_count": null,
   "metadata": {},
   "outputs": [],
   "source": []
  },
  {
   "cell_type": "code",
   "execution_count": 66,
   "metadata": {},
   "outputs": [],
   "source": [
    "linearData = trainData.iloc[:, [4 ,9, 12]]\n"
   ]
  },
  {
   "cell_type": "code",
   "execution_count": 67,
   "metadata": {},
   "outputs": [],
   "source": [
    "from sklearn.linear_model import LinearRegression\n",
    "clf = LinearRegression().fit(linearData, trainLabels)\n",
    "#clf.coef_\n",
    "#clf.intercept_\n",
    "#clf.score\n"
   ]
  },
  {
   "cell_type": "code",
   "execution_count": 68,
   "metadata": {},
   "outputs": [
    {
     "data": {
      "text/plain": [
       "0.8522736694312071"
      ]
     },
     "execution_count": 68,
     "metadata": {},
     "output_type": "execute_result"
    }
   ],
   "source": [
    "linearDataV = validateData.iloc[:, [4 ,9, 12]]\n",
    "clf.score(linearDataV,validateLabels)"
   ]
  },
  {
   "cell_type": "code",
   "execution_count": 69,
   "metadata": {},
   "outputs": [
    {
     "data": {
      "text/plain": [
       "array([21778.7995944 ,    47.55354281,    59.93549851])"
      ]
     },
     "execution_count": 69,
     "metadata": {},
     "output_type": "execute_result"
    }
   ],
   "source": [
    "clf.coef_"
   ]
  },
  {
   "cell_type": "code",
   "execution_count": 70,
   "metadata": {},
   "outputs": [
    {
     "data": {
      "text/plain": [
       "-93010.30612691233"
      ]
     },
     "execution_count": 70,
     "metadata": {},
     "output_type": "execute_result"
    }
   ],
   "source": [
    "clf.intercept_"
   ]
  },
  {
   "cell_type": "code",
   "execution_count": 71,
   "metadata": {},
   "outputs": [
    {
     "data": {
      "text/html": [
       "<div>\n",
       "<style scoped>\n",
       "    .dataframe tbody tr th:only-of-type {\n",
       "        vertical-align: middle;\n",
       "    }\n",
       "\n",
       "    .dataframe tbody tr th {\n",
       "        vertical-align: top;\n",
       "    }\n",
       "\n",
       "    .dataframe thead th {\n",
       "        text-align: right;\n",
       "    }\n",
       "</style>\n",
       "<table border=\"1\" class=\"dataframe\">\n",
       "  <thead>\n",
       "    <tr style=\"text-align: right;\">\n",
       "      <th></th>\n",
       "      <th>MSZoning</th>\n",
       "      <th>LotArea</th>\n",
       "      <th>Neighborhood</th>\n",
       "      <th>BldgType</th>\n",
       "      <th>OverallQual</th>\n",
       "      <th>OverallCond</th>\n",
       "      <th>YearBuilt</th>\n",
       "      <th>YearRemodAdd</th>\n",
       "      <th>RoofStyle</th>\n",
       "      <th>TotalBsmtSF</th>\n",
       "      <th>HeatingQC</th>\n",
       "      <th>CentralAir</th>\n",
       "      <th>GrLivArea</th>\n",
       "      <th>TotRmsAbvGrd</th>\n",
       "      <th>GarageCars</th>\n",
       "      <th>YrSold</th>\n",
       "      <th>SalePrice</th>\n",
       "    </tr>\n",
       "  </thead>\n",
       "  <tbody>\n",
       "    <tr>\n",
       "      <td>1</td>\n",
       "      <td>RL</td>\n",
       "      <td>12256</td>\n",
       "      <td>NoRidge</td>\n",
       "      <td>1Fam</td>\n",
       "      <td>8</td>\n",
       "      <td>5</td>\n",
       "      <td>1994</td>\n",
       "      <td>1995</td>\n",
       "      <td>Gable</td>\n",
       "      <td>1463</td>\n",
       "      <td>Ex</td>\n",
       "      <td>Y</td>\n",
       "      <td>2622</td>\n",
       "      <td>9</td>\n",
       "      <td>2</td>\n",
       "      <td>2010</td>\n",
       "      <td>325000</td>\n",
       "    </tr>\n",
       "  </tbody>\n",
       "</table>\n",
       "</div>"
      ],
      "text/plain": [
       "  MSZoning  LotArea Neighborhood BldgType  OverallQual  OverallCond  \\\n",
       "1       RL    12256      NoRidge     1Fam            8            5   \n",
       "\n",
       "   YearBuilt  YearRemodAdd RoofStyle  TotalBsmtSF HeatingQC CentralAir  \\\n",
       "1       1994          1995     Gable         1463        Ex          Y   \n",
       "\n",
       "   GrLivArea  TotRmsAbvGrd  GarageCars  YrSold  SalePrice  \n",
       "1       2622             9           2    2010     325000  "
      ]
     },
     "execution_count": 71,
     "metadata": {},
     "output_type": "execute_result"
    }
   ],
   "source": [
    "data[1:2] #vvlt lieber dataP also data Prepared nehmen (weniger Spalten)"
   ]
  },
  {
   "cell_type": "markdown",
   "metadata": {},
   "source": [
    "SalePrice = 20733.21608279 * OverallQual + 45.01412324 * TotalBsmtSF +  62.89920511 * GrLIvArea \n",
    "SalePrice = 20733.21608279 * 4 + 45.01412324 * 721 +   62.89920511 * 841 - 88040.06676312693(1)\n",
    "predicted SalePrice =  80246.21192158308\n",
    "actuelle SalePrice =  82000\n",
    "p(Abweichung) =  1 -80246.21192158308/82000 = 0.021387659492889344\n"
   ]
  },
  {
   "cell_type": "code",
   "execution_count": 72,
   "metadata": {},
   "outputs": [
    {
     "data": {
      "text/plain": [
       "array([307941.80085104])"
      ]
     },
     "execution_count": 72,
     "metadata": {},
     "output_type": "execute_result"
    }
   ],
   "source": [
    "clf.predict(data.iloc[1:2, [4 ,9, 12]])"
   ]
  },
  {
   "cell_type": "markdown",
   "metadata": {},
   "source": [
    "#Klassifikation\n"
   ]
  },
  {
   "cell_type": "code",
   "execution_count": 73,
   "metadata": {},
   "outputs": [
    {
     "data": {
      "text/html": [
       "<div>\n",
       "<style scoped>\n",
       "    .dataframe tbody tr th:only-of-type {\n",
       "        vertical-align: middle;\n",
       "    }\n",
       "\n",
       "    .dataframe tbody tr th {\n",
       "        vertical-align: top;\n",
       "    }\n",
       "\n",
       "    .dataframe thead th {\n",
       "        text-align: right;\n",
       "    }\n",
       "</style>\n",
       "<table border=\"1\" class=\"dataframe\">\n",
       "  <thead>\n",
       "    <tr style=\"text-align: right;\">\n",
       "      <th></th>\n",
       "      <th>MSZoning</th>\n",
       "      <th>LotArea</th>\n",
       "      <th>Neighborhood</th>\n",
       "      <th>BldgType</th>\n",
       "      <th>OverallQual</th>\n",
       "      <th>OverallCond</th>\n",
       "      <th>YearBuilt</th>\n",
       "      <th>YearRemodAdd</th>\n",
       "      <th>RoofStyle</th>\n",
       "      <th>TotalBsmtSF</th>\n",
       "      <th>HeatingQC</th>\n",
       "      <th>GrLivArea</th>\n",
       "      <th>GarageCars</th>\n",
       "      <th>SalePrice</th>\n",
       "    </tr>\n",
       "  </thead>\n",
       "  <tbody>\n",
       "    <tr>\n",
       "      <td>332</td>\n",
       "      <td>1</td>\n",
       "      <td>10998</td>\n",
       "      <td>4</td>\n",
       "      <td>1</td>\n",
       "      <td>5</td>\n",
       "      <td>5</td>\n",
       "      <td>1941</td>\n",
       "      <td>1960</td>\n",
       "      <td>1</td>\n",
       "      <td>984</td>\n",
       "      <td>1</td>\n",
       "      <td>1604</td>\n",
       "      <td>2</td>\n",
       "      <td>117000</td>\n",
       "    </tr>\n",
       "    <tr>\n",
       "      <td>639</td>\n",
       "      <td>1</td>\n",
       "      <td>12378</td>\n",
       "      <td>9</td>\n",
       "      <td>1</td>\n",
       "      <td>9</td>\n",
       "      <td>5</td>\n",
       "      <td>2003</td>\n",
       "      <td>2004</td>\n",
       "      <td>1</td>\n",
       "      <td>1896</td>\n",
       "      <td>1</td>\n",
       "      <td>1944</td>\n",
       "      <td>3</td>\n",
       "      <td>360000</td>\n",
       "    </tr>\n",
       "    <tr>\n",
       "      <td>327</td>\n",
       "      <td>1</td>\n",
       "      <td>6600</td>\n",
       "      <td>13</td>\n",
       "      <td>1</td>\n",
       "      <td>5</td>\n",
       "      <td>9</td>\n",
       "      <td>1982</td>\n",
       "      <td>2008</td>\n",
       "      <td>1</td>\n",
       "      <td>816</td>\n",
       "      <td>1</td>\n",
       "      <td>816</td>\n",
       "      <td>1</td>\n",
       "      <td>130500</td>\n",
       "    </tr>\n",
       "    <tr>\n",
       "      <td>850</td>\n",
       "      <td>1</td>\n",
       "      <td>7052</td>\n",
       "      <td>9</td>\n",
       "      <td>2</td>\n",
       "      <td>7</td>\n",
       "      <td>5</td>\n",
       "      <td>2005</td>\n",
       "      <td>2005</td>\n",
       "      <td>1</td>\n",
       "      <td>1364</td>\n",
       "      <td>1</td>\n",
       "      <td>1364</td>\n",
       "      <td>2</td>\n",
       "      <td>185850</td>\n",
       "    </tr>\n",
       "    <tr>\n",
       "      <td>39</td>\n",
       "      <td>1</td>\n",
       "      <td>12456</td>\n",
       "      <td>9</td>\n",
       "      <td>1</td>\n",
       "      <td>10</td>\n",
       "      <td>5</td>\n",
       "      <td>2006</td>\n",
       "      <td>2007</td>\n",
       "      <td>2</td>\n",
       "      <td>1700</td>\n",
       "      <td>1</td>\n",
       "      <td>1718</td>\n",
       "      <td>3</td>\n",
       "      <td>337500</td>\n",
       "    </tr>\n",
       "    <tr>\n",
       "      <td>...</td>\n",
       "      <td>...</td>\n",
       "      <td>...</td>\n",
       "      <td>...</td>\n",
       "      <td>...</td>\n",
       "      <td>...</td>\n",
       "      <td>...</td>\n",
       "      <td>...</td>\n",
       "      <td>...</td>\n",
       "      <td>...</td>\n",
       "      <td>...</td>\n",
       "      <td>...</td>\n",
       "      <td>...</td>\n",
       "      <td>...</td>\n",
       "      <td>...</td>\n",
       "    </tr>\n",
       "    <tr>\n",
       "      <td>107</td>\n",
       "      <td>2</td>\n",
       "      <td>4608</td>\n",
       "      <td>3</td>\n",
       "      <td>1</td>\n",
       "      <td>4</td>\n",
       "      <td>6</td>\n",
       "      <td>1945</td>\n",
       "      <td>1950</td>\n",
       "      <td>1</td>\n",
       "      <td>747</td>\n",
       "      <td>2</td>\n",
       "      <td>747</td>\n",
       "      <td>1</td>\n",
       "      <td>80000</td>\n",
       "    </tr>\n",
       "    <tr>\n",
       "      <td>271</td>\n",
       "      <td>1</td>\n",
       "      <td>8400</td>\n",
       "      <td>17</td>\n",
       "      <td>1</td>\n",
       "      <td>5</td>\n",
       "      <td>8</td>\n",
       "      <td>1939</td>\n",
       "      <td>1997</td>\n",
       "      <td>1</td>\n",
       "      <td>720</td>\n",
       "      <td>1</td>\n",
       "      <td>2192</td>\n",
       "      <td>1</td>\n",
       "      <td>179500</td>\n",
       "    </tr>\n",
       "    <tr>\n",
       "      <td>862</td>\n",
       "      <td>1</td>\n",
       "      <td>11988</td>\n",
       "      <td>11</td>\n",
       "      <td>1</td>\n",
       "      <td>6</td>\n",
       "      <td>7</td>\n",
       "      <td>1934</td>\n",
       "      <td>1995</td>\n",
       "      <td>2</td>\n",
       "      <td>715</td>\n",
       "      <td>4</td>\n",
       "      <td>1660</td>\n",
       "      <td>1</td>\n",
       "      <td>188700</td>\n",
       "    </tr>\n",
       "    <tr>\n",
       "      <td>436</td>\n",
       "      <td>1</td>\n",
       "      <td>8400</td>\n",
       "      <td>2</td>\n",
       "      <td>1</td>\n",
       "      <td>7</td>\n",
       "      <td>5</td>\n",
       "      <td>2004</td>\n",
       "      <td>2005</td>\n",
       "      <td>1</td>\n",
       "      <td>1473</td>\n",
       "      <td>1</td>\n",
       "      <td>1484</td>\n",
       "      <td>2</td>\n",
       "      <td>213000</td>\n",
       "    </tr>\n",
       "    <tr>\n",
       "      <td>103</td>\n",
       "      <td>1</td>\n",
       "      <td>8400</td>\n",
       "      <td>17</td>\n",
       "      <td>1</td>\n",
       "      <td>2</td>\n",
       "      <td>5</td>\n",
       "      <td>1920</td>\n",
       "      <td>1950</td>\n",
       "      <td>1</td>\n",
       "      <td>290</td>\n",
       "      <td>2</td>\n",
       "      <td>438</td>\n",
       "      <td>1</td>\n",
       "      <td>60000</td>\n",
       "    </tr>\n",
       "  </tbody>\n",
       "</table>\n",
       "<p>898 rows × 14 columns</p>\n",
       "</div>"
      ],
      "text/plain": [
       "     MSZoning  LotArea  Neighborhood  BldgType  OverallQual  OverallCond  \\\n",
       "332         1    10998             4         1            5            5   \n",
       "639         1    12378             9         1            9            5   \n",
       "327         1     6600            13         1            5            9   \n",
       "850         1     7052             9         2            7            5   \n",
       "39          1    12456             9         1           10            5   \n",
       "..        ...      ...           ...       ...          ...          ...   \n",
       "107         2     4608             3         1            4            6   \n",
       "271         1     8400            17         1            5            8   \n",
       "862         1    11988            11         1            6            7   \n",
       "436         1     8400             2         1            7            5   \n",
       "103         1     8400            17         1            2            5   \n",
       "\n",
       "     YearBuilt  YearRemodAdd  RoofStyle  TotalBsmtSF  HeatingQC  GrLivArea  \\\n",
       "332       1941          1960          1          984          1       1604   \n",
       "639       2003          2004          1         1896          1       1944   \n",
       "327       1982          2008          1          816          1        816   \n",
       "850       2005          2005          1         1364          1       1364   \n",
       "39        2006          2007          2         1700          1       1718   \n",
       "..         ...           ...        ...          ...        ...        ...   \n",
       "107       1945          1950          1          747          2        747   \n",
       "271       1939          1997          1          720          1       2192   \n",
       "862       1934          1995          2          715          4       1660   \n",
       "436       2004          2005          1         1473          1       1484   \n",
       "103       1920          1950          1          290          2        438   \n",
       "\n",
       "     GarageCars  SalePrice  \n",
       "332           2     117000  \n",
       "639           3     360000  \n",
       "327           1     130500  \n",
       "850           2     185850  \n",
       "39            3     337500  \n",
       "..          ...        ...  \n",
       "107           1      80000  \n",
       "271           1     179500  \n",
       "862           1     188700  \n",
       "436           2     213000  \n",
       "103           1      60000  \n",
       "\n",
       "[898 rows x 14 columns]"
      ]
     },
     "execution_count": 73,
     "metadata": {},
     "output_type": "execute_result"
    }
   ],
   "source": [
    "caData = dataP.loc[:, dataP.columns != 'CentralAir']\n",
    "caData"
   ]
  },
  {
   "cell_type": "code",
   "execution_count": 74,
   "metadata": {},
   "outputs": [
    {
     "data": {
      "text/plain": [
       "332    1\n",
       "639    1\n",
       "327    1\n",
       "850    1\n",
       "39     1\n",
       "      ..\n",
       "107    1\n",
       "271    1\n",
       "862    1\n",
       "436    1\n",
       "103    2\n",
       "Name: CentralAir, Length: 898, dtype: int64"
      ]
     },
     "execution_count": 74,
     "metadata": {},
     "output_type": "execute_result"
    }
   ],
   "source": [
    "caLabels = dataP[\"CentralAir\"]\n",
    "caLabels"
   ]
  },
  {
   "cell_type": "code",
   "execution_count": 75,
   "metadata": {},
   "outputs": [],
   "source": [
    "trainCaData = caData[0:math.floor(lenDataSet*0.8)]"
   ]
  },
  {
   "cell_type": "code",
   "execution_count": 76,
   "metadata": {},
   "outputs": [],
   "source": [
    "validateCaData = caData[math.ceil(lenDataSet*0.8):math.floor(lenDataSet*0.95)] "
   ]
  },
  {
   "cell_type": "code",
   "execution_count": 77,
   "metadata": {},
   "outputs": [],
   "source": [
    "testCaData = caData[math.ceil(lenDataSet*0.95):]"
   ]
  },
  {
   "cell_type": "code",
   "execution_count": 78,
   "metadata": {},
   "outputs": [],
   "source": [
    "trainCaLabels = caLabels[0:math.floor(lenDataSet*0.8)] "
   ]
  },
  {
   "cell_type": "code",
   "execution_count": 79,
   "metadata": {},
   "outputs": [],
   "source": [
    "validateCaLabels = caLabels[math.ceil(lenDataSet*0.8):math.floor(lenDataSet*0.95)]"
   ]
  },
  {
   "cell_type": "code",
   "execution_count": 80,
   "metadata": {},
   "outputs": [],
   "source": [
    "testCaLabels = caLabels[math.ceil(lenDataSet*0.95):]"
   ]
  },
  {
   "cell_type": "code",
   "execution_count": null,
   "metadata": {},
   "outputs": [],
   "source": []
  },
  {
   "cell_type": "code",
   "execution_count": null,
   "metadata": {},
   "outputs": [],
   "source": []
  },
  {
   "cell_type": "code",
   "execution_count": null,
   "metadata": {},
   "outputs": [],
   "source": []
  },
  {
   "cell_type": "code",
   "execution_count": null,
   "metadata": {},
   "outputs": [],
   "source": []
  },
  {
   "cell_type": "code",
   "execution_count": null,
   "metadata": {},
   "outputs": [],
   "source": []
  },
  {
   "cell_type": "code",
   "execution_count": 81,
   "metadata": {},
   "outputs": [
    {
     "data": {
      "text/plain": [
       "0.9328358208955224"
      ]
     },
     "execution_count": 81,
     "metadata": {},
     "output_type": "execute_result"
    }
   ],
   "source": [
    "from sklearn import tree\n",
    "dtC= tree.DecisionTreeClassifier()\n",
    "dtC = dtC.fit(trainCaData, trainCaLabels)\n",
    "dtC.score(validateCaData,validateCaLabels)\n"
   ]
  },
  {
   "cell_type": "code",
   "execution_count": 82,
   "metadata": {},
   "outputs": [],
   "source": [
    "#from sklearn.externals.six import StringIO  \n",
    "#from IPython.display import Image  \n",
    "#from sklearn.tree import export_graphviz\n",
    "#import pydotplus\n",
    "#dot_data = StringIO()\n",
    "#feature_names = caData.columns\n",
    "#tree.export_graphviz(dtC, out_file=dot_data,\n",
    "#                     feature_names=feature_names ,\n",
    "#                     class_names=True)\n",
    "#graph = pydotplus.graph_from_dot_data(dot_data.getvalue())  \n",
    "#Image(graph.create_png())"
   ]
  },
  {
   "cell_type": "code",
   "execution_count": null,
   "metadata": {},
   "outputs": [],
   "source": []
  },
  {
   "cell_type": "code",
   "execution_count": 83,
   "metadata": {},
   "outputs": [],
   "source": [
    "from sklearn.ensemble import RandomForestClassifier"
   ]
  },
  {
   "cell_type": "code",
   "execution_count": 84,
   "metadata": {},
   "outputs": [
    {
     "name": "stderr",
     "output_type": "stream",
     "text": [
      "C:\\Users\\meton\\Anaconda3\\lib\\site-packages\\sklearn\\ensemble\\forest.py:245: FutureWarning: The default value of n_estimators will change from 10 in version 0.20 to 100 in 0.22.\n",
      "  \"10 in version 0.20 to 100 in 0.22.\", FutureWarning)\n"
     ]
    },
    {
     "data": {
      "text/plain": [
       "0.9328358208955224"
      ]
     },
     "execution_count": 84,
     "metadata": {},
     "output_type": "execute_result"
    }
   ],
   "source": [
    "rfC = RandomForestClassifier(max_depth=2, random_state=0)\n",
    "rfC.fit(trainCaData, trainCaLabels)\n",
    "rfC.score(validateCaData, validateCaLabels)"
   ]
  },
  {
   "cell_type": "code",
   "execution_count": 85,
   "metadata": {},
   "outputs": [],
   "source": [
    "from sklearn.ensemble import GradientBoostingClassifier"
   ]
  },
  {
   "cell_type": "code",
   "execution_count": 86,
   "metadata": {},
   "outputs": [
    {
     "data": {
      "text/plain": [
       "0.9402985074626866"
      ]
     },
     "execution_count": 86,
     "metadata": {},
     "output_type": "execute_result"
    }
   ],
   "source": [
    "gbC = GradientBoostingClassifier(n_estimators=20, max_features=2, max_depth=2, random_state=0)\n",
    "gbC.fit(trainCaData, trainCaLabels)\n",
    "gbC.score(validateCaData, validateCaLabels)"
   ]
  },
  {
   "cell_type": "markdown",
   "metadata": {},
   "source": [
    "93% der Häuser haben eine Klimaanlage. Beachten!!!"
   ]
  },
  {
   "cell_type": "code",
   "execution_count": 87,
   "metadata": {},
   "outputs": [],
   "source": [
    "from sklearn.metrics import accuracy_score, mean_squared_error, r2_score, confusion_matrix\n",
    "\n",
    "def readData(filename):\n",
    "    if str(filename):\n",
    "        dataFrame = pd.read_csv(filename, sep= \";\")\n",
    "        return dataFrame;\n",
    "    \n",
    "def prepareDataRegression(dataFrame):\n",
    "    if type(dataFrame) == pd.core.frame.DataFrame:\n",
    "        #Data Preparation\n",
    "        #Spalten entfernen\n",
    "        if \"YrSold\" in dataFrame.columns:\n",
    "            dataFrame = dataFrame.drop(\"YrSold\", axis=1)\n",
    "        if \"TotRmsAbvGrd\" in dataFrame.columns:\n",
    "            dataFrame = dataFrame.drop(\"TotRmsAbvGrd\", axis=1)\n",
    "        \n",
    "        \n",
    "        #One hot encoding\n",
    "        for element in stringLabels:\n",
    "            dataFrame.loc[:,element] = text_to_numbers(dataFrame.loc[:,element])\n",
    "            \n",
    "        return dataFrame\n",
    "    \n",
    "def splitDataRegression(dataFrame):\n",
    "    if type(dataFrame) == pd.core.frame.DataFrame:\n",
    "        #Data Splitting in Data und Sale Price\n",
    "        x = dataFrame.drop('SalePrice', axis=1)\n",
    "        y = dataFrame.SalePrice\n",
    "        return x,y\n",
    "            \n",
    "def applyRegressor(model, dataFrame):\n",
    "    if type(dataFrame) == pd.core.frame.DataFrame:\n",
    "        dataFrame = prepareDataRegression(dataFrame)\n",
    "        x,y = splitDataRegression(dataFrame)\n",
    "        \n",
    "        if isinstance(model, sklearn.linear_model.base.LinearRegression) :\n",
    "            #nutzen von nur 3 Features bei der Linearen Regression.\n",
    "            #hier eventuell bei Fehler _base oder base schreiben!!!!!\n",
    "            x = x.iloc[:, [4 ,9, 12]]\n",
    "\n",
    "\n",
    "        #Führe Prediction durch und berechne Messwerte\n",
    "        pred = model.predict(x)\n",
    "        r2 = r2_score(y,pred)\n",
    "        mse = mean_squared_error(y, pred)\n",
    "        rmse = np.sqrt(mse)\n",
    "        mape = np.mean(np.abs((y - pred) / y)) * 100\n",
    "        maxDiff = np.amax(np.subtract(y,pred))\n",
    "        \n",
    "        return {\"r2\":r2,\"mse\": mse,\"rmse\":rmse,\"mape\":mape,\"maxDiff\": maxDiff}\n",
    "        \n",
    "def splitDataClassification(dataFrame):\n",
    "    if type(dataFrame) == pd.core.frame.DataFrame:\n",
    "        x = dataFrame.drop(\"CentralAir\",axis = 1)\n",
    "        y = dataFrame[\"CentralAir\"]\n",
    "        return x,y\n",
    "\n",
    "def applyClassifier(model, dataFrame):\n",
    "    if type(dataFrame) == pd.core.frame.DataFrame:\n",
    "        dataFrame = prepareDataRegression(dataFrame)\n",
    "        x, y = splitDataClassification(dataFrame)\n",
    "        #Führe Prediction durch und berechne Messwerte\n",
    "        prediction = model.predict(x)\n",
    "        dataFrameSize = len(x.index)\n",
    "        confMat = confusion_matrix(y,prediction).flatten()\n",
    "        truePositive,falseNegative,falsePositive,trueNegative = np.array(confMat,dtype='f')\n",
    "\n",
    "        \n",
    "        if (trueNegative + falsePositive) > 0:\n",
    "            falsePositiveRate = falsePositive/(trueNegative + falsePositive)\n",
    "        else:\n",
    "            falsePositiveRate = 0\n",
    "        if (truePositive + falseNegative) > 0:\n",
    "            falseNegativeRate = falseNegative/(truePositive + falseNegative)\n",
    "        else:\n",
    "            falseNegativeRate = 0\n",
    "    \n",
    "        accuracy = (trueNegative + truePositive) / len(dataFrame)\n",
    "        \n",
    "        return {\"accuracy\": accuracy, \"falsePositiveRate\": falsePositiveRate, \"falseNegativeRate\": falseNegativeRate}\n",
    "        \n",
    "        \n",
    "def exportModel(filename):\n",
    "    dump([clf,gbR,rfR,dtC,rfC,gbC], filename)\n",
    "    \n",
    "def importModel(filename):\n",
    "    return load(filename)"
   ]
  },
  {
   "cell_type": "code",
   "execution_count": null,
   "metadata": {},
   "outputs": [],
   "source": []
  },
  {
   "cell_type": "code",
   "execution_count": 88,
   "metadata": {},
   "outputs": [],
   "source": [
    "rg = []\n",
    "testdata = data[math.ceil(lenDataSet*0.8):]"
   ]
  },
  {
   "cell_type": "code",
   "execution_count": 89,
   "metadata": {
    "scrolled": false
   },
   "outputs": [],
   "source": [
    "#Linear Regression\n",
    "rg.append(applyRegressor(clf,testdata))\n"
   ]
  },
  {
   "cell_type": "code",
   "execution_count": 90,
   "metadata": {
    "scrolled": true
   },
   "outputs": [],
   "source": [
    "#Gradient Boosting Tree Regression\n",
    "rg.append(applyRegressor(gbR,testdata))"
   ]
  },
  {
   "cell_type": "code",
   "execution_count": 91,
   "metadata": {
    "scrolled": false
   },
   "outputs": [],
   "source": [
    "#Random Forest Regression\n",
    "rg.append(applyRegressor(rfR,testdata))"
   ]
  },
  {
   "cell_type": "code",
   "execution_count": 92,
   "metadata": {},
   "outputs": [
    {
     "data": {
      "text/plain": [
       "<matplotlib.axes._subplots.AxesSubplot at 0x2be8f42e948>"
      ]
     },
     "execution_count": 92,
     "metadata": {},
     "output_type": "execute_result"
    },
    {
     "data": {
      "image/png": "[encoded data removed]",
      "text/plain": [
       "<Figure size 432x288 with 1 Axes>"
      ]
     },
     "metadata": {
      "needs_background": "light"
     },
     "output_type": "display_data"
    }
   ],
   "source": [
    "r2=[]\n",
    "mse=[]\n",
    "rmse = []\n",
    "mape=[]\n",
    "maxD=[]\n",
    "for i in rg:\n",
    "    r2.append(i[\"r2\"])\n",
    "    mse.append(i[\"mse\"])\n",
    "    rmse.append(i[\"rmse\"])\n",
    "    mape.append(i[\"mape\"])\n",
    "    maxD.append(i[\"maxDiff\"])\n",
    "#r2\n",
    "sb.barplot([\"Linear\",\"Gradient Boosting Tree\",\"Random Forest\"],r2)\n"
   ]
  },
  {
   "cell_type": "code",
   "execution_count": 93,
   "metadata": {},
   "outputs": [
    {
     "data": {
      "text/plain": [
       "<matplotlib.axes._subplots.AxesSubplot at 0x2be91488508>"
      ]
     },
     "execution_count": 93,
     "metadata": {},
     "output_type": "execute_result"
    },
    {
     "data": {
      "image/png": "[encoded data removed]",
      "text/plain": [
       "<Figure size 432x288 with 1 Axes>"
      ]
     },
     "metadata": {
      "needs_background": "light"
     },
     "output_type": "display_data"
    }
   ],
   "source": [
    "sb.barplot([\"Linear\",\"Gradient Boosting Tree\",\"Random Forest\"],mse)"
   ]
  },
  {
   "cell_type": "code",
   "execution_count": 94,
   "metadata": {},
   "outputs": [
    {
     "data": {
      "text/plain": [
       "<matplotlib.axes._subplots.AxesSubplot at 0x2be8b1f5a88>"
      ]
     },
     "execution_count": 94,
     "metadata": {},
     "output_type": "execute_result"
    },
    {
     "data": {
      "image/png": "[encoded data removed]",
      "text/plain": [
       "<Figure size 432x288 with 1 Axes>"
      ]
     },
     "metadata": {
      "needs_background": "light"
     },
     "output_type": "display_data"
    }
   ],
   "source": [
    "sb.barplot([\"Linear\",\"Gradient Boosting Tree\",\"Random Forest\"],rmse)"
   ]
  },
  {
   "cell_type": "code",
   "execution_count": 95,
   "metadata": {},
   "outputs": [
    {
     "data": {
      "text/plain": [
       "<matplotlib.axes._subplots.AxesSubplot at 0x2be91534a08>"
      ]
     },
     "execution_count": 95,
     "metadata": {},
     "output_type": "execute_result"
    },
    {
     "data": {
      "image/png": "[encoded data removed]",
      "text/plain": [
       "<Figure size 432x288 with 1 Axes>"
      ]
     },
     "metadata": {
      "needs_background": "light"
     },
     "output_type": "display_data"
    }
   ],
   "source": [
    "sb.barplot([\"Linear\",\"Gradient Boosting Tree\",\"Random Forest\"],mape)"
   ]
  },
  {
   "cell_type": "code",
   "execution_count": 96,
   "metadata": {},
   "outputs": [
    {
     "data": {
      "text/plain": [
       "<matplotlib.axes._subplots.AxesSubplot at 0x2be9159de48>"
      ]
     },
     "execution_count": 96,
     "metadata": {},
     "output_type": "execute_result"
    },
    {
     "data": {
      "image/png": "[encoded data removed]",
      "text/plain": [
       "<Figure size 432x288 with 1 Axes>"
      ]
     },
     "metadata": {
      "needs_background": "light"
     },
     "output_type": "display_data"
    }
   ],
   "source": [
    "sb.barplot([\"Linear\",\"Gradient Boosting Tree\",\"Random Forest\"],maxD)"
   ]
  },
  {
   "cell_type": "markdown",
   "metadata": {},
   "source": [
    "Wie erwartet ist der Lineare Regressor der mit Abstand schlechteste Regressor unserer Modelle, da es sich nur auf 3 Werte aus den gegebenen Werten bezieht und es vom Aufbau mit das leichteste ist.\n",
    "\n",
    "Gradient Boosting Tree Regressor und Random Forest Regressor unterscheiden sich in den Messwerten R^2, MSE und RMSE relativ wenig.\n",
    "Sie unterscheiden sich in der maximalen Differenz und dem MAPE Wert. Wir bevorzugen den MAPE Wert, weil die Maximale Differenz wenig aussagt, da sie durch einen Ausreißer stark verändert werden kann.\n",
    "Da aber Random Forest einen besseren MAPE Wert besitzt werden wir dieses Modell weiter optimieren."
   ]
  },
  {
   "cell_type": "code",
   "execution_count": 97,
   "metadata": {},
   "outputs": [],
   "source": [
    "cl = []"
   ]
  },
  {
   "cell_type": "code",
   "execution_count": 98,
   "metadata": {
    "scrolled": true
   },
   "outputs": [],
   "source": [
    "#Decision Tree Classifier\n",
    "cl.append(applyClassifier(dtC, testdata))\n"
   ]
  },
  {
   "cell_type": "code",
   "execution_count": 99,
   "metadata": {
    "scrolled": true
   },
   "outputs": [],
   "source": [
    "#Random Forest Classifier\n",
    "cl.append(applyClassifier(rfC, testdata))"
   ]
  },
  {
   "cell_type": "code",
   "execution_count": 100,
   "metadata": {
    "scrolled": false
   },
   "outputs": [],
   "source": [
    "#Gradient Boosting Tree Classifier\n",
    "cl.append(applyClassifier(gbC, testdata))"
   ]
  },
  {
   "cell_type": "markdown",
   "metadata": {},
   "source": []
  },
  {
   "cell_type": "code",
   "execution_count": 101,
   "metadata": {},
   "outputs": [
    {
     "name": "stdout",
     "output_type": "stream",
     "text": [
      "{'accuracy': 0.994413407821229, 'falsePositiveRate': 0.125, 'falseNegativeRate': 0.0}\n",
      "{'accuracy': 0.9553072625698324, 'falsePositiveRate': 1.0, 'falseNegativeRate': 0.0}\n",
      "{'accuracy': 0.9664804469273743, 'falsePositiveRate': 0.75, 'falseNegativeRate': 0.0}\n"
     ]
    },
    {
     "data": {
      "text/plain": [
       "<matplotlib.axes._subplots.AxesSubplot at 0x2be91603788>"
      ]
     },
     "execution_count": 101,
     "metadata": {},
     "output_type": "execute_result"
    },
    {
     "data": {
      "image/png": "[encoded data removed]",
      "text/plain": [
       "<Figure size 432x288 with 1 Axes>"
      ]
     },
     "metadata": {
      "needs_background": "light"
     },
     "output_type": "display_data"
    }
   ],
   "source": [
    "#{\"accuracy\": accuracy, \"falsePositiveRate\": falsePositiveRate, \"falseNegativeRate\": falseNegativeRate}\n",
    "accuracy= []\n",
    "falsePositiveRate =[]\n",
    "falseNegativeRate = []\n",
    "\n",
    "for i in cl:\n",
    "    print(i)\n",
    "    accuracy.append(i[\"accuracy\"])\n",
    "    falsePositiveRate.append(i[\"falsePositiveRate\"])\n",
    "    falseNegativeRate.append(i[\"falseNegativeRate\"])\n",
    "    \n",
    "#r2\n",
    "sb.barplot([\"Tree\",\"Random Forest\",\"Gradient Boosting Tree\"],accuracy)"
   ]
  },
  {
   "cell_type": "code",
   "execution_count": 102,
   "metadata": {},
   "outputs": [
    {
     "data": {
      "text/plain": [
       "<matplotlib.axes._subplots.AxesSubplot at 0x2be916751c8>"
      ]
     },
     "execution_count": 102,
     "metadata": {},
     "output_type": "execute_result"
    },
    {
     "data": {
      "image/png": "[encoded data removed]",
      "text/plain": [
       "<Figure size 432x288 with 1 Axes>"
      ]
     },
     "metadata": {
      "needs_background": "light"
     },
     "output_type": "display_data"
    }
   ],
   "source": [
    "sb.barplot([\"Tree\",\"Random Forest\",\"Gradient Boosting Tree\"],falsePositiveRate)"
   ]
  },
  {
   "cell_type": "code",
   "execution_count": 103,
   "metadata": {
    "scrolled": true
   },
   "outputs": [
    {
     "data": {
      "text/plain": [
       "<matplotlib.axes._subplots.AxesSubplot at 0x2be915ea788>"
      ]
     },
     "execution_count": 103,
     "metadata": {},
     "output_type": "execute_result"
    },
    {
     "data": {
      "image/png": "[encoded data removed]",
      "text/plain": [
       "<Figure size 432x288 with 1 Axes>"
      ]
     },
     "metadata": {
      "needs_background": "light"
     },
     "output_type": "display_data"
    }
   ],
   "source": [
    "sb.barplot([\"Tree\",\"Random Forest\",\"Gradient Boosting Tree\"],falseNegativeRate)"
   ]
  },
  {
   "cell_type": "markdown",
   "metadata": {},
   "source": [
    "Der Entscheidungsbaum hat wie man sieht die höchste Accuracy und eine gegenüber den anderen Modellen kleinere false Positive Rate.\n",
    "\n",
    "Was auffällt: Bei allen Classifieren liegt die false Negative Rate bei 0.\n",
    "\n",
    "Aufgrund der höheren Accuracy und den allgemein besseren Werten entscheiden wir uns dafür den Entscheidungsbaum zu optimieren und später einzusetzen.\n"
   ]
  },
  {
   "cell_type": "code",
   "execution_count": null,
   "metadata": {},
   "outputs": [],
   "source": []
  },
  {
   "cell_type": "markdown",
   "metadata": {},
   "source": [
    "# Optimierung der Modelle"
   ]
  },
  {
   "cell_type": "code",
   "execution_count": 104,
   "metadata": {},
   "outputs": [
    {
     "data": {
      "text/plain": [
       "{'r2': 0.9560993529271428,\n",
       " 'mse': 307851582.9420675,\n",
       " 'rmse': 17545.699841900507,\n",
       " 'mape': 4.865994812443826,\n",
       " 'maxDiff': 132639.17599999998}"
      ]
     },
     "execution_count": 104,
     "metadata": {},
     "output_type": "execute_result"
    }
   ],
   "source": [
    "#Optimierung Random Forest Regressor\n",
    "#Alt:\n",
    "applyRegressor(rfR,testdata)"
   ]
  },
  {
   "cell_type": "code",
   "execution_count": 105,
   "metadata": {},
   "outputs": [
    {
     "data": {
      "text/plain": [
       "{'r2': 0.9596224600638193,\n",
       " 'mse': 283145930.94790906,\n",
       " 'rmse': 16826.94062947597,\n",
       " 'mape': 4.842240202001849,\n",
       " 'maxDiff': 124262.47597000003}"
      ]
     },
     "execution_count": 105,
     "metadata": {},
     "output_type": "execute_result"
    }
   ],
   "source": [
    "rfR2 = RandomForestRegressor(n_estimators = 100000, random_state = 42, max_features = 3)\n",
    "rfR2.fit(trainData, trainLabels)\n",
    "applyRegressor(rfR2,testdata)"
   ]
  },
  {
   "cell_type": "markdown",
   "metadata": {},
   "source": [
    "Eine höhere Anzahl an Estimators bringt eine höhere Performance in den Messwerten, doch das Berechnen wird immer langsamer sodass wir den Wert für die Tests nicht weiter erhöhen werden als 10000.\n",
    "Die Performance der Messwerte scheint sich einem Grenzwert anzunähern."
   ]
  },
  {
   "cell_type": "code",
   "execution_count": 106,
   "metadata": {},
   "outputs": [
    {
     "data": {
      "text/plain": [
       "{'r2': 0.9596921006232065,\n",
       " 'mse': 282657579.22933996,\n",
       " 'rmse': 16812.42335980569,\n",
       " 'mape': 4.860086231216309,\n",
       " 'maxDiff': 122596.54929999996}"
      ]
     },
     "execution_count": 106,
     "metadata": {},
     "output_type": "execute_result"
    }
   ],
   "source": [
    "rfR3 = RandomForestRegressor(n_estimators = 10000, random_state = 42, max_features = 3)\n",
    "rfR3.fit(trainData, trainLabels)\n",
    "applyRegressor(rfR3,testdata)"
   ]
  },
  {
   "cell_type": "code",
   "execution_count": 107,
   "metadata": {},
   "outputs": [
    {
     "data": {
      "text/plain": [
       "{'r2': 0.9638271582018716,\n",
       " 'mse': 253660648.5226929,\n",
       " 'rmse': 15926.727489434008,\n",
       " 'mape': 4.782334863470758,\n",
       " 'maxDiff': 110640.13919999998}"
      ]
     },
     "execution_count": 107,
     "metadata": {},
     "output_type": "execute_result"
    }
   ],
   "source": [
    "rfR3 = RandomForestRegressor(n_estimators = 10000, random_state = 42, max_features = 4)\n",
    "rfR3.fit(trainData, trainLabels)\n",
    "applyRegressor(rfR3,testdata)"
   ]
  },
  {
   "cell_type": "code",
   "execution_count": 108,
   "metadata": {},
   "outputs": [
    {
     "data": {
      "text/plain": [
       "{'r2': 0.9668657449184039,\n",
       " 'mse': 232352677.1609313,\n",
       " 'rmse': 15243.119010259392,\n",
       " 'mape': 4.876909028725267,\n",
       " 'maxDiff': 91858.71299999999}"
      ]
     },
     "execution_count": 108,
     "metadata": {},
     "output_type": "execute_result"
    }
   ],
   "source": [
    "rfR4 = RandomForestRegressor(n_estimators = 10000, random_state = 42, max_features = 10)\n",
    "rfR4.fit(trainData, trainLabels)\n",
    "applyRegressor(rfR4,testdata)"
   ]
  },
  {
   "cell_type": "code",
   "execution_count": 109,
   "metadata": {},
   "outputs": [
    {
     "data": {
      "text/plain": [
       "{'r2': 0.9666794652310243,\n",
       " 'mse': 233658956.23546538,\n",
       " 'rmse': 15285.907111959872,\n",
       " 'mape': 4.779284998759749,\n",
       " 'maxDiff': 97630.89820000005}"
      ]
     },
     "execution_count": 109,
     "metadata": {},
     "output_type": "execute_result"
    }
   ],
   "source": [
    "rfR5 = RandomForestRegressor(n_estimators = 10000, random_state = 42, max_features = 7)\n",
    "rfR5.fit(trainData, trainLabels)\n",
    "applyRegressor(rfR5,testdata)"
   ]
  },
  {
   "cell_type": "code",
   "execution_count": 110,
   "metadata": {},
   "outputs": [
    {
     "data": {
      "text/plain": [
       "{'r2': 0.9662487872371085,\n",
       " 'mse': 236679068.94463012,\n",
       " 'rmse': 15384.37743116796,\n",
       " 'mape': 4.760277303939834,\n",
       " 'maxDiff': 100803.7352}"
      ]
     },
     "execution_count": 110,
     "metadata": {},
     "output_type": "execute_result"
    }
   ],
   "source": [
    "rfR6 = RandomForestRegressor(n_estimators = 10000, random_state = 42, max_features = 6)\n",
    "rfR6.fit(trainData, trainLabels)\n",
    "applyRegressor(rfR6,testdata)"
   ]
  },
  {
   "cell_type": "code",
   "execution_count": 111,
   "metadata": {},
   "outputs": [
    {
     "data": {
      "text/plain": [
       "{'r2': 0.9666710114435733,\n",
       " 'mse': 233718238.0917064,\n",
       " 'rmse': 15287.84609065994,\n",
       " 'mape': 4.835020220092167,\n",
       " 'maxDiff': 96630.35360000003}"
      ]
     },
     "execution_count": 111,
     "metadata": {},
     "output_type": "execute_result"
    }
   ],
   "source": [
    "rfR7 = RandomForestRegressor(n_estimators = 10000, random_state = 42, max_features = 8)\n",
    "rfR7.fit(trainData, trainLabels)\n",
    "applyRegressor(rfR7,testdata)"
   ]
  },
  {
   "cell_type": "markdown",
   "metadata": {},
   "source": [
    "Wir entscheiden uns für einen Baum mit 6 Features, da er einen niedrigen MAPE Wert aufweißt und die anderen Faktoren, dadurch nicht so viel in Mitleidenschaft gezoigen werden, wie bei anderen Random Forests."
   ]
  },
  {
   "cell_type": "code",
   "execution_count": 112,
   "metadata": {},
   "outputs": [
    {
     "data": {
      "text/plain": [
       "{'r2': 0.9660694262155358,\n",
       " 'mse': 237936831.1438435,\n",
       " 'rmse': 15425.20117028765,\n",
       " 'mape': 4.759337259092023,\n",
       " 'maxDiff': 102369.84892000002}"
      ]
     },
     "execution_count": 112,
     "metadata": {},
     "output_type": "execute_result"
    }
   ],
   "source": [
    "rfRFinal = RandomForestRegressor(n_estimators = 100000, random_state = 42, max_features = 6)\n",
    "rfRFinal.fit(trainData, trainLabels)\n",
    "applyRegressor(rfRFinal,testdata)"
   ]
  },
  {
   "cell_type": "code",
   "execution_count": null,
   "metadata": {},
   "outputs": [],
   "source": []
  },
  {
   "cell_type": "code",
   "execution_count": 113,
   "metadata": {},
   "outputs": [],
   "source": [
    "#Optimieren des Decision Treee Classifiers"
   ]
  },
  {
   "cell_type": "code",
   "execution_count": 115,
   "metadata": {},
   "outputs": [
    {
     "data": {
      "text/plain": [
       "{'accuracy': 0.994413407821229,\n",
       " 'falsePositiveRate': 0.125,\n",
       " 'falseNegativeRate': 0.0}"
      ]
     },
     "execution_count": 115,
     "metadata": {},
     "output_type": "execute_result"
    }
   ],
   "source": [
    "dtC = tree.DecisionTreeClassifier(criterion=\"gini\", max_depth = None, min_samples_split = 2)\n",
    "dtC = dtC.fit(trainCaData, trainCaLabels)\n",
    "applyClassifier(dtC, testdata)"
   ]
  },
  {
   "cell_type": "code",
   "execution_count": 116,
   "metadata": {},
   "outputs": [
    {
     "data": {
      "text/plain": [
       "{'accuracy': 0.994413407821229,\n",
       " 'falsePositiveRate': 0.125,\n",
       " 'falseNegativeRate': 0.0}"
      ]
     },
     "execution_count": 116,
     "metadata": {},
     "output_type": "execute_result"
    }
   ],
   "source": [
    "dtC2 = tree.DecisionTreeClassifier(criterion=\"entropy\", max_depth = None, min_samples_split = 2)\n",
    "dtC2.fit(trainCaData, trainCaLabels)\n",
    "applyClassifier(dtC2, testdata)"
   ]
  },
  {
   "cell_type": "code",
   "execution_count": 135,
   "metadata": {},
   "outputs": [
    {
     "data": {
      "text/plain": [
       "{'accuracy': 0.994413407821229,\n",
       " 'falsePositiveRate': 0.125,\n",
       " 'falseNegativeRate': 0.0}"
      ]
     },
     "execution_count": 135,
     "metadata": {},
     "output_type": "execute_result"
    }
   ],
   "source": [
    "dtC3 = tree.DecisionTreeClassifier(criterion=\"entropy\", max_depth = 11, min_samples_split = 2)\n",
    "dtC3.fit(trainCaData, trainCaLabels)\n",
    "applyClassifier(dtC3, testdata)"
   ]
  },
  {
   "cell_type": "code",
   "execution_count": null,
   "metadata": {},
   "outputs": [],
   "source": [
    "dtC4 = tree.DecisionTreeClassifier(criterion=\"gini\", max_depth = 4, min_samples_split = 2)\n",
    "dtC4.fit(trainCaData, trainCaLabels)\n",
    "applyClassifier(dtC4, testdata)"
   ]
  },
  {
   "cell_type": "markdown",
   "metadata": {},
   "source": [
    "Sobald man das Kriterium ändert und ein bisschen mit der Max Tiefe rumspielt, erhält man das Ergebnis, dass das Kriterium Gini anscheinend besser ist als Entropy, da es mit einer geringeren Tiefe von 4 (bei Gini) zu 11 (bie Entropy) die gelcihe Accuracy und Rates bringt."
   ]
  },
  {
   "cell_type": "code",
   "execution_count": 146,
   "metadata": {},
   "outputs": [
    {
     "data": {
      "text/plain": [
       "{'accuracy': 0.9664804469273743,\n",
       " 'falsePositiveRate': 0.375,\n",
       " 'falseNegativeRate': 0.01754386}"
      ]
     },
     "execution_count": 146,
     "metadata": {},
     "output_type": "execute_result"
    }
   ],
   "source": [
    "dtC5 = tree.DecisionTreeClassifier(criterion=\"gini\", max_depth = 4, min_samples_split = 26)\n",
    "dtC5.fit(trainCaData, trainCaLabels)\n",
    "applyClassifier(dtC5, testdata)"
   ]
  },
  {
   "cell_type": "markdown",
   "metadata": {},
   "source": [
    "Die Variation von minimalen Samples bringt keine besseren Ergebnisse als wir nciht sowieso schon haben. Auch andere Variationen brachten keine weiteren Ergebnisse. Draraus folgend werden wir die Voreinstellungen mit Kriterium gleich Gini, einer unbegrenzten mmaximalen Tiefe und Splitten bei 2."
   ]
  },
  {
   "cell_type": "code",
   "execution_count": null,
   "metadata": {},
   "outputs": [],
   "source": []
  }
 ],
 "metadata": {
  "kernelspec": {
   "display_name": "Python 3",
   "language": "python",
   "name": "python3"
  },
  "language_info": {
   "codemirror_mode": {
    "name": "ipython",
    "version": 3
   },
   "file_extension": ".py",
   "mimetype": "text/x-python",
   "name": "python",
   "nbconvert_exporter": "python",
   "pygments_lexer": "ipython3",
   "version": "3.7.4"
  }
 },
 "nbformat": 4,
 "nbformat_minor": 2
}
