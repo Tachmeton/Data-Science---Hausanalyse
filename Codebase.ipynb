{
 "cells": [
  {
   "cell_type": "code",
   "execution_count": 1,
   "metadata": {},
   "outputs": [],
   "source": [
    "import pandas as pd"
   ]
  },
  {
   "cell_type": "code",
   "execution_count": null,
   "metadata": {},
   "outputs": [],
   "source": []
  },
  {
   "cell_type": "code",
   "execution_count": 2,
   "metadata": {},
   "outputs": [],
   "source": [
    "import seaborn  as sb"
   ]
  },
  {
   "cell_type": "code",
   "execution_count": null,
   "metadata": {},
   "outputs": [],
   "source": []
  },
  {
   "cell_type": "code",
   "execution_count": 3,
   "metadata": {},
   "outputs": [
    {
     "data": {
      "text/plain": [
       "pandas.core.frame.DataFrame"
      ]
     },
     "execution_count": 3,
     "metadata": {},
     "output_type": "execute_result"
    }
   ],
   "source": [
    "data = pd.read_csv(\"SetFiltered.csv\", sep= \";\") \n",
    "type(data)"
   ]
  },
  {
   "cell_type": "markdown",
   "metadata": {},
   "source": [
    "#Erste Erkenntnisse first look\n",
    "\n",
    "Null gibt es sonst nicht\n",
    "NAN auch nicht\n",
    "-1 auch nicht "
   ]
  },
  {
   "cell_type": "code",
   "execution_count": 4,
   "metadata": {},
   "outputs": [
    {
     "data": {
      "text/html": [
       "<div>\n",
       "<style scoped>\n",
       "    .dataframe tbody tr th:only-of-type {\n",
       "        vertical-align: middle;\n",
       "    }\n",
       "\n",
       "    .dataframe tbody tr th {\n",
       "        vertical-align: top;\n",
       "    }\n",
       "\n",
       "    .dataframe thead th {\n",
       "        text-align: right;\n",
       "    }\n",
       "</style>\n",
       "<table border=\"1\" class=\"dataframe\">\n",
       "  <thead>\n",
       "    <tr style=\"text-align: right;\">\n",
       "      <th></th>\n",
       "      <th>MSZoning</th>\n",
       "      <th>LotArea</th>\n",
       "      <th>Neighborhood</th>\n",
       "      <th>BldgType</th>\n",
       "      <th>OverallQual</th>\n",
       "      <th>OverallCond</th>\n",
       "      <th>YearBuilt</th>\n",
       "      <th>YearRemodAdd</th>\n",
       "      <th>RoofStyle</th>\n",
       "      <th>TotalBsmtSF</th>\n",
       "      <th>HeatingQC</th>\n",
       "      <th>CentralAir</th>\n",
       "      <th>GrLivArea</th>\n",
       "      <th>TotRmsAbvGrd</th>\n",
       "      <th>GarageCars</th>\n",
       "      <th>YrSold</th>\n",
       "      <th>SalePrice</th>\n",
       "    </tr>\n",
       "  </thead>\n",
       "  <tbody>\n",
       "    <tr>\n",
       "      <th>81</th>\n",
       "      <td>C (all)</td>\n",
       "      <td>8500</td>\n",
       "      <td>IDOTRR</td>\n",
       "      <td>1Fam</td>\n",
       "      <td>4</td>\n",
       "      <td>4</td>\n",
       "      <td>1920</td>\n",
       "      <td>1950</td>\n",
       "      <td>Gambrel</td>\n",
       "      <td>649</td>\n",
       "      <td>TA</td>\n",
       "      <td>N</td>\n",
       "      <td>1317</td>\n",
       "      <td>6</td>\n",
       "      <td>1</td>\n",
       "      <td>2008</td>\n",
       "      <td>40000</td>\n",
       "    </tr>\n",
       "  </tbody>\n",
       "</table>\n",
       "</div>"
      ],
      "text/plain": [
       "   MSZoning  LotArea Neighborhood BldgType  OverallQual  OverallCond  \\\n",
       "81  C (all)     8500       IDOTRR     1Fam            4            4   \n",
       "\n",
       "    YearBuilt  YearRemodAdd RoofStyle  TotalBsmtSF HeatingQC CentralAir  \\\n",
       "81       1920          1950   Gambrel          649        TA          N   \n",
       "\n",
       "    GrLivArea  TotRmsAbvGrd  GarageCars  YrSold  SalePrice  \n",
       "81       1317             6           1    2008      40000  "
      ]
     },
     "execution_count": 4,
     "metadata": {},
     "output_type": "execute_result"
    }
   ],
   "source": [
    "data[81:82]\n"
   ]
  },
  {
   "cell_type": "code",
   "execution_count": 5,
   "metadata": {},
   "outputs": [
    {
     "data": {
      "text/html": [
       "<div>\n",
       "<style scoped>\n",
       "    .dataframe tbody tr th:only-of-type {\n",
       "        vertical-align: middle;\n",
       "    }\n",
       "\n",
       "    .dataframe tbody tr th {\n",
       "        vertical-align: top;\n",
       "    }\n",
       "\n",
       "    .dataframe thead th {\n",
       "        text-align: right;\n",
       "    }\n",
       "</style>\n",
       "<table border=\"1\" class=\"dataframe\">\n",
       "  <thead>\n",
       "    <tr style=\"text-align: right;\">\n",
       "      <th></th>\n",
       "      <th>LotArea</th>\n",
       "      <th>OverallQual</th>\n",
       "      <th>OverallCond</th>\n",
       "      <th>YearBuilt</th>\n",
       "      <th>YearRemodAdd</th>\n",
       "      <th>TotalBsmtSF</th>\n",
       "      <th>GrLivArea</th>\n",
       "      <th>TotRmsAbvGrd</th>\n",
       "      <th>GarageCars</th>\n",
       "      <th>YrSold</th>\n",
       "      <th>SalePrice</th>\n",
       "    </tr>\n",
       "  </thead>\n",
       "  <tbody>\n",
       "    <tr>\n",
       "      <th>count</th>\n",
       "      <td>900.000000</td>\n",
       "      <td>900.000000</td>\n",
       "      <td>900.000000</td>\n",
       "      <td>900.000000</td>\n",
       "      <td>900.000000</td>\n",
       "      <td>900.000000</td>\n",
       "      <td>900.000000</td>\n",
       "      <td>900.000000</td>\n",
       "      <td>900.000000</td>\n",
       "      <td>900.000000</td>\n",
       "      <td>900.000000</td>\n",
       "    </tr>\n",
       "    <tr>\n",
       "      <th>mean</th>\n",
       "      <td>10629.817778</td>\n",
       "      <td>6.014444</td>\n",
       "      <td>5.652222</td>\n",
       "      <td>1969.347778</td>\n",
       "      <td>1984.185556</td>\n",
       "      <td>1028.166667</td>\n",
       "      <td>1487.441111</td>\n",
       "      <td>6.415556</td>\n",
       "      <td>1.745556</td>\n",
       "      <td>2007.896667</td>\n",
       "      <td>176184.454444</td>\n",
       "    </tr>\n",
       "    <tr>\n",
       "      <th>std</th>\n",
       "      <td>9947.088936</td>\n",
       "      <td>1.336912</td>\n",
       "      <td>1.151555</td>\n",
       "      <td>29.573049</td>\n",
       "      <td>20.195265</td>\n",
       "      <td>403.019702</td>\n",
       "      <td>504.588271</td>\n",
       "      <td>1.601786</td>\n",
       "      <td>0.715887</td>\n",
       "      <td>1.306010</td>\n",
       "      <td>71412.482393</td>\n",
       "    </tr>\n",
       "    <tr>\n",
       "      <th>min</th>\n",
       "      <td>1300.000000</td>\n",
       "      <td>1.000000</td>\n",
       "      <td>1.000000</td>\n",
       "      <td>1872.000000</td>\n",
       "      <td>1950.000000</td>\n",
       "      <td>0.000000</td>\n",
       "      <td>334.000000</td>\n",
       "      <td>2.000000</td>\n",
       "      <td>0.000000</td>\n",
       "      <td>2006.000000</td>\n",
       "      <td>39300.000000</td>\n",
       "    </tr>\n",
       "    <tr>\n",
       "      <th>25%</th>\n",
       "      <td>7432.250000</td>\n",
       "      <td>5.000000</td>\n",
       "      <td>5.000000</td>\n",
       "      <td>1953.000000</td>\n",
       "      <td>1966.000000</td>\n",
       "      <td>790.250000</td>\n",
       "      <td>1102.750000</td>\n",
       "      <td>5.000000</td>\n",
       "      <td>1.000000</td>\n",
       "      <td>2007.000000</td>\n",
       "      <td>130000.000000</td>\n",
       "    </tr>\n",
       "    <tr>\n",
       "      <th>50%</th>\n",
       "      <td>9475.000000</td>\n",
       "      <td>6.000000</td>\n",
       "      <td>5.000000</td>\n",
       "      <td>1971.000000</td>\n",
       "      <td>1993.000000</td>\n",
       "      <td>968.500000</td>\n",
       "      <td>1443.500000</td>\n",
       "      <td>6.000000</td>\n",
       "      <td>2.000000</td>\n",
       "      <td>2008.000000</td>\n",
       "      <td>161000.000000</td>\n",
       "    </tr>\n",
       "    <tr>\n",
       "      <th>75%</th>\n",
       "      <td>11700.000000</td>\n",
       "      <td>7.000000</td>\n",
       "      <td>6.000000</td>\n",
       "      <td>1998.000000</td>\n",
       "      <td>2002.000000</td>\n",
       "      <td>1249.500000</td>\n",
       "      <td>1750.500000</td>\n",
       "      <td>7.000000</td>\n",
       "      <td>2.000000</td>\n",
       "      <td>2009.000000</td>\n",
       "      <td>205000.000000</td>\n",
       "    </tr>\n",
       "    <tr>\n",
       "      <th>max</th>\n",
       "      <td>164660.000000</td>\n",
       "      <td>10.000000</td>\n",
       "      <td>9.000000</td>\n",
       "      <td>2009.000000</td>\n",
       "      <td>2009.000000</td>\n",
       "      <td>3206.000000</td>\n",
       "      <td>4316.000000</td>\n",
       "      <td>12.000000</td>\n",
       "      <td>4.000000</td>\n",
       "      <td>2010.000000</td>\n",
       "      <td>755000.000000</td>\n",
       "    </tr>\n",
       "  </tbody>\n",
       "</table>\n",
       "</div>"
      ],
      "text/plain": [
       "             LotArea  OverallQual  OverallCond    YearBuilt  YearRemodAdd  \\\n",
       "count     900.000000   900.000000   900.000000   900.000000    900.000000   \n",
       "mean    10629.817778     6.014444     5.652222  1969.347778   1984.185556   \n",
       "std      9947.088936     1.336912     1.151555    29.573049     20.195265   \n",
       "min      1300.000000     1.000000     1.000000  1872.000000   1950.000000   \n",
       "25%      7432.250000     5.000000     5.000000  1953.000000   1966.000000   \n",
       "50%      9475.000000     6.000000     5.000000  1971.000000   1993.000000   \n",
       "75%     11700.000000     7.000000     6.000000  1998.000000   2002.000000   \n",
       "max    164660.000000    10.000000     9.000000  2009.000000   2009.000000   \n",
       "\n",
       "       TotalBsmtSF    GrLivArea  TotRmsAbvGrd  GarageCars       YrSold  \\\n",
       "count   900.000000   900.000000    900.000000  900.000000   900.000000   \n",
       "mean   1028.166667  1487.441111      6.415556    1.745556  2007.896667   \n",
       "std     403.019702   504.588271      1.601786    0.715887     1.306010   \n",
       "min       0.000000   334.000000      2.000000    0.000000  2006.000000   \n",
       "25%     790.250000  1102.750000      5.000000    1.000000  2007.000000   \n",
       "50%     968.500000  1443.500000      6.000000    2.000000  2008.000000   \n",
       "75%    1249.500000  1750.500000      7.000000    2.000000  2009.000000   \n",
       "max    3206.000000  4316.000000     12.000000    4.000000  2010.000000   \n",
       "\n",
       "           SalePrice  \n",
       "count     900.000000  \n",
       "mean   176184.454444  \n",
       "std     71412.482393  \n",
       "min     39300.000000  \n",
       "25%    130000.000000  \n",
       "50%    161000.000000  \n",
       "75%    205000.000000  \n",
       "max    755000.000000  "
      ]
     },
     "execution_count": 5,
     "metadata": {},
     "output_type": "execute_result"
    }
   ],
   "source": [
    "data.describe()"
   ]
  },
  {
   "cell_type": "markdown",
   "metadata": {},
   "source": [
    "Lot Area riesiges Maximum kann riesige Auswirkungen haben. </br>\n",
    "Riesiges Minimum und Maximum </br>\n",
    "\n",
    "\n"
   ]
  },
  {
   "cell_type": "code",
   "execution_count": 6,
   "metadata": {},
   "outputs": [
    {
     "data": {
      "text/html": [
       "<div>\n",
       "<style scoped>\n",
       "    .dataframe tbody tr th:only-of-type {\n",
       "        vertical-align: middle;\n",
       "    }\n",
       "\n",
       "    .dataframe tbody tr th {\n",
       "        vertical-align: top;\n",
       "    }\n",
       "\n",
       "    .dataframe thead th {\n",
       "        text-align: right;\n",
       "    }\n",
       "</style>\n",
       "<table border=\"1\" class=\"dataframe\">\n",
       "  <thead>\n",
       "    <tr style=\"text-align: right;\">\n",
       "      <th></th>\n",
       "      <th>MSZoning</th>\n",
       "      <th>LotArea</th>\n",
       "      <th>Neighborhood</th>\n",
       "      <th>BldgType</th>\n",
       "      <th>OverallQual</th>\n",
       "      <th>OverallCond</th>\n",
       "      <th>YearBuilt</th>\n",
       "      <th>YearRemodAdd</th>\n",
       "      <th>RoofStyle</th>\n",
       "      <th>TotalBsmtSF</th>\n",
       "      <th>HeatingQC</th>\n",
       "      <th>CentralAir</th>\n",
       "      <th>GrLivArea</th>\n",
       "      <th>TotRmsAbvGrd</th>\n",
       "      <th>GarageCars</th>\n",
       "      <th>YrSold</th>\n",
       "      <th>SalePrice</th>\n",
       "    </tr>\n",
       "  </thead>\n",
       "  <tbody>\n",
       "    <tr>\n",
       "      <th>844</th>\n",
       "      <td>RL</td>\n",
       "      <td>164660</td>\n",
       "      <td>Timber</td>\n",
       "      <td>2fmCon</td>\n",
       "      <td>5</td>\n",
       "      <td>6</td>\n",
       "      <td>1965</td>\n",
       "      <td>1965</td>\n",
       "      <td>Gable</td>\n",
       "      <td>1499</td>\n",
       "      <td>Ex</td>\n",
       "      <td>Y</td>\n",
       "      <td>1786</td>\n",
       "      <td>7</td>\n",
       "      <td>2</td>\n",
       "      <td>2008</td>\n",
       "      <td>228950</td>\n",
       "    </tr>\n",
       "  </tbody>\n",
       "</table>\n",
       "</div>"
      ],
      "text/plain": [
       "    MSZoning  LotArea Neighborhood BldgType  OverallQual  OverallCond  \\\n",
       "844       RL   164660       Timber   2fmCon            5            6   \n",
       "\n",
       "     YearBuilt  YearRemodAdd RoofStyle  TotalBsmtSF HeatingQC CentralAir  \\\n",
       "844       1965          1965     Gable         1499        Ex          Y   \n",
       "\n",
       "     GrLivArea  TotRmsAbvGrd  GarageCars  YrSold  SalePrice  \n",
       "844       1786             7           2    2008     228950  "
      ]
     },
     "execution_count": 6,
     "metadata": {},
     "output_type": "execute_result"
    }
   ],
   "source": [
    "data[data[\"LotArea\"].idxmax():data[\"LotArea\"].idxmax()+1]"
   ]
  },
  {
   "cell_type": "code",
   "execution_count": 7,
   "metadata": {},
   "outputs": [
    {
     "data": {
      "text/plain": [
       "array(['RL', 'RM', 'FV', 'RH', 'C (all)'], dtype=object)"
      ]
     },
     "execution_count": 7,
     "metadata": {},
     "output_type": "execute_result"
    }
   ],
   "source": [
    "data[\"MSZoning\"].unique()"
   ]
  },
  {
   "cell_type": "code",
   "execution_count": 8,
   "metadata": {},
   "outputs": [
    {
     "data": {
      "text/plain": [
       "RL         716\n",
       "RM         145\n",
       "FV          28\n",
       "RH          10\n",
       "C (all)      1\n",
       "Name: MSZoning, dtype: int64"
      ]
     },
     "execution_count": 8,
     "metadata": {},
     "output_type": "execute_result"
    }
   ],
   "source": [
    "data['MSZoning'].value_counts()"
   ]
  },
  {
   "cell_type": "markdown",
   "metadata": {},
   "source": [
    "C (all) ist nur alleine "
   ]
  },
  {
   "cell_type": "code",
   "execution_count": 9,
   "metadata": {},
   "outputs": [
    {
     "data": {
      "text/plain": [
       "NAmes      150\n",
       "CollgCr    103\n",
       "OldTown     71\n",
       "Edwards     53\n",
       "Sawyer      52\n",
       "Gilbert     47\n",
       "NWAmes      46\n",
       "BrkSide     41\n",
       "NridgHt     39\n",
       "SawyerW     37\n",
       "Somerst     34\n",
       "Crawfor     34\n",
       "Mitchel     33\n",
       "NoRidge     26\n",
       "Timber      21\n",
       "IDOTRR      21\n",
       "SWISU       18\n",
       "ClearCr     17\n",
       "StoneBr     13\n",
       "MeadowV     12\n",
       "BrDale       9\n",
       "Blmngtn      9\n",
       "Veenker      8\n",
       "NPkVill      5\n",
       "Blueste      1\n",
       "Name: Neighborhood, dtype: int64"
      ]
     },
     "execution_count": 9,
     "metadata": {},
     "output_type": "execute_result"
    }
   ],
   "source": [
    "data['Neighborhood'].value_counts()"
   ]
  },
  {
   "cell_type": "markdown",
   "metadata": {},
   "source": [
    "Blueste kommt nur einmal vor"
   ]
  },
  {
   "cell_type": "code",
   "execution_count": 10,
   "metadata": {},
   "outputs": [
    {
     "data": {
      "text/plain": [
       "1Fam      759\n",
       "TwnhsE     68\n",
       "Duplex     29\n",
       "Twnhs      27\n",
       "2fmCon     17\n",
       "Name: BldgType, dtype: int64"
      ]
     },
     "execution_count": 10,
     "metadata": {},
     "output_type": "execute_result"
    }
   ],
   "source": [
    "data['BldgType'].value_counts()"
   ]
  },
  {
   "cell_type": "markdown",
   "metadata": {},
   "source": [
    "Einfamiliehaushalt ist am häufigsten "
   ]
  },
  {
   "cell_type": "code",
   "execution_count": 11,
   "metadata": {},
   "outputs": [
    {
     "data": {
      "text/plain": [
       "5     248\n",
       "6     244\n",
       "7     193\n",
       "8      92\n",
       "4      78\n",
       "9      23\n",
       "3      13\n",
       "10      6\n",
       "1       2\n",
       "2       1\n",
       "Name: OverallQual, dtype: int64"
      ]
     },
     "execution_count": 11,
     "metadata": {},
     "output_type": "execute_result"
    }
   ],
   "source": [
    "data['OverallQual'].value_counts()"
   ]
  },
  {
   "cell_type": "code",
   "execution_count": 12,
   "metadata": {},
   "outputs": [
    {
     "data": {
      "text/plain": [
       "<matplotlib.axes._subplots.AxesSubplot at 0x26d5eb1e588>"
      ]
     },
     "execution_count": 12,
     "metadata": {},
     "output_type": "execute_result"
    },
    {
     "data": {
      "image/png": "[encoded data removed]",
      "text/plain": [
       "<Figure size 432x288 with 1 Axes>"
      ]
     },
     "metadata": {
      "needs_background": "light"
     },
     "output_type": "display_data"
    }
   ],
   "source": [
    "sb.lineplot(data['OverallQual'].value_counts().keys(), data['OverallQual'].value_counts())\n"
   ]
  },
  {
   "cell_type": "code",
   "execution_count": null,
   "metadata": {},
   "outputs": [],
   "source": []
  },
  {
   "cell_type": "markdown",
   "metadata": {},
   "source": [
    "schaut nach einer Gaussverteilung aus"
   ]
  },
  {
   "cell_type": "code",
   "execution_count": 13,
   "metadata": {},
   "outputs": [
    {
     "data": {
      "text/plain": [
       "5    481\n",
       "6    158\n",
       "7    134\n",
       "8     55\n",
       "4     41\n",
       "9     17\n",
       "3     12\n",
       "2      1\n",
       "1      1\n",
       "Name: OverallCond, dtype: int64"
      ]
     },
     "execution_count": 13,
     "metadata": {},
     "output_type": "execute_result"
    }
   ],
   "source": [
    "data['OverallCond'].value_counts()"
   ]
  },
  {
   "cell_type": "code",
   "execution_count": 14,
   "metadata": {},
   "outputs": [
    {
     "data": {
      "text/plain": [
       "<matplotlib.axes._subplots.AxesSubplot at 0x26d60caea08>"
      ]
     },
     "execution_count": 14,
     "metadata": {},
     "output_type": "execute_result"
    },
    {
     "data": {
      "image/png": "[encoded data removed]",
      "text/plain": [
       "<Figure size 432x288 with 1 Axes>"
      ]
     },
     "metadata": {
      "needs_background": "light"
     },
     "output_type": "display_data"
    }
   ],
   "source": [
    "sb.lineplot(data['OverallCond'].value_counts().keys(), data['OverallCond'].value_counts())"
   ]
  },
  {
   "cell_type": "code",
   "execution_count": 15,
   "metadata": {},
   "outputs": [
    {
     "data": {
      "text/plain": [
       "Gable      708\n",
       "Hip        171\n",
       "Gambrel      7\n",
       "Flat         7\n",
       "Mansard      5\n",
       "Shed         2\n",
       "Name: RoofStyle, dtype: int64"
      ]
     },
     "execution_count": 15,
     "metadata": {},
     "output_type": "execute_result"
    }
   ],
   "source": [
    "data['RoofStyle'].value_counts()"
   ]
  },
  {
   "cell_type": "markdown",
   "metadata": {},
   "source": [
    "Giebel und hip dach sind auf häufigsten "
   ]
  },
  {
   "cell_type": "code",
   "execution_count": 16,
   "metadata": {},
   "outputs": [
    {
     "data": {
      "text/plain": [
       "Ex    448\n",
       "TA    264\n",
       "Gd    161\n",
       "Fa     26\n",
       "Po      1\n",
       "Name: HeatingQC, dtype: int64"
      ]
     },
     "execution_count": 16,
     "metadata": {},
     "output_type": "execute_result"
    }
   ],
   "source": [
    "data['HeatingQC'].value_counts()"
   ]
  },
  {
   "cell_type": "markdown",
   "metadata": {},
   "source": [
    "schlechte warmequaltität der Heizung ist nur "
   ]
  },
  {
   "cell_type": "code",
   "execution_count": 17,
   "metadata": {},
   "outputs": [
    {
     "data": {
      "text/plain": [
       "Y    845\n",
       "N     55\n",
       "Name: CentralAir, dtype: int64"
      ]
     },
     "execution_count": 17,
     "metadata": {},
     "output_type": "execute_result"
    }
   ],
   "source": [
    "data['CentralAir'].value_counts()"
   ]
  },
  {
   "cell_type": "markdown",
   "metadata": {},
   "source": [
    "Meiste haben eine Klimaanlage"
   ]
  },
  {
   "cell_type": "code",
   "execution_count": 18,
   "metadata": {},
   "outputs": [
    {
     "data": {
      "text/plain": [
       "<matplotlib.axes._subplots.AxesSubplot at 0x26d60d82348>"
      ]
     },
     "execution_count": 18,
     "metadata": {},
     "output_type": "execute_result"
    },
    {
     "data": {
      "image/png": "[encoded data removed]",
      "text/plain": [
       "<Figure size 432x288 with 1 Axes>"
      ]
     },
     "metadata": {
      "needs_background": "light"
     },
     "output_type": "display_data"
    }
   ],
   "source": [
    "sb.lineplot(data['GrLivArea'].value_counts().keys(), data['GrLivArea'].value_counts())"
   ]
  },
  {
   "cell_type": "markdown",
   "metadata": {},
   "source": [
    "Viele kleine und der eine ausreisser"
   ]
  },
  {
   "cell_type": "code",
   "execution_count": 19,
   "metadata": {},
   "outputs": [
    {
     "data": {
      "text/plain": [
       "<matplotlib.axes._subplots.AxesSubplot at 0x26d60dde888>"
      ]
     },
     "execution_count": 19,
     "metadata": {},
     "output_type": "execute_result"
    },
    {
     "data": {
      "image/png": "[encoded data removed]",
      "text/plain": [
       "<Figure size 432x288 with 1 Axes>"
      ]
     },
     "metadata": {
      "needs_background": "light"
     },
     "output_type": "display_data"
    }
   ],
   "source": [
    "sb.lineplot(data['TotRmsAbvGrd'].value_counts().keys(), data['TotRmsAbvGrd'].value_counts())"
   ]
  },
  {
   "cell_type": "markdown",
   "metadata": {},
   "source": [
    "Sieht gut aus"
   ]
  },
  {
   "cell_type": "code",
   "execution_count": 20,
   "metadata": {},
   "outputs": [
    {
     "data": {
      "text/plain": [
       "<matplotlib.axes._subplots.AxesSubplot at 0x26d60e4d688>"
      ]
     },
     "execution_count": 20,
     "metadata": {},
     "output_type": "execute_result"
    },
    {
     "data": {
      "image/png": "[encoded data removed]",
      "text/plain": [
       "<Figure size 432x288 with 1 Axes>"
      ]
     },
     "metadata": {
      "needs_background": "light"
     },
     "output_type": "display_data"
    }
   ],
   "source": [
    "sb.lineplot(data['GarageCars'].value_counts().keys(), data['GarageCars'].value_counts())"
   ]
  },
  {
   "cell_type": "markdown",
   "metadata": {},
   "source": [
    "geht "
   ]
  },
  {
   "cell_type": "code",
   "execution_count": 21,
   "metadata": {},
   "outputs": [
    {
     "data": {
      "text/plain": [
       "<matplotlib.axes._subplots.AxesSubplot at 0x26d60ecae88>"
      ]
     },
     "execution_count": 21,
     "metadata": {},
     "output_type": "execute_result"
    },
    {
     "data": {
      "image/png": "[encoded data removed]",
      "text/plain": [
       "<Figure size 432x288 with 1 Axes>"
      ]
     },
     "metadata": {
      "needs_background": "light"
     },
     "output_type": "display_data"
    }
   ],
   "source": [
    "sb.lineplot(data['YrSold'].value_counts().keys(), data['YrSold'].value_counts())"
   ]
  },
  {
   "cell_type": "markdown",
   "metadata": {},
   "source": [
    "Was war 2009.5 ?"
   ]
  },
  {
   "cell_type": "code",
   "execution_count": null,
   "metadata": {},
   "outputs": [],
   "source": []
  },
  {
   "cell_type": "code",
   "execution_count": null,
   "metadata": {},
   "outputs": [],
   "source": []
  },
  {
   "cell_type": "code",
   "execution_count": 22,
   "metadata": {},
   "outputs": [
    {
     "data": {
      "text/plain": [
       "2009    219\n",
       "2008    203\n",
       "2007    196\n",
       "2006    170\n",
       "2010    112\n",
       "Name: YrSold, dtype: int64"
      ]
     },
     "execution_count": 22,
     "metadata": {},
     "output_type": "execute_result"
    }
   ],
   "source": [
    "data['YrSold'].value_counts()"
   ]
  },
  {
   "cell_type": "code",
   "execution_count": 23,
   "metadata": {},
   "outputs": [
    {
     "data": {
      "text/plain": [
       "<matplotlib.axes._subplots.AxesSubplot at 0x26d60f3f3c8>"
      ]
     },
     "execution_count": 23,
     "metadata": {},
     "output_type": "execute_result"
    },
    {
     "data": {
      "image/png": "[encoded data removed]",
      "text/plain": [
       "<Figure size 432x288 with 1 Axes>"
      ]
     },
     "metadata": {
      "needs_background": "light"
     },
     "output_type": "display_data"
    }
   ],
   "source": [
    "sb.lineplot(data['YearBuilt'].value_counts().keys(), data['YearBuilt'].value_counts())"
   ]
  },
  {
   "cell_type": "code",
   "execution_count": null,
   "metadata": {},
   "outputs": [],
   "source": []
  },
  {
   "cell_type": "code",
   "execution_count": null,
   "metadata": {},
   "outputs": [],
   "source": []
  },
  {
   "cell_type": "code",
   "execution_count": 24,
   "metadata": {},
   "outputs": [],
   "source": [
    "YearBuilt = data['YearBuilt'].value_counts()"
   ]
  },
  {
   "cell_type": "code",
   "execution_count": 25,
   "metadata": {},
   "outputs": [
    {
     "name": "stdout",
     "output_type": "stream",
     "text": [
      "1940: 12\n",
      "1941: 10\n",
      "1942: 2\n",
      "Kien Haus im Jahr: 1943\n",
      "Kien Haus im Jahr: 1944\n",
      "1945: 5\n",
      "1946: 2\n",
      "1947: 2\n",
      "1948: 11\n",
      "1949: 9\n",
      "1950: 16\n",
      "1951: 2\n",
      "1952: 1\n",
      "1953: 8\n",
      "1954: 15\n",
      "1955: 12\n",
      "1956: 10\n",
      "1957: 16\n",
      "1958: 14\n",
      "1959: 17\n",
      "1960: 10\n"
     ]
    },
    {
     "data": {
      "text/plain": [
       "174"
      ]
     },
     "execution_count": 25,
     "metadata": {},
     "output_type": "execute_result"
    }
   ],
   "source": [
    "built = 0\n",
    "for i in range(1940,1961):\n",
    "    if i in YearBuilt.keys():\n",
    "        built+=YearBuilt[i]\n",
    "        print(\"{}: {}\".format(i,YearBuilt[i]))\n",
    "    else:\n",
    "        print(\"Kien Haus im Jahr: {}\".format(i))\n",
    "built"
   ]
  },
  {
   "cell_type": "code",
   "execution_count": 26,
   "metadata": {},
   "outputs": [
    {
     "data": {
      "text/plain": [
       "1950    112\n",
       "2005     53\n",
       "2004     46\n",
       "2006     38\n",
       "2000     37\n",
       "2002     36\n",
       "2003     35\n",
       "2007     32\n",
       "1996     26\n",
       "1995     25\n",
       "1997     23\n",
       "1998     23\n",
       "1999     20\n",
       "1994     16\n",
       "2001     15\n",
       "1976     15\n",
       "2008     14\n",
       "1972     14\n",
       "1993     13\n",
       "1970     13\n",
       "1977     13\n",
       "1966     12\n",
       "1959     12\n",
       "1990     12\n",
       "1978     11\n",
       "1965     11\n",
       "1968     11\n",
       "1967     11\n",
       "1973     10\n",
       "1971     10\n",
       "1980      9\n",
       "1964      9\n",
       "1962      9\n",
       "1991      9\n",
       "1963      8\n",
       "1975      8\n",
       "1985      8\n",
       "1988      8\n",
       "1957      7\n",
       "1960      7\n",
       "1992      7\n",
       "1954      7\n",
       "1956      7\n",
       "1987      7\n",
       "1981      7\n",
       "1955      7\n",
       "1958      7\n",
       "1969      6\n",
       "1989      6\n",
       "1982      6\n",
       "1953      6\n",
       "2009      4\n",
       "1961      4\n",
       "1979      4\n",
       "1983      3\n",
       "1984      3\n",
       "1986      3\n",
       "1974      2\n",
       "1951      2\n",
       "1952      1\n",
       "Name: YearRemodAdd, dtype: int64"
      ]
     },
     "execution_count": 26,
     "metadata": {},
     "output_type": "execute_result"
    }
   ],
   "source": [
    "data['YearRemodAdd'].value_counts()"
   ]
  },
  {
   "cell_type": "code",
   "execution_count": 27,
   "metadata": {},
   "outputs": [
    {
     "data": {
      "text/plain": [
       "<matplotlib.axes._subplots.AxesSubplot at 0x26d60d81908>"
      ]
     },
     "execution_count": 27,
     "metadata": {},
     "output_type": "execute_result"
    },
    {
     "data": {
      "image/png": "[encoded data removed]",
      "text/plain": [
       "<Figure size 432x288 with 1 Axes>"
      ]
     },
     "metadata": {
      "needs_background": "light"
     },
     "output_type": "display_data"
    }
   ],
   "source": [
    "sb.lineplot(data['YearRemodAdd'].value_counts().keys(), data['YearRemodAdd'].value_counts())"
   ]
  },
  {
   "cell_type": "markdown",
   "metadata": {},
   "source": [
    "1950 gab es eine große renoirierungswelle"
   ]
  },
  {
   "cell_type": "code",
   "execution_count": 28,
   "metadata": {},
   "outputs": [
    {
     "data": {
      "text/html": [
       "<div>\n",
       "<style scoped>\n",
       "    .dataframe tbody tr th:only-of-type {\n",
       "        vertical-align: middle;\n",
       "    }\n",
       "\n",
       "    .dataframe tbody tr th {\n",
       "        vertical-align: top;\n",
       "    }\n",
       "\n",
       "    .dataframe thead th {\n",
       "        text-align: right;\n",
       "    }\n",
       "</style>\n",
       "<table border=\"1\" class=\"dataframe\">\n",
       "  <thead>\n",
       "    <tr style=\"text-align: right;\">\n",
       "      <th></th>\n",
       "      <th>LotArea</th>\n",
       "      <th>OverallQual</th>\n",
       "      <th>OverallCond</th>\n",
       "      <th>YearBuilt</th>\n",
       "      <th>YearRemodAdd</th>\n",
       "      <th>TotalBsmtSF</th>\n",
       "      <th>GrLivArea</th>\n",
       "      <th>TotRmsAbvGrd</th>\n",
       "      <th>GarageCars</th>\n",
       "      <th>YrSold</th>\n",
       "      <th>SalePrice</th>\n",
       "    </tr>\n",
       "  </thead>\n",
       "  <tbody>\n",
       "    <tr>\n",
       "      <th>LotArea</th>\n",
       "      <td>1.000000</td>\n",
       "      <td>0.078351</td>\n",
       "      <td>0.008624</td>\n",
       "      <td>-0.002740</td>\n",
       "      <td>0.013903</td>\n",
       "      <td>0.215555</td>\n",
       "      <td>0.242049</td>\n",
       "      <td>0.171731</td>\n",
       "      <td>0.175046</td>\n",
       "      <td>-0.029411</td>\n",
       "      <td>0.294995</td>\n",
       "    </tr>\n",
       "    <tr>\n",
       "      <th>OverallQual</th>\n",
       "      <td>0.078351</td>\n",
       "      <td>1.000000</td>\n",
       "      <td>-0.067541</td>\n",
       "      <td>0.506915</td>\n",
       "      <td>0.498863</td>\n",
       "      <td>0.503705</td>\n",
       "      <td>0.579224</td>\n",
       "      <td>0.420016</td>\n",
       "      <td>0.571014</td>\n",
       "      <td>0.014871</td>\n",
       "      <td>0.779105</td>\n",
       "    </tr>\n",
       "    <tr>\n",
       "      <th>OverallCond</th>\n",
       "      <td>0.008624</td>\n",
       "      <td>-0.067541</td>\n",
       "      <td>1.000000</td>\n",
       "      <td>-0.409406</td>\n",
       "      <td>0.108340</td>\n",
       "      <td>-0.178404</td>\n",
       "      <td>-0.064446</td>\n",
       "      <td>-0.042172</td>\n",
       "      <td>-0.173576</td>\n",
       "      <td>-0.012827</td>\n",
       "      <td>-0.045663</td>\n",
       "    </tr>\n",
       "    <tr>\n",
       "      <th>YearBuilt</th>\n",
       "      <td>-0.002740</td>\n",
       "      <td>0.506915</td>\n",
       "      <td>-0.409406</td>\n",
       "      <td>1.000000</td>\n",
       "      <td>0.532446</td>\n",
       "      <td>0.375331</td>\n",
       "      <td>0.150515</td>\n",
       "      <td>0.058774</td>\n",
       "      <td>0.503326</td>\n",
       "      <td>0.042634</td>\n",
       "      <td>0.473111</td>\n",
       "    </tr>\n",
       "    <tr>\n",
       "      <th>YearRemodAdd</th>\n",
       "      <td>0.013903</td>\n",
       "      <td>0.498863</td>\n",
       "      <td>0.108340</td>\n",
       "      <td>0.532446</td>\n",
       "      <td>1.000000</td>\n",
       "      <td>0.251307</td>\n",
       "      <td>0.234629</td>\n",
       "      <td>0.143653</td>\n",
       "      <td>0.385040</td>\n",
       "      <td>0.066435</td>\n",
       "      <td>0.465537</td>\n",
       "    </tr>\n",
       "    <tr>\n",
       "      <th>TotalBsmtSF</th>\n",
       "      <td>0.215555</td>\n",
       "      <td>0.503705</td>\n",
       "      <td>-0.178404</td>\n",
       "      <td>0.375331</td>\n",
       "      <td>0.251307</td>\n",
       "      <td>1.000000</td>\n",
       "      <td>0.392101</td>\n",
       "      <td>0.256067</td>\n",
       "      <td>0.408777</td>\n",
       "      <td>0.047929</td>\n",
       "      <td>0.629429</td>\n",
       "    </tr>\n",
       "    <tr>\n",
       "      <th>GrLivArea</th>\n",
       "      <td>0.242049</td>\n",
       "      <td>0.579224</td>\n",
       "      <td>-0.064446</td>\n",
       "      <td>0.150515</td>\n",
       "      <td>0.234629</td>\n",
       "      <td>0.392101</td>\n",
       "      <td>1.000000</td>\n",
       "      <td>0.835156</td>\n",
       "      <td>0.476391</td>\n",
       "      <td>-0.014204</td>\n",
       "      <td>0.757823</td>\n",
       "    </tr>\n",
       "    <tr>\n",
       "      <th>TotRmsAbvGrd</th>\n",
       "      <td>0.171731</td>\n",
       "      <td>0.420016</td>\n",
       "      <td>-0.042172</td>\n",
       "      <td>0.058774</td>\n",
       "      <td>0.143653</td>\n",
       "      <td>0.256067</td>\n",
       "      <td>0.835156</td>\n",
       "      <td>1.000000</td>\n",
       "      <td>0.357133</td>\n",
       "      <td>-0.017735</td>\n",
       "      <td>0.550198</td>\n",
       "    </tr>\n",
       "    <tr>\n",
       "      <th>GarageCars</th>\n",
       "      <td>0.175046</td>\n",
       "      <td>0.571014</td>\n",
       "      <td>-0.173576</td>\n",
       "      <td>0.503326</td>\n",
       "      <td>0.385040</td>\n",
       "      <td>0.408777</td>\n",
       "      <td>0.476391</td>\n",
       "      <td>0.357133</td>\n",
       "      <td>1.000000</td>\n",
       "      <td>0.009918</td>\n",
       "      <td>0.633643</td>\n",
       "    </tr>\n",
       "    <tr>\n",
       "      <th>YrSold</th>\n",
       "      <td>-0.029411</td>\n",
       "      <td>0.014871</td>\n",
       "      <td>-0.012827</td>\n",
       "      <td>0.042634</td>\n",
       "      <td>0.066435</td>\n",
       "      <td>0.047929</td>\n",
       "      <td>-0.014204</td>\n",
       "      <td>-0.017735</td>\n",
       "      <td>0.009918</td>\n",
       "      <td>1.000000</td>\n",
       "      <td>0.009535</td>\n",
       "    </tr>\n",
       "    <tr>\n",
       "      <th>SalePrice</th>\n",
       "      <td>0.294995</td>\n",
       "      <td>0.779105</td>\n",
       "      <td>-0.045663</td>\n",
       "      <td>0.473111</td>\n",
       "      <td>0.465537</td>\n",
       "      <td>0.629429</td>\n",
       "      <td>0.757823</td>\n",
       "      <td>0.550198</td>\n",
       "      <td>0.633643</td>\n",
       "      <td>0.009535</td>\n",
       "      <td>1.000000</td>\n",
       "    </tr>\n",
       "  </tbody>\n",
       "</table>\n",
       "</div>"
      ],
      "text/plain": [
       "               LotArea  OverallQual  OverallCond  YearBuilt  YearRemodAdd  \\\n",
       "LotArea       1.000000     0.078351     0.008624  -0.002740      0.013903   \n",
       "OverallQual   0.078351     1.000000    -0.067541   0.506915      0.498863   \n",
       "OverallCond   0.008624    -0.067541     1.000000  -0.409406      0.108340   \n",
       "YearBuilt    -0.002740     0.506915    -0.409406   1.000000      0.532446   \n",
       "YearRemodAdd  0.013903     0.498863     0.108340   0.532446      1.000000   \n",
       "TotalBsmtSF   0.215555     0.503705    -0.178404   0.375331      0.251307   \n",
       "GrLivArea     0.242049     0.579224    -0.064446   0.150515      0.234629   \n",
       "TotRmsAbvGrd  0.171731     0.420016    -0.042172   0.058774      0.143653   \n",
       "GarageCars    0.175046     0.571014    -0.173576   0.503326      0.385040   \n",
       "YrSold       -0.029411     0.014871    -0.012827   0.042634      0.066435   \n",
       "SalePrice     0.294995     0.779105    -0.045663   0.473111      0.465537   \n",
       "\n",
       "              TotalBsmtSF  GrLivArea  TotRmsAbvGrd  GarageCars    YrSold  \\\n",
       "LotArea          0.215555   0.242049      0.171731    0.175046 -0.029411   \n",
       "OverallQual      0.503705   0.579224      0.420016    0.571014  0.014871   \n",
       "OverallCond     -0.178404  -0.064446     -0.042172   -0.173576 -0.012827   \n",
       "YearBuilt        0.375331   0.150515      0.058774    0.503326  0.042634   \n",
       "YearRemodAdd     0.251307   0.234629      0.143653    0.385040  0.066435   \n",
       "TotalBsmtSF      1.000000   0.392101      0.256067    0.408777  0.047929   \n",
       "GrLivArea        0.392101   1.000000      0.835156    0.476391 -0.014204   \n",
       "TotRmsAbvGrd     0.256067   0.835156      1.000000    0.357133 -0.017735   \n",
       "GarageCars       0.408777   0.476391      0.357133    1.000000  0.009918   \n",
       "YrSold           0.047929  -0.014204     -0.017735    0.009918  1.000000   \n",
       "SalePrice        0.629429   0.757823      0.550198    0.633643  0.009535   \n",
       "\n",
       "              SalePrice  \n",
       "LotArea        0.294995  \n",
       "OverallQual    0.779105  \n",
       "OverallCond   -0.045663  \n",
       "YearBuilt      0.473111  \n",
       "YearRemodAdd   0.465537  \n",
       "TotalBsmtSF    0.629429  \n",
       "GrLivArea      0.757823  \n",
       "TotRmsAbvGrd   0.550198  \n",
       "GarageCars     0.633643  \n",
       "YrSold         0.009535  \n",
       "SalePrice      1.000000  "
      ]
     },
     "execution_count": 28,
     "metadata": {},
     "output_type": "execute_result"
    }
   ],
   "source": [
    "data.corr()"
   ]
  },
  {
   "cell_type": "code",
   "execution_count": null,
   "metadata": {},
   "outputs": [],
   "source": []
  },
  {
   "cell_type": "markdown",
   "metadata": {},
   "source": [
    "Starke corr zwischen preis mit Qulität, TotalMsmtSF, LivArea, größe Garage. außerdem livArea und room above ground, Idee: eines weglassen  "
   ]
  },
  {
   "cell_type": "code",
   "execution_count": 29,
   "metadata": {},
   "outputs": [
    {
     "data": {
      "text/plain": [
       "<matplotlib.axes._subplots.AxesSubplot at 0x26d6101ef48>"
      ]
     },
     "execution_count": 29,
     "metadata": {},
     "output_type": "execute_result"
    },
    {
     "data": {
      "image/png": "[encoded data removed]",
      "text/plain": [
       "<Figure size 432x288 with 1 Axes>"
      ]
     },
     "metadata": {
      "needs_background": "light"
     },
     "output_type": "display_data"
    }
   ],
   "source": [
    "sb.scatterplot(data[\"GrLivArea\"],data[\"SalePrice\"])"
   ]
  },
  {
   "cell_type": "code",
   "execution_count": 30,
   "metadata": {},
   "outputs": [
    {
     "data": {
      "text/plain": [
       "<matplotlib.axes._subplots.AxesSubplot at 0x26d61095f08>"
      ]
     },
     "execution_count": 30,
     "metadata": {},
     "output_type": "execute_result"
    },
    {
     "data": {
      "image/png": "[encoded data removed]",
      "text/plain": [
       "<Figure size 432x288 with 1 Axes>"
      ]
     },
     "metadata": {
      "needs_background": "light"
     },
     "output_type": "display_data"
    }
   ],
   "source": [
    "sb.scatterplot(data[\"OverallQual\"],data[\"SalePrice\"])"
   ]
  },
  {
   "cell_type": "markdown",
   "metadata": {},
   "source": [
    "qualitat hat range"
   ]
  },
  {
   "cell_type": "code",
   "execution_count": 31,
   "metadata": {},
   "outputs": [
    {
     "data": {
      "text/plain": [
       "<matplotlib.axes._subplots.AxesSubplot at 0x26d61100648>"
      ]
     },
     "execution_count": 31,
     "metadata": {},
     "output_type": "execute_result"
    },
    {
     "data": {
      "image/png": "[encoded data removed]",
      "text/plain": [
       "<Figure size 432x288 with 1 Axes>"
      ]
     },
     "metadata": {
      "needs_background": "light"
     },
     "output_type": "display_data"
    }
   ],
   "source": [
    "sb.boxplot(data[\"LotArea\"])"
   ]
  },
  {
   "cell_type": "markdown",
   "metadata": {},
   "source": [
    "aussreiser nach oben viele "
   ]
  },
  {
   "cell_type": "code",
   "execution_count": 32,
   "metadata": {},
   "outputs": [
    {
     "data": {
      "text/plain": [
       "<matplotlib.axes._subplots.AxesSubplot at 0x26d61157f88>"
      ]
     },
     "execution_count": 32,
     "metadata": {},
     "output_type": "execute_result"
    },
    {
     "data": {
      "image/png": "[encoded data removed]",
      "text/plain": [
       "<Figure size 432x288 with 1 Axes>"
      ]
     },
     "metadata": {
      "needs_background": "light"
     },
     "output_type": "display_data"
    }
   ],
   "source": [
    "sb.boxplot(data[\"TotRmsAbvGrd\"])"
   ]
  },
  {
   "cell_type": "markdown",
   "metadata": {},
   "source": [
    "passt mit 2 aussreißer"
   ]
  },
  {
   "cell_type": "code",
   "execution_count": null,
   "metadata": {},
   "outputs": [],
   "source": []
  },
  {
   "cell_type": "code",
   "execution_count": 33,
   "metadata": {},
   "outputs": [],
   "source": [
    "data = data.sample(frac=1, random_state = 42)\n",
    "#Die Daten zufällig anordnen, random state damit Beispielrechnung richtig und Ergebnisse gelcih bleiben"
   ]
  },
  {
   "cell_type": "code",
   "execution_count": 34,
   "metadata": {},
   "outputs": [
    {
     "data": {
      "text/plain": [
       "70     135000\n",
       "827     82000\n",
       "231    113000\n",
       "588    170000\n",
       "39     337500\n",
       "        ...  \n",
       "106    160000\n",
       "270    262500\n",
       "860    104900\n",
       "435    403000\n",
       "102    277500\n",
       "Name: SalePrice, Length: 900, dtype: int64"
      ]
     },
     "execution_count": 34,
     "metadata": {},
     "output_type": "execute_result"
    }
   ],
   "source": [
    "labels = data[\"SalePrice\"]\n",
    "labels"
   ]
  },
  {
   "cell_type": "code",
   "execution_count": 35,
   "metadata": {},
   "outputs": [],
   "source": [
    "lenDataSet = len(data)"
   ]
  },
  {
   "cell_type": "code",
   "execution_count": 36,
   "metadata": {},
   "outputs": [],
   "source": [
    "import nltk\n",
    "import numpy as np\n",
    "\n",
    "\n",
    "def text_to_numbers(text, cutoff_for_rare_words = 1):\n",
    "    \"\"\"Function to convert text to numbers. Text must be tokenzied so that\n",
    "    test is presented as a list of words. The index number for a word\n",
    "    is based on its frequency (words occuring more often have a lower index).\n",
    "    If a word does not occur as many times as cutoff_for_rare_words,\n",
    "    then it is given a word index of zero. All rare words will be zero.\n",
    "    \"\"\"\n",
    "    \n",
    "    # Flatten list if sublists are present\n",
    "    if len(text) > 1:\n",
    "        flat_text = [sublist for sublist in text]\n",
    "        \n",
    "    else:\n",
    "        flat_text = text\n",
    "    \n",
    "    # get word freuqncy\n",
    "    fdist = nltk.FreqDist(flat_text)\n",
    "\n",
    "    # Convert to Pandas dataframe\n",
    "    df_fdist = pd.DataFrame.from_dict(fdist, orient='index')\n",
    "    df_fdist.columns = ['Frequency']\n",
    "\n",
    "    # Sort by word frequency\n",
    "    df_fdist.sort_values(by=['Frequency'], ascending=False, inplace=True)\n",
    "\n",
    "    # Add word index\n",
    "    number_of_words = df_fdist.shape[0]\n",
    "    df_fdist['word_index'] = list(np.arange(number_of_words)+1)\n",
    "\n",
    "   \n",
    "    \n",
    "    # Convert pandas to dictionary\n",
    "    word_dict = df_fdist['word_index'].to_dict()\n",
    "   \n",
    "    \n",
    "    # Use dictionary to convert words in text to numbers\n",
    "    text_numbers = []\n",
    "    for string in text:\n",
    "        string_numbers = word_dict[string]\n",
    "        text_numbers.append(string_numbers)  \n",
    "    \n",
    "    return (text_numbers)"
   ]
  },
  {
   "cell_type": "code",
   "execution_count": 37,
   "metadata": {},
   "outputs": [
    {
     "data": {
      "text/plain": [
       "70     RM\n",
       "827    RH\n",
       "231    RL\n",
       "588    RL\n",
       "39     RL\n",
       "       ..\n",
       "106    RH\n",
       "270    RL\n",
       "860    RL\n",
       "435    RL\n",
       "102    RL\n",
       "Name: MSZoning, Length: 900, dtype: object"
      ]
     },
     "execution_count": 37,
     "metadata": {},
     "output_type": "execute_result"
    }
   ],
   "source": [
    "data.loc[:,\"MSZoning\"]"
   ]
  },
  {
   "cell_type": "code",
   "execution_count": 38,
   "metadata": {},
   "outputs": [],
   "source": [
    "stringLabels = [\"MSZoning\",\"Neighborhood\",\"BldgType\",\"RoofStyle\",\"HeatingQC\",\"CentralAir\"]"
   ]
  },
  {
   "cell_type": "code",
   "execution_count": 39,
   "metadata": {
    "scrolled": true
   },
   "outputs": [
    {
     "data": {
      "text/html": [
       "<div>\n",
       "<style scoped>\n",
       "    .dataframe tbody tr th:only-of-type {\n",
       "        vertical-align: middle;\n",
       "    }\n",
       "\n",
       "    .dataframe tbody tr th {\n",
       "        vertical-align: top;\n",
       "    }\n",
       "\n",
       "    .dataframe thead th {\n",
       "        text-align: right;\n",
       "    }\n",
       "</style>\n",
       "<table border=\"1\" class=\"dataframe\">\n",
       "  <thead>\n",
       "    <tr style=\"text-align: right;\">\n",
       "      <th></th>\n",
       "      <th>MSZoning</th>\n",
       "      <th>LotArea</th>\n",
       "      <th>Neighborhood</th>\n",
       "      <th>BldgType</th>\n",
       "      <th>OverallQual</th>\n",
       "      <th>OverallCond</th>\n",
       "      <th>YearBuilt</th>\n",
       "      <th>YearRemodAdd</th>\n",
       "      <th>RoofStyle</th>\n",
       "      <th>TotalBsmtSF</th>\n",
       "      <th>HeatingQC</th>\n",
       "      <th>CentralAir</th>\n",
       "      <th>GrLivArea</th>\n",
       "      <th>TotRmsAbvGrd</th>\n",
       "      <th>GarageCars</th>\n",
       "      <th>YrSold</th>\n",
       "      <th>SalePrice</th>\n",
       "    </tr>\n",
       "  </thead>\n",
       "  <tbody>\n",
       "    <tr>\n",
       "      <th>70</th>\n",
       "      <td>2</td>\n",
       "      <td>10320</td>\n",
       "      <td>15</td>\n",
       "      <td>1</td>\n",
       "      <td>6</td>\n",
       "      <td>7</td>\n",
       "      <td>1906</td>\n",
       "      <td>1995</td>\n",
       "      <td>1</td>\n",
       "      <td>756</td>\n",
       "      <td>1</td>\n",
       "      <td>1</td>\n",
       "      <td>1469</td>\n",
       "      <td>7</td>\n",
       "      <td>1</td>\n",
       "      <td>2008</td>\n",
       "      <td>135000</td>\n",
       "    </tr>\n",
       "    <tr>\n",
       "      <th>827</th>\n",
       "      <td>4</td>\n",
       "      <td>8400</td>\n",
       "      <td>10</td>\n",
       "      <td>1</td>\n",
       "      <td>4</td>\n",
       "      <td>4</td>\n",
       "      <td>1950</td>\n",
       "      <td>1950</td>\n",
       "      <td>1</td>\n",
       "      <td>721</td>\n",
       "      <td>3</td>\n",
       "      <td>1</td>\n",
       "      <td>841</td>\n",
       "      <td>4</td>\n",
       "      <td>1</td>\n",
       "      <td>2009</td>\n",
       "      <td>82000</td>\n",
       "    </tr>\n",
       "    <tr>\n",
       "      <th>231</th>\n",
       "      <td>1</td>\n",
       "      <td>21750</td>\n",
       "      <td>13</td>\n",
       "      <td>1</td>\n",
       "      <td>5</td>\n",
       "      <td>5</td>\n",
       "      <td>1954</td>\n",
       "      <td>1954</td>\n",
       "      <td>2</td>\n",
       "      <td>988</td>\n",
       "      <td>1</td>\n",
       "      <td>1</td>\n",
       "      <td>988</td>\n",
       "      <td>4</td>\n",
       "      <td>2</td>\n",
       "      <td>2008</td>\n",
       "      <td>113000</td>\n",
       "    </tr>\n",
       "    <tr>\n",
       "      <th>588</th>\n",
       "      <td>1</td>\n",
       "      <td>9967</td>\n",
       "      <td>6</td>\n",
       "      <td>1</td>\n",
       "      <td>7</td>\n",
       "      <td>5</td>\n",
       "      <td>2000</td>\n",
       "      <td>2000</td>\n",
       "      <td>1</td>\n",
       "      <td>384</td>\n",
       "      <td>1</td>\n",
       "      <td>1</td>\n",
       "      <td>1430</td>\n",
       "      <td>8</td>\n",
       "      <td>2</td>\n",
       "      <td>2007</td>\n",
       "      <td>170000</td>\n",
       "    </tr>\n",
       "    <tr>\n",
       "      <th>39</th>\n",
       "      <td>1</td>\n",
       "      <td>12456</td>\n",
       "      <td>9</td>\n",
       "      <td>1</td>\n",
       "      <td>10</td>\n",
       "      <td>5</td>\n",
       "      <td>2006</td>\n",
       "      <td>2007</td>\n",
       "      <td>2</td>\n",
       "      <td>1700</td>\n",
       "      <td>1</td>\n",
       "      <td>1</td>\n",
       "      <td>1718</td>\n",
       "      <td>7</td>\n",
       "      <td>3</td>\n",
       "      <td>2009</td>\n",
       "      <td>337500</td>\n",
       "    </tr>\n",
       "    <tr>\n",
       "      <th>...</th>\n",
       "      <td>...</td>\n",
       "      <td>...</td>\n",
       "      <td>...</td>\n",
       "      <td>...</td>\n",
       "      <td>...</td>\n",
       "      <td>...</td>\n",
       "      <td>...</td>\n",
       "      <td>...</td>\n",
       "      <td>...</td>\n",
       "      <td>...</td>\n",
       "      <td>...</td>\n",
       "      <td>...</td>\n",
       "      <td>...</td>\n",
       "      <td>...</td>\n",
       "      <td>...</td>\n",
       "      <td>...</td>\n",
       "      <td>...</td>\n",
       "    </tr>\n",
       "    <tr>\n",
       "      <th>106</th>\n",
       "      <td>4</td>\n",
       "      <td>7082</td>\n",
       "      <td>17</td>\n",
       "      <td>5</td>\n",
       "      <td>5</td>\n",
       "      <td>8</td>\n",
       "      <td>1916</td>\n",
       "      <td>1995</td>\n",
       "      <td>1</td>\n",
       "      <td>686</td>\n",
       "      <td>3</td>\n",
       "      <td>1</td>\n",
       "      <td>1928</td>\n",
       "      <td>10</td>\n",
       "      <td>0</td>\n",
       "      <td>2006</td>\n",
       "      <td>160000</td>\n",
       "    </tr>\n",
       "    <tr>\n",
       "      <th>270</th>\n",
       "      <td>1</td>\n",
       "      <td>20781</td>\n",
       "      <td>7</td>\n",
       "      <td>1</td>\n",
       "      <td>7</td>\n",
       "      <td>7</td>\n",
       "      <td>1968</td>\n",
       "      <td>2003</td>\n",
       "      <td>2</td>\n",
       "      <td>1568</td>\n",
       "      <td>2</td>\n",
       "      <td>1</td>\n",
       "      <td>2156</td>\n",
       "      <td>9</td>\n",
       "      <td>2</td>\n",
       "      <td>2006</td>\n",
       "      <td>262500</td>\n",
       "    </tr>\n",
       "    <tr>\n",
       "      <th>860</th>\n",
       "      <td>1</td>\n",
       "      <td>9738</td>\n",
       "      <td>4</td>\n",
       "      <td>1</td>\n",
       "      <td>5</td>\n",
       "      <td>7</td>\n",
       "      <td>1924</td>\n",
       "      <td>1950</td>\n",
       "      <td>1</td>\n",
       "      <td>784</td>\n",
       "      <td>3</td>\n",
       "      <td>1</td>\n",
       "      <td>1221</td>\n",
       "      <td>7</td>\n",
       "      <td>1</td>\n",
       "      <td>2006</td>\n",
       "      <td>104900</td>\n",
       "    </tr>\n",
       "    <tr>\n",
       "      <th>435</th>\n",
       "      <td>1</td>\n",
       "      <td>15138</td>\n",
       "      <td>14</td>\n",
       "      <td>1</td>\n",
       "      <td>8</td>\n",
       "      <td>5</td>\n",
       "      <td>1995</td>\n",
       "      <td>1996</td>\n",
       "      <td>1</td>\n",
       "      <td>1462</td>\n",
       "      <td>1</td>\n",
       "      <td>1</td>\n",
       "      <td>2794</td>\n",
       "      <td>9</td>\n",
       "      <td>3</td>\n",
       "      <td>2009</td>\n",
       "      <td>403000</td>\n",
       "    </tr>\n",
       "    <tr>\n",
       "      <th>102</th>\n",
       "      <td>1</td>\n",
       "      <td>7313</td>\n",
       "      <td>9</td>\n",
       "      <td>2</td>\n",
       "      <td>9</td>\n",
       "      <td>5</td>\n",
       "      <td>2005</td>\n",
       "      <td>2005</td>\n",
       "      <td>2</td>\n",
       "      <td>1561</td>\n",
       "      <td>1</td>\n",
       "      <td>1</td>\n",
       "      <td>1561</td>\n",
       "      <td>6</td>\n",
       "      <td>2</td>\n",
       "      <td>2007</td>\n",
       "      <td>277500</td>\n",
       "    </tr>\n",
       "  </tbody>\n",
       "</table>\n",
       "<p>900 rows × 17 columns</p>\n",
       "</div>"
      ],
      "text/plain": [
       "     MSZoning  LotArea  Neighborhood  BldgType  OverallQual  OverallCond  \\\n",
       "70          2    10320            15         1            6            7   \n",
       "827         4     8400            10         1            4            4   \n",
       "231         1    21750            13         1            5            5   \n",
       "588         1     9967             6         1            7            5   \n",
       "39          1    12456             9         1           10            5   \n",
       "..        ...      ...           ...       ...          ...          ...   \n",
       "106         4     7082            17         5            5            8   \n",
       "270         1    20781             7         1            7            7   \n",
       "860         1     9738             4         1            5            7   \n",
       "435         1    15138            14         1            8            5   \n",
       "102         1     7313             9         2            9            5   \n",
       "\n",
       "     YearBuilt  YearRemodAdd  RoofStyle  TotalBsmtSF  HeatingQC  CentralAir  \\\n",
       "70        1906          1995          1          756          1           1   \n",
       "827       1950          1950          1          721          3           1   \n",
       "231       1954          1954          2          988          1           1   \n",
       "588       2000          2000          1          384          1           1   \n",
       "39        2006          2007          2         1700          1           1   \n",
       "..         ...           ...        ...          ...        ...         ...   \n",
       "106       1916          1995          1          686          3           1   \n",
       "270       1968          2003          2         1568          2           1   \n",
       "860       1924          1950          1          784          3           1   \n",
       "435       1995          1996          1         1462          1           1   \n",
       "102       2005          2005          2         1561          1           1   \n",
       "\n",
       "     GrLivArea  TotRmsAbvGrd  GarageCars  YrSold  SalePrice  \n",
       "70        1469             7           1    2008     135000  \n",
       "827        841             4           1    2009      82000  \n",
       "231        988             4           2    2008     113000  \n",
       "588       1430             8           2    2007     170000  \n",
       "39        1718             7           3    2009     337500  \n",
       "..         ...           ...         ...     ...        ...  \n",
       "106       1928            10           0    2006     160000  \n",
       "270       2156             9           2    2006     262500  \n",
       "860       1221             7           1    2006     104900  \n",
       "435       2794             9           3    2009     403000  \n",
       "102       1561             6           2    2007     277500  \n",
       "\n",
       "[900 rows x 17 columns]"
      ]
     },
     "execution_count": 39,
     "metadata": {},
     "output_type": "execute_result"
    }
   ],
   "source": [
    "for element in stringLabels:\n",
    "    data.loc[:,element] = text_to_numbers(data.loc[:,element])\n",
    "data"
   ]
  },
  {
   "cell_type": "code",
   "execution_count": null,
   "metadata": {},
   "outputs": [],
   "source": []
  },
  {
   "cell_type": "code",
   "execution_count": 40,
   "metadata": {},
   "outputs": [
    {
     "data": {
      "text/html": [
       "<div>\n",
       "<style scoped>\n",
       "    .dataframe tbody tr th:only-of-type {\n",
       "        vertical-align: middle;\n",
       "    }\n",
       "\n",
       "    .dataframe tbody tr th {\n",
       "        vertical-align: top;\n",
       "    }\n",
       "\n",
       "    .dataframe thead th {\n",
       "        text-align: right;\n",
       "    }\n",
       "</style>\n",
       "<table border=\"1\" class=\"dataframe\">\n",
       "  <thead>\n",
       "    <tr style=\"text-align: right;\">\n",
       "      <th></th>\n",
       "      <th>MSZoning</th>\n",
       "      <th>LotArea</th>\n",
       "      <th>Neighborhood</th>\n",
       "      <th>BldgType</th>\n",
       "      <th>OverallQual</th>\n",
       "      <th>OverallCond</th>\n",
       "      <th>YearBuilt</th>\n",
       "      <th>YearRemodAdd</th>\n",
       "      <th>RoofStyle</th>\n",
       "      <th>TotalBsmtSF</th>\n",
       "      <th>HeatingQC</th>\n",
       "      <th>CentralAir</th>\n",
       "      <th>GrLivArea</th>\n",
       "      <th>TotRmsAbvGrd</th>\n",
       "      <th>GarageCars</th>\n",
       "      <th>YrSold</th>\n",
       "    </tr>\n",
       "  </thead>\n",
       "  <tbody>\n",
       "    <tr>\n",
       "      <th>70</th>\n",
       "      <td>2</td>\n",
       "      <td>10320</td>\n",
       "      <td>15</td>\n",
       "      <td>1</td>\n",
       "      <td>6</td>\n",
       "      <td>7</td>\n",
       "      <td>1906</td>\n",
       "      <td>1995</td>\n",
       "      <td>1</td>\n",
       "      <td>756</td>\n",
       "      <td>1</td>\n",
       "      <td>1</td>\n",
       "      <td>1469</td>\n",
       "      <td>7</td>\n",
       "      <td>1</td>\n",
       "      <td>2008</td>\n",
       "    </tr>\n",
       "    <tr>\n",
       "      <th>827</th>\n",
       "      <td>4</td>\n",
       "      <td>8400</td>\n",
       "      <td>10</td>\n",
       "      <td>1</td>\n",
       "      <td>4</td>\n",
       "      <td>4</td>\n",
       "      <td>1950</td>\n",
       "      <td>1950</td>\n",
       "      <td>1</td>\n",
       "      <td>721</td>\n",
       "      <td>3</td>\n",
       "      <td>1</td>\n",
       "      <td>841</td>\n",
       "      <td>4</td>\n",
       "      <td>1</td>\n",
       "      <td>2009</td>\n",
       "    </tr>\n",
       "    <tr>\n",
       "      <th>231</th>\n",
       "      <td>1</td>\n",
       "      <td>21750</td>\n",
       "      <td>13</td>\n",
       "      <td>1</td>\n",
       "      <td>5</td>\n",
       "      <td>5</td>\n",
       "      <td>1954</td>\n",
       "      <td>1954</td>\n",
       "      <td>2</td>\n",
       "      <td>988</td>\n",
       "      <td>1</td>\n",
       "      <td>1</td>\n",
       "      <td>988</td>\n",
       "      <td>4</td>\n",
       "      <td>2</td>\n",
       "      <td>2008</td>\n",
       "    </tr>\n",
       "    <tr>\n",
       "      <th>588</th>\n",
       "      <td>1</td>\n",
       "      <td>9967</td>\n",
       "      <td>6</td>\n",
       "      <td>1</td>\n",
       "      <td>7</td>\n",
       "      <td>5</td>\n",
       "      <td>2000</td>\n",
       "      <td>2000</td>\n",
       "      <td>1</td>\n",
       "      <td>384</td>\n",
       "      <td>1</td>\n",
       "      <td>1</td>\n",
       "      <td>1430</td>\n",
       "      <td>8</td>\n",
       "      <td>2</td>\n",
       "      <td>2007</td>\n",
       "    </tr>\n",
       "    <tr>\n",
       "      <th>39</th>\n",
       "      <td>1</td>\n",
       "      <td>12456</td>\n",
       "      <td>9</td>\n",
       "      <td>1</td>\n",
       "      <td>10</td>\n",
       "      <td>5</td>\n",
       "      <td>2006</td>\n",
       "      <td>2007</td>\n",
       "      <td>2</td>\n",
       "      <td>1700</td>\n",
       "      <td>1</td>\n",
       "      <td>1</td>\n",
       "      <td>1718</td>\n",
       "      <td>7</td>\n",
       "      <td>3</td>\n",
       "      <td>2009</td>\n",
       "    </tr>\n",
       "    <tr>\n",
       "      <th>...</th>\n",
       "      <td>...</td>\n",
       "      <td>...</td>\n",
       "      <td>...</td>\n",
       "      <td>...</td>\n",
       "      <td>...</td>\n",
       "      <td>...</td>\n",
       "      <td>...</td>\n",
       "      <td>...</td>\n",
       "      <td>...</td>\n",
       "      <td>...</td>\n",
       "      <td>...</td>\n",
       "      <td>...</td>\n",
       "      <td>...</td>\n",
       "      <td>...</td>\n",
       "      <td>...</td>\n",
       "      <td>...</td>\n",
       "    </tr>\n",
       "    <tr>\n",
       "      <th>106</th>\n",
       "      <td>4</td>\n",
       "      <td>7082</td>\n",
       "      <td>17</td>\n",
       "      <td>5</td>\n",
       "      <td>5</td>\n",
       "      <td>8</td>\n",
       "      <td>1916</td>\n",
       "      <td>1995</td>\n",
       "      <td>1</td>\n",
       "      <td>686</td>\n",
       "      <td>3</td>\n",
       "      <td>1</td>\n",
       "      <td>1928</td>\n",
       "      <td>10</td>\n",
       "      <td>0</td>\n",
       "      <td>2006</td>\n",
       "    </tr>\n",
       "    <tr>\n",
       "      <th>270</th>\n",
       "      <td>1</td>\n",
       "      <td>20781</td>\n",
       "      <td>7</td>\n",
       "      <td>1</td>\n",
       "      <td>7</td>\n",
       "      <td>7</td>\n",
       "      <td>1968</td>\n",
       "      <td>2003</td>\n",
       "      <td>2</td>\n",
       "      <td>1568</td>\n",
       "      <td>2</td>\n",
       "      <td>1</td>\n",
       "      <td>2156</td>\n",
       "      <td>9</td>\n",
       "      <td>2</td>\n",
       "      <td>2006</td>\n",
       "    </tr>\n",
       "    <tr>\n",
       "      <th>860</th>\n",
       "      <td>1</td>\n",
       "      <td>9738</td>\n",
       "      <td>4</td>\n",
       "      <td>1</td>\n",
       "      <td>5</td>\n",
       "      <td>7</td>\n",
       "      <td>1924</td>\n",
       "      <td>1950</td>\n",
       "      <td>1</td>\n",
       "      <td>784</td>\n",
       "      <td>3</td>\n",
       "      <td>1</td>\n",
       "      <td>1221</td>\n",
       "      <td>7</td>\n",
       "      <td>1</td>\n",
       "      <td>2006</td>\n",
       "    </tr>\n",
       "    <tr>\n",
       "      <th>435</th>\n",
       "      <td>1</td>\n",
       "      <td>15138</td>\n",
       "      <td>14</td>\n",
       "      <td>1</td>\n",
       "      <td>8</td>\n",
       "      <td>5</td>\n",
       "      <td>1995</td>\n",
       "      <td>1996</td>\n",
       "      <td>1</td>\n",
       "      <td>1462</td>\n",
       "      <td>1</td>\n",
       "      <td>1</td>\n",
       "      <td>2794</td>\n",
       "      <td>9</td>\n",
       "      <td>3</td>\n",
       "      <td>2009</td>\n",
       "    </tr>\n",
       "    <tr>\n",
       "      <th>102</th>\n",
       "      <td>1</td>\n",
       "      <td>7313</td>\n",
       "      <td>9</td>\n",
       "      <td>2</td>\n",
       "      <td>9</td>\n",
       "      <td>5</td>\n",
       "      <td>2005</td>\n",
       "      <td>2005</td>\n",
       "      <td>2</td>\n",
       "      <td>1561</td>\n",
       "      <td>1</td>\n",
       "      <td>1</td>\n",
       "      <td>1561</td>\n",
       "      <td>6</td>\n",
       "      <td>2</td>\n",
       "      <td>2007</td>\n",
       "    </tr>\n",
       "  </tbody>\n",
       "</table>\n",
       "<p>900 rows × 16 columns</p>\n",
       "</div>"
      ],
      "text/plain": [
       "     MSZoning  LotArea  Neighborhood  BldgType  OverallQual  OverallCond  \\\n",
       "70          2    10320            15         1            6            7   \n",
       "827         4     8400            10         1            4            4   \n",
       "231         1    21750            13         1            5            5   \n",
       "588         1     9967             6         1            7            5   \n",
       "39          1    12456             9         1           10            5   \n",
       "..        ...      ...           ...       ...          ...          ...   \n",
       "106         4     7082            17         5            5            8   \n",
       "270         1    20781             7         1            7            7   \n",
       "860         1     9738             4         1            5            7   \n",
       "435         1    15138            14         1            8            5   \n",
       "102         1     7313             9         2            9            5   \n",
       "\n",
       "     YearBuilt  YearRemodAdd  RoofStyle  TotalBsmtSF  HeatingQC  CentralAir  \\\n",
       "70        1906          1995          1          756          1           1   \n",
       "827       1950          1950          1          721          3           1   \n",
       "231       1954          1954          2          988          1           1   \n",
       "588       2000          2000          1          384          1           1   \n",
       "39        2006          2007          2         1700          1           1   \n",
       "..         ...           ...        ...          ...        ...         ...   \n",
       "106       1916          1995          1          686          3           1   \n",
       "270       1968          2003          2         1568          2           1   \n",
       "860       1924          1950          1          784          3           1   \n",
       "435       1995          1996          1         1462          1           1   \n",
       "102       2005          2005          2         1561          1           1   \n",
       "\n",
       "     GrLivArea  TotRmsAbvGrd  GarageCars  YrSold  \n",
       "70        1469             7           1    2008  \n",
       "827        841             4           1    2009  \n",
       "231        988             4           2    2008  \n",
       "588       1430             8           2    2007  \n",
       "39        1718             7           3    2009  \n",
       "..         ...           ...         ...     ...  \n",
       "106       1928            10           0    2006  \n",
       "270       2156             9           2    2006  \n",
       "860       1221             7           1    2006  \n",
       "435       2794             9           3    2009  \n",
       "102       1561             6           2    2007  \n",
       "\n",
       "[900 rows x 16 columns]"
      ]
     },
     "execution_count": 40,
     "metadata": {},
     "output_type": "execute_result"
    }
   ],
   "source": [
    "rawdata = data.loc[:,\"MSZoning\":\"YrSold\"]\n",
    "rawdata"
   ]
  },
  {
   "cell_type": "code",
   "execution_count": 41,
   "metadata": {},
   "outputs": [],
   "source": [
    "import math"
   ]
  },
  {
   "cell_type": "code",
   "execution_count": 42,
   "metadata": {},
   "outputs": [],
   "source": [
    "trainData = rawdata[0:math.floor(lenDataSet*0.8)]"
   ]
  },
  {
   "cell_type": "code",
   "execution_count": 43,
   "metadata": {},
   "outputs": [],
   "source": [
    "validateData = rawdata[math.ceil(lenDataSet*0.8):math.floor(lenDataSet*0.95)] "
   ]
  },
  {
   "cell_type": "code",
   "execution_count": null,
   "metadata": {},
   "outputs": [],
   "source": []
  },
  {
   "cell_type": "code",
   "execution_count": 44,
   "metadata": {},
   "outputs": [],
   "source": [
    "testData = rawdata[math.ceil(lenDataSet*0.95):]"
   ]
  },
  {
   "cell_type": "code",
   "execution_count": 45,
   "metadata": {},
   "outputs": [],
   "source": [
    "trainLabels = labels[0:math.floor(lenDataSet*0.8)] "
   ]
  },
  {
   "cell_type": "code",
   "execution_count": 46,
   "metadata": {},
   "outputs": [],
   "source": [
    "validateLabels = labels[math.ceil(lenDataSet*0.8):math.floor(lenDataSet*0.95)]"
   ]
  },
  {
   "cell_type": "code",
   "execution_count": 47,
   "metadata": {},
   "outputs": [],
   "source": [
    "testLabels = labels[math.ceil(lenDataSet*0.95):]"
   ]
  },
  {
   "cell_type": "markdown",
   "metadata": {},
   "source": []
  },
  {
   "cell_type": "code",
   "execution_count": 48,
   "metadata": {},
   "outputs": [
    {
     "data": {
      "text/plain": [
       "RandomForestRegressor(bootstrap=True, ccp_alpha=0.0, criterion='mse',\n",
       "                      max_depth=None, max_features=3, max_leaf_nodes=None,\n",
       "                      max_samples=None, min_impurity_decrease=0.0,\n",
       "                      min_impurity_split=None, min_samples_leaf=1,\n",
       "                      min_samples_split=2, min_weight_fraction_leaf=0.0,\n",
       "                      n_estimators=1000, n_jobs=None, oob_score=False,\n",
       "                      random_state=42, verbose=0, warm_start=False)"
      ]
     },
     "execution_count": 48,
     "metadata": {},
     "output_type": "execute_result"
    }
   ],
   "source": [
    "from sklearn.ensemble import RandomForestRegressor\n",
    "\n",
    "rf = RandomForestRegressor(n_estimators = 1000, random_state = 42, max_features = 3)\n",
    "rf.fit(trainData, trainLabels)\n",
    "#n_estimators = Anzahl an trees \n",
    "#random_state = \n",
    "# max_featurs = anzahl der feautres maximal \n"
   ]
  },
  {
   "cell_type": "code",
   "execution_count": 49,
   "metadata": {},
   "outputs": [
    {
     "data": {
      "text/plain": [
       "0.9078987120985255"
      ]
     },
     "execution_count": 49,
     "metadata": {},
     "output_type": "execute_result"
    }
   ],
   "source": [
    "rf.score(validateData, validateLabels)\n"
   ]
  },
  {
   "cell_type": "code",
   "execution_count": 50,
   "metadata": {
    "scrolled": false
   },
   "outputs": [],
   "source": [
    "import sklearn\n",
    "#import sklearn.cross_validation"
   ]
  },
  {
   "cell_type": "code",
   "execution_count": 51,
   "metadata": {
    "scrolled": true
   },
   "outputs": [],
   "source": [
    " from sklearn.model_selection import cross_val_score"
   ]
  },
  {
   "cell_type": "code",
   "execution_count": 52,
   "metadata": {},
   "outputs": [
    {
     "data": {
      "text/plain": [
       "array([0.88445389, 0.83902167, 0.88480253, 0.87762338, 0.83973762])"
      ]
     },
     "execution_count": 52,
     "metadata": {},
     "output_type": "execute_result"
    }
   ],
   "source": [
    "rfK = RandomForestRegressor(n_estimators = 1000, random_state = 42, max_features = 3)\n",
    "scores = cross_val_score(rfK, trainData, trainLabels, cv=5)\n",
    "scores"
   ]
  },
  {
   "cell_type": "code",
   "execution_count": 53,
   "metadata": {},
   "outputs": [
    {
     "data": {
      "text/plain": [
       "array([0.89252636, 0.851167  , 0.88001687, 0.88163037, 0.84348088])"
      ]
     },
     "execution_count": 53,
     "metadata": {},
     "output_type": "execute_result"
    }
   ],
   "source": [
    "rfK = RandomForestRegressor(n_estimators = 1000, random_state = 42, max_features = \"sqrt\")\n",
    "scores = cross_val_score(rfK, trainData, trainLabels, cv=5)\n",
    "scores"
   ]
  },
  {
   "cell_type": "code",
   "execution_count": 54,
   "metadata": {},
   "outputs": [],
   "source": [
    "#sqrtFeatures = 4\n",
    "#rfK = RandomForestRegressor(n_estimators = 1000, random_state = 42, max_features = sqrtFeatures)\n",
    "#scores = cross_val_score(rfK, trainData, trainLabels, cv=10)\n",
    "#sum(scores)/len(scores)\n"
   ]
  },
  {
   "cell_type": "code",
   "execution_count": 55,
   "metadata": {},
   "outputs": [],
   "source": [
    "#sqrtFeatures = 4\n",
    "#rfK = RandomForestRegressor(n_estimators = 1000, random_state = 42, max_features = sqrtFeatures + 1)\n",
    "#scores = cross_val_score(rfK, trainData, trainLabels, cv=10)\n",
    "#sum(scores)/len(scores)"
   ]
  },
  {
   "cell_type": "code",
   "execution_count": 56,
   "metadata": {},
   "outputs": [],
   "source": [
    "#sqrtFeatures = 4\n",
    "#rfK = RandomForestRegressor(n_estimators = 1000, random_state = 42, max_features = sqrtFeatures - 1)\n",
    "#scores = cross_val_score(rfK, trainData, trainLabels, cv=5)\n",
    "#sum(scores)/len(scores)"
   ]
  },
  {
   "cell_type": "code",
   "execution_count": 57,
   "metadata": {},
   "outputs": [],
   "source": [
    "#sqrtFeatures = 4\n",
    "#rfK = RandomForestRegressor(n_estimators = 1000, random_state = 42, max_features = sqrtFeatures - 2)\n",
    "#scores = cross_val_score(rfK, trainData, trainLabels, cv=10)\n",
    "#sum(scores)/len(scores)"
   ]
  },
  {
   "cell_type": "code",
   "execution_count": 58,
   "metadata": {},
   "outputs": [],
   "source": [
    "#sqrtFeatures = 4\n",
    "#rfK = RandomForestRegressor(n_estimators = 1000, random_state = 42, max_features = sqrtFeatures + 2)\n",
    "#scores = cross_val_score(rfK, trainData, trainLabels, cv=10)\n",
    "#sum(scores)/len(scores)"
   ]
  },
  {
   "cell_type": "code",
   "execution_count": 59,
   "metadata": {},
   "outputs": [],
   "source": [
    "from sklearn.ensemble import GradientBoostingRegressor"
   ]
  },
  {
   "cell_type": "code",
   "execution_count": 60,
   "metadata": {},
   "outputs": [
    {
     "data": {
      "text/plain": [
       "0.906265023714941"
      ]
     },
     "execution_count": 60,
     "metadata": {},
     "output_type": "execute_result"
    }
   ],
   "source": [
    "gbr = GradientBoostingRegressor(\n",
    "    max_depth=1,\n",
    "    n_estimators=1000,\n",
    "    learning_rate=0.1\n",
    ")\n",
    "gbr.fit(trainData, trainLabels)\n",
    "gbr.score(validateData, validateLabels)\n",
    "#gbr.predict(rawdata[1:2])"
   ]
  },
  {
   "cell_type": "code",
   "execution_count": null,
   "metadata": {},
   "outputs": [],
   "source": []
  },
  {
   "cell_type": "code",
   "execution_count": 61,
   "metadata": {},
   "outputs": [],
   "source": [
    "linearData = trainData.iloc[:, [4 ,9, 12]]\n"
   ]
  },
  {
   "cell_type": "code",
   "execution_count": 62,
   "metadata": {},
   "outputs": [],
   "source": [
    "from sklearn.linear_model import LinearRegression\n",
    "clf = LinearRegression().fit(linearData, trainLabels)\n",
    "#clf.coef_\n",
    "#clf.intercept_\n",
    "#clf.score\n"
   ]
  },
  {
   "cell_type": "code",
   "execution_count": 63,
   "metadata": {},
   "outputs": [
    {
     "data": {
      "text/plain": [
       "0.8134321276352642"
      ]
     },
     "execution_count": 63,
     "metadata": {},
     "output_type": "execute_result"
    }
   ],
   "source": [
    "linearDataV = validateData.iloc[:, [4 ,9, 12]]\n",
    "clf.score(linearDataV,validateLabels)"
   ]
  },
  {
   "cell_type": "code",
   "execution_count": 64,
   "metadata": {},
   "outputs": [
    {
     "data": {
      "text/plain": [
       "array([20733.21608279,    45.01412324,    62.89920511])"
      ]
     },
     "execution_count": 64,
     "metadata": {},
     "output_type": "execute_result"
    }
   ],
   "source": [
    "clf.coef_"
   ]
  },
  {
   "cell_type": "code",
   "execution_count": 65,
   "metadata": {},
   "outputs": [
    {
     "data": {
      "text/plain": [
       "-88040.06676312693"
      ]
     },
     "execution_count": 65,
     "metadata": {},
     "output_type": "execute_result"
    }
   ],
   "source": [
    "clf.intercept_"
   ]
  },
  {
   "cell_type": "code",
   "execution_count": 66,
   "metadata": {},
   "outputs": [
    {
     "data": {
      "text/html": [
       "<div>\n",
       "<style scoped>\n",
       "    .dataframe tbody tr th:only-of-type {\n",
       "        vertical-align: middle;\n",
       "    }\n",
       "\n",
       "    .dataframe tbody tr th {\n",
       "        vertical-align: top;\n",
       "    }\n",
       "\n",
       "    .dataframe thead th {\n",
       "        text-align: right;\n",
       "    }\n",
       "</style>\n",
       "<table border=\"1\" class=\"dataframe\">\n",
       "  <thead>\n",
       "    <tr style=\"text-align: right;\">\n",
       "      <th></th>\n",
       "      <th>MSZoning</th>\n",
       "      <th>LotArea</th>\n",
       "      <th>Neighborhood</th>\n",
       "      <th>BldgType</th>\n",
       "      <th>OverallQual</th>\n",
       "      <th>OverallCond</th>\n",
       "      <th>YearBuilt</th>\n",
       "      <th>YearRemodAdd</th>\n",
       "      <th>RoofStyle</th>\n",
       "      <th>TotalBsmtSF</th>\n",
       "      <th>HeatingQC</th>\n",
       "      <th>CentralAir</th>\n",
       "      <th>GrLivArea</th>\n",
       "      <th>TotRmsAbvGrd</th>\n",
       "      <th>GarageCars</th>\n",
       "      <th>YrSold</th>\n",
       "      <th>SalePrice</th>\n",
       "    </tr>\n",
       "  </thead>\n",
       "  <tbody>\n",
       "    <tr>\n",
       "      <th>827</th>\n",
       "      <td>4</td>\n",
       "      <td>8400</td>\n",
       "      <td>10</td>\n",
       "      <td>1</td>\n",
       "      <td>4</td>\n",
       "      <td>4</td>\n",
       "      <td>1950</td>\n",
       "      <td>1950</td>\n",
       "      <td>1</td>\n",
       "      <td>721</td>\n",
       "      <td>3</td>\n",
       "      <td>1</td>\n",
       "      <td>841</td>\n",
       "      <td>4</td>\n",
       "      <td>1</td>\n",
       "      <td>2009</td>\n",
       "      <td>82000</td>\n",
       "    </tr>\n",
       "  </tbody>\n",
       "</table>\n",
       "</div>"
      ],
      "text/plain": [
       "     MSZoning  LotArea  Neighborhood  BldgType  OverallQual  OverallCond  \\\n",
       "827         4     8400            10         1            4            4   \n",
       "\n",
       "     YearBuilt  YearRemodAdd  RoofStyle  TotalBsmtSF  HeatingQC  CentralAir  \\\n",
       "827       1950          1950          1          721          3           1   \n",
       "\n",
       "     GrLivArea  TotRmsAbvGrd  GarageCars  YrSold  SalePrice  \n",
       "827        841             4           1    2009      82000  "
      ]
     },
     "execution_count": 66,
     "metadata": {},
     "output_type": "execute_result"
    }
   ],
   "source": [
    "data[1:2]"
   ]
  },
  {
   "cell_type": "markdown",
   "metadata": {},
   "source": [
    "SalePrice = 20733.21608279 * OverallQual + 45.01412324 * TotalBsmtSF +  62.89920511 * GrLIvArea \n",
    "SalePrice = 20733.21608279 * 4 + 45.01412324 * 721 +   62.89920511 * 841 - 88040.06676312693(1)\n",
    "predicted SalePrice =  80246.21192158308\n",
    "actuelle SalePrice =  82000\n",
    "p(Abweichung) =  1 -80246.21192158308/82000 = 0.021387659492889344\n"
   ]
  },
  {
   "cell_type": "code",
   "execution_count": 67,
   "metadata": {},
   "outputs": [
    {
     "data": {
      "text/plain": [
       "array([80246.21191609])"
      ]
     },
     "execution_count": 67,
     "metadata": {},
     "output_type": "execute_result"
    }
   ],
   "source": [
    "clf.predict(data.iloc[1:2, [4 ,9, 12]])"
   ]
  },
  {
   "cell_type": "markdown",
   "metadata": {},
   "source": [
    "#Klassifikation\n"
   ]
  },
  {
   "cell_type": "code",
   "execution_count": 68,
   "metadata": {},
   "outputs": [
    {
     "data": {
      "text/html": [
       "<div>\n",
       "<style scoped>\n",
       "    .dataframe tbody tr th:only-of-type {\n",
       "        vertical-align: middle;\n",
       "    }\n",
       "\n",
       "    .dataframe tbody tr th {\n",
       "        vertical-align: top;\n",
       "    }\n",
       "\n",
       "    .dataframe thead th {\n",
       "        text-align: right;\n",
       "    }\n",
       "</style>\n",
       "<table border=\"1\" class=\"dataframe\">\n",
       "  <thead>\n",
       "    <tr style=\"text-align: right;\">\n",
       "      <th></th>\n",
       "      <th>MSZoning</th>\n",
       "      <th>LotArea</th>\n",
       "      <th>Neighborhood</th>\n",
       "      <th>BldgType</th>\n",
       "      <th>OverallQual</th>\n",
       "      <th>OverallCond</th>\n",
       "      <th>YearBuilt</th>\n",
       "      <th>YearRemodAdd</th>\n",
       "      <th>RoofStyle</th>\n",
       "      <th>TotalBsmtSF</th>\n",
       "      <th>HeatingQC</th>\n",
       "      <th>GrLivArea</th>\n",
       "      <th>TotRmsAbvGrd</th>\n",
       "      <th>GarageCars</th>\n",
       "      <th>YrSold</th>\n",
       "      <th>SalePrice</th>\n",
       "    </tr>\n",
       "  </thead>\n",
       "  <tbody>\n",
       "    <tr>\n",
       "      <th>70</th>\n",
       "      <td>2</td>\n",
       "      <td>10320</td>\n",
       "      <td>15</td>\n",
       "      <td>1</td>\n",
       "      <td>6</td>\n",
       "      <td>7</td>\n",
       "      <td>1906</td>\n",
       "      <td>1995</td>\n",
       "      <td>1</td>\n",
       "      <td>756</td>\n",
       "      <td>1</td>\n",
       "      <td>1469</td>\n",
       "      <td>7</td>\n",
       "      <td>1</td>\n",
       "      <td>2008</td>\n",
       "      <td>135000</td>\n",
       "    </tr>\n",
       "    <tr>\n",
       "      <th>827</th>\n",
       "      <td>4</td>\n",
       "      <td>8400</td>\n",
       "      <td>10</td>\n",
       "      <td>1</td>\n",
       "      <td>4</td>\n",
       "      <td>4</td>\n",
       "      <td>1950</td>\n",
       "      <td>1950</td>\n",
       "      <td>1</td>\n",
       "      <td>721</td>\n",
       "      <td>3</td>\n",
       "      <td>841</td>\n",
       "      <td>4</td>\n",
       "      <td>1</td>\n",
       "      <td>2009</td>\n",
       "      <td>82000</td>\n",
       "    </tr>\n",
       "    <tr>\n",
       "      <th>231</th>\n",
       "      <td>1</td>\n",
       "      <td>21750</td>\n",
       "      <td>13</td>\n",
       "      <td>1</td>\n",
       "      <td>5</td>\n",
       "      <td>5</td>\n",
       "      <td>1954</td>\n",
       "      <td>1954</td>\n",
       "      <td>2</td>\n",
       "      <td>988</td>\n",
       "      <td>1</td>\n",
       "      <td>988</td>\n",
       "      <td>4</td>\n",
       "      <td>2</td>\n",
       "      <td>2008</td>\n",
       "      <td>113000</td>\n",
       "    </tr>\n",
       "    <tr>\n",
       "      <th>588</th>\n",
       "      <td>1</td>\n",
       "      <td>9967</td>\n",
       "      <td>6</td>\n",
       "      <td>1</td>\n",
       "      <td>7</td>\n",
       "      <td>5</td>\n",
       "      <td>2000</td>\n",
       "      <td>2000</td>\n",
       "      <td>1</td>\n",
       "      <td>384</td>\n",
       "      <td>1</td>\n",
       "      <td>1430</td>\n",
       "      <td>8</td>\n",
       "      <td>2</td>\n",
       "      <td>2007</td>\n",
       "      <td>170000</td>\n",
       "    </tr>\n",
       "    <tr>\n",
       "      <th>39</th>\n",
       "      <td>1</td>\n",
       "      <td>12456</td>\n",
       "      <td>9</td>\n",
       "      <td>1</td>\n",
       "      <td>10</td>\n",
       "      <td>5</td>\n",
       "      <td>2006</td>\n",
       "      <td>2007</td>\n",
       "      <td>2</td>\n",
       "      <td>1700</td>\n",
       "      <td>1</td>\n",
       "      <td>1718</td>\n",
       "      <td>7</td>\n",
       "      <td>3</td>\n",
       "      <td>2009</td>\n",
       "      <td>337500</td>\n",
       "    </tr>\n",
       "    <tr>\n",
       "      <th>...</th>\n",
       "      <td>...</td>\n",
       "      <td>...</td>\n",
       "      <td>...</td>\n",
       "      <td>...</td>\n",
       "      <td>...</td>\n",
       "      <td>...</td>\n",
       "      <td>...</td>\n",
       "      <td>...</td>\n",
       "      <td>...</td>\n",
       "      <td>...</td>\n",
       "      <td>...</td>\n",
       "      <td>...</td>\n",
       "      <td>...</td>\n",
       "      <td>...</td>\n",
       "      <td>...</td>\n",
       "      <td>...</td>\n",
       "    </tr>\n",
       "    <tr>\n",
       "      <th>106</th>\n",
       "      <td>4</td>\n",
       "      <td>7082</td>\n",
       "      <td>17</td>\n",
       "      <td>5</td>\n",
       "      <td>5</td>\n",
       "      <td>8</td>\n",
       "      <td>1916</td>\n",
       "      <td>1995</td>\n",
       "      <td>1</td>\n",
       "      <td>686</td>\n",
       "      <td>3</td>\n",
       "      <td>1928</td>\n",
       "      <td>10</td>\n",
       "      <td>0</td>\n",
       "      <td>2006</td>\n",
       "      <td>160000</td>\n",
       "    </tr>\n",
       "    <tr>\n",
       "      <th>270</th>\n",
       "      <td>1</td>\n",
       "      <td>20781</td>\n",
       "      <td>7</td>\n",
       "      <td>1</td>\n",
       "      <td>7</td>\n",
       "      <td>7</td>\n",
       "      <td>1968</td>\n",
       "      <td>2003</td>\n",
       "      <td>2</td>\n",
       "      <td>1568</td>\n",
       "      <td>2</td>\n",
       "      <td>2156</td>\n",
       "      <td>9</td>\n",
       "      <td>2</td>\n",
       "      <td>2006</td>\n",
       "      <td>262500</td>\n",
       "    </tr>\n",
       "    <tr>\n",
       "      <th>860</th>\n",
       "      <td>1</td>\n",
       "      <td>9738</td>\n",
       "      <td>4</td>\n",
       "      <td>1</td>\n",
       "      <td>5</td>\n",
       "      <td>7</td>\n",
       "      <td>1924</td>\n",
       "      <td>1950</td>\n",
       "      <td>1</td>\n",
       "      <td>784</td>\n",
       "      <td>3</td>\n",
       "      <td>1221</td>\n",
       "      <td>7</td>\n",
       "      <td>1</td>\n",
       "      <td>2006</td>\n",
       "      <td>104900</td>\n",
       "    </tr>\n",
       "    <tr>\n",
       "      <th>435</th>\n",
       "      <td>1</td>\n",
       "      <td>15138</td>\n",
       "      <td>14</td>\n",
       "      <td>1</td>\n",
       "      <td>8</td>\n",
       "      <td>5</td>\n",
       "      <td>1995</td>\n",
       "      <td>1996</td>\n",
       "      <td>1</td>\n",
       "      <td>1462</td>\n",
       "      <td>1</td>\n",
       "      <td>2794</td>\n",
       "      <td>9</td>\n",
       "      <td>3</td>\n",
       "      <td>2009</td>\n",
       "      <td>403000</td>\n",
       "    </tr>\n",
       "    <tr>\n",
       "      <th>102</th>\n",
       "      <td>1</td>\n",
       "      <td>7313</td>\n",
       "      <td>9</td>\n",
       "      <td>2</td>\n",
       "      <td>9</td>\n",
       "      <td>5</td>\n",
       "      <td>2005</td>\n",
       "      <td>2005</td>\n",
       "      <td>2</td>\n",
       "      <td>1561</td>\n",
       "      <td>1</td>\n",
       "      <td>1561</td>\n",
       "      <td>6</td>\n",
       "      <td>2</td>\n",
       "      <td>2007</td>\n",
       "      <td>277500</td>\n",
       "    </tr>\n",
       "  </tbody>\n",
       "</table>\n",
       "<p>900 rows × 16 columns</p>\n",
       "</div>"
      ],
      "text/plain": [
       "     MSZoning  LotArea  Neighborhood  BldgType  OverallQual  OverallCond  \\\n",
       "70          2    10320            15         1            6            7   \n",
       "827         4     8400            10         1            4            4   \n",
       "231         1    21750            13         1            5            5   \n",
       "588         1     9967             6         1            7            5   \n",
       "39          1    12456             9         1           10            5   \n",
       "..        ...      ...           ...       ...          ...          ...   \n",
       "106         4     7082            17         5            5            8   \n",
       "270         1    20781             7         1            7            7   \n",
       "860         1     9738             4         1            5            7   \n",
       "435         1    15138            14         1            8            5   \n",
       "102         1     7313             9         2            9            5   \n",
       "\n",
       "     YearBuilt  YearRemodAdd  RoofStyle  TotalBsmtSF  HeatingQC  GrLivArea  \\\n",
       "70        1906          1995          1          756          1       1469   \n",
       "827       1950          1950          1          721          3        841   \n",
       "231       1954          1954          2          988          1        988   \n",
       "588       2000          2000          1          384          1       1430   \n",
       "39        2006          2007          2         1700          1       1718   \n",
       "..         ...           ...        ...          ...        ...        ...   \n",
       "106       1916          1995          1          686          3       1928   \n",
       "270       1968          2003          2         1568          2       2156   \n",
       "860       1924          1950          1          784          3       1221   \n",
       "435       1995          1996          1         1462          1       2794   \n",
       "102       2005          2005          2         1561          1       1561   \n",
       "\n",
       "     TotRmsAbvGrd  GarageCars  YrSold  SalePrice  \n",
       "70              7           1    2008     135000  \n",
       "827             4           1    2009      82000  \n",
       "231             4           2    2008     113000  \n",
       "588             8           2    2007     170000  \n",
       "39              7           3    2009     337500  \n",
       "..            ...         ...     ...        ...  \n",
       "106            10           0    2006     160000  \n",
       "270             9           2    2006     262500  \n",
       "860             7           1    2006     104900  \n",
       "435             9           3    2009     403000  \n",
       "102             6           2    2007     277500  \n",
       "\n",
       "[900 rows x 16 columns]"
      ]
     },
     "execution_count": 68,
     "metadata": {},
     "output_type": "execute_result"
    }
   ],
   "source": [
    "caData = data.loc[:, data.columns != 'CentralAir']\n",
    "caData"
   ]
  },
  {
   "cell_type": "code",
   "execution_count": 69,
   "metadata": {},
   "outputs": [
    {
     "data": {
      "text/plain": [
       "70     1\n",
       "827    1\n",
       "231    1\n",
       "588    1\n",
       "39     1\n",
       "      ..\n",
       "106    1\n",
       "270    1\n",
       "860    1\n",
       "435    1\n",
       "102    1\n",
       "Name: CentralAir, Length: 900, dtype: int64"
      ]
     },
     "execution_count": 69,
     "metadata": {},
     "output_type": "execute_result"
    }
   ],
   "source": [
    "caLabels = data[\"CentralAir\"]\n",
    "caLabels"
   ]
  },
  {
   "cell_type": "code",
   "execution_count": 70,
   "metadata": {},
   "outputs": [],
   "source": [
    "trainCaData = caData[0:math.floor(lenDataSet*0.8)]"
   ]
  },
  {
   "cell_type": "code",
   "execution_count": 71,
   "metadata": {},
   "outputs": [],
   "source": [
    "validateCaData = caData[math.ceil(lenDataSet*0.8):math.floor(lenDataSet*0.95)] "
   ]
  },
  {
   "cell_type": "code",
   "execution_count": 72,
   "metadata": {},
   "outputs": [],
   "source": [
    "testCaData = caData[math.ceil(lenDataSet*0.95):]"
   ]
  },
  {
   "cell_type": "code",
   "execution_count": 73,
   "metadata": {},
   "outputs": [],
   "source": [
    "trainCaLabels = caLabels[0:math.floor(lenDataSet*0.8)] "
   ]
  },
  {
   "cell_type": "code",
   "execution_count": 74,
   "metadata": {},
   "outputs": [],
   "source": [
    "validateCaLabels = caLabels[math.ceil(lenDataSet*0.8):math.floor(lenDataSet*0.95)]"
   ]
  },
  {
   "cell_type": "code",
   "execution_count": 75,
   "metadata": {},
   "outputs": [],
   "source": [
    "testCaLabels = caLabels[math.ceil(lenDataSet*0.95):]"
   ]
  },
  {
   "cell_type": "code",
   "execution_count": null,
   "metadata": {},
   "outputs": [],
   "source": []
  },
  {
   "cell_type": "code",
   "execution_count": null,
   "metadata": {},
   "outputs": [],
   "source": []
  },
  {
   "cell_type": "code",
   "execution_count": null,
   "metadata": {},
   "outputs": [],
   "source": []
  },
  {
   "cell_type": "code",
   "execution_count": null,
   "metadata": {},
   "outputs": [],
   "source": []
  },
  {
   "cell_type": "code",
   "execution_count": null,
   "metadata": {},
   "outputs": [],
   "source": []
  },
  {
   "cell_type": "code",
   "execution_count": 76,
   "metadata": {},
   "outputs": [
    {
     "data": {
      "text/plain": [
       "0.9481481481481482"
      ]
     },
     "execution_count": 76,
     "metadata": {},
     "output_type": "execute_result"
    }
   ],
   "source": [
    "from sklearn import tree\n",
    "cadtc= tree.DecisionTreeClassifier()\n",
    "cadtc = cadtc.fit(trainCaData, trainCaLabels)\n",
    "cadtc.score(validateCaData,validateCaLabels)\n"
   ]
  },
  {
   "cell_type": "code",
   "execution_count": 77,
   "metadata": {},
   "outputs": [
    {
     "name": "stderr",
     "output_type": "stream",
     "text": [
      "C:\\Users\\fetzert\\AppData\\Local\\Continuum\\anaconda3\\lib\\site-packages\\sklearn\\externals\\six.py:31: FutureWarning: The module is deprecated in version 0.21 and will be removed in version 0.23 since we've dropped support for Python 2.7. Please rely on the official version of six (https://pypi.org/project/six/).\n",
      "  \"(https://pypi.org/project/six/).\", FutureWarning)\n"
     ]
    },
    {
     "data": {
      "image/png": "[encoded data removed]",
      "text/plain": [
       "<IPython.core.display.Image object>"
      ]
     },
     "execution_count": 77,
     "metadata": {},
     "output_type": "execute_result"
    }
   ],
   "source": [
    "from sklearn.externals.six import StringIO  \n",
    "from IPython.display import Image  \n",
    "from sklearn.tree import export_graphviz\n",
    "import pydotplus\n",
    "dot_data = StringIO()\n",
    "feature_names = caData.columns\n",
    "tree.export_graphviz(cadtc, out_file=dot_data,\n",
    "                     feature_names=feature_names ,\n",
    "                     class_names=True)\n",
    "graph = pydotplus.graph_from_dot_data(dot_data.getvalue())  \n",
    "Image(graph.create_png())"
   ]
  },
  {
   "cell_type": "code",
   "execution_count": null,
   "metadata": {},
   "outputs": [],
   "source": []
  },
  {
   "cell_type": "code",
   "execution_count": 86,
   "metadata": {},
   "outputs": [],
   "source": [
    "from sklearn.metrics import accuracy_score, mean_squared_error, r2_score, confusion_matrix\n",
    "\n",
    "def readData(filename):\n",
    "    if str(filename):\n",
    "        data = pd.read_csv(filename, sep= \";\")\n",
    "        return data;\n",
    "    \n",
    "def prepareData(dataFrame):\n",
    "    if type(data) == pd.core.frame.DataFrame:\n",
    "        return data\n",
    "    \n",
    "def applyModel(model, dataFrame):\n",
    "    if type(data) == pd.core.frame.DataFrame:\n",
    "       applyLinearRegressor(model, dataFrame)\n",
    "            \n",
    "def applyLinearRegressor(model, dataFrame):\n",
    "    if type(data) == pd.core.frame.DataFrame:\n",
    "        y = dataFrame.SalePrice\n",
    "        #x = dataFrame.drop('SalePrice', axis=1)\n",
    "        x = dataFrame.iloc[:, [4 ,9, 12]]\n",
    "        \n",
    "        #Führe Prediction durch und berechne Messwerte\n",
    "        prediction = model.predict(x)\n",
    "        r2 = r2_score(y,prediction)\n",
    "        mse = mean_squared_error(y, prediction)\n",
    "        rmse = np.sqrt(mse)\n",
    "        mape = np.mean(np.abs((y - prediction) / y)) * 100\n",
    "        \n",
    "        print('r^2: {}\\nmse: {}\\nrmse: {}\\nmape: {}\\n'.format(r2,mse,rmse,mape))\n",
    "        \n"
   ]
  },
  {
   "cell_type": "code",
   "execution_count": 87,
   "metadata": {
    "scrolled": false
   },
   "outputs": [
    {
     "name": "stdout",
     "output_type": "stream",
     "text": [
      "r^2: 0.7977696523981921\n",
      "mse: 1030176812.92162\n",
      "rmse: 32096.367596997952\n",
      "mape: 14.682583608600167\n",
      "\n"
     ]
    }
   ],
   "source": [
    "applyModel(clf,data)"
   ]
  },
  {
   "cell_type": "code",
   "execution_count": 88,
   "metadata": {},
   "outputs": [],
   "source": [
    "from sklearn.ensemble import RandomForestClassifier\n",
    "from sklearn.datasets import make_classification"
   ]
  },
  {
   "cell_type": "code",
   "execution_count": 91,
   "metadata": {},
   "outputs": [
    {
     "data": {
      "text/plain": [
       "0.9185185185185185"
      ]
     },
     "execution_count": 91,
     "metadata": {},
     "output_type": "execute_result"
    }
   ],
   "source": [
    "rfC = RandomForestClassifier(max_depth=2, random_state=0)\n",
    "rfC.fit(trainCaData, trainCaLabels)\n",
    "rfC.score(validateCaData, validateCaLabels)\n",
    "\n",
    "\n"
   ]
  },
  {
   "cell_type": "code",
   "execution_count": 92,
   "metadata": {},
   "outputs": [],
   "source": [
    "from sklearn.ensemble import GradientBoostingClassifier"
   ]
  },
  {
   "cell_type": "code",
   "execution_count": 94,
   "metadata": {},
   "outputs": [
    {
     "data": {
      "text/plain": [
       "0.9333333333333333"
      ]
     },
     "execution_count": 94,
     "metadata": {},
     "output_type": "execute_result"
    }
   ],
   "source": [
    "gbC = GradientBoostingClassifier(n_estimators=20, max_features=2, max_depth=2, random_state=0)\n",
    "gbC.fit(trainCaData, trainCaLabels)\n",
    "gbC.score(validateCaData, validateCaLabels)\n"
   ]
  }
 ],
 "metadata": {
  "kernelspec": {
   "display_name": "Python 3",
   "language": "python",
   "name": "python3"
  },
  "language_info": {
   "codemirror_mode": {
    "name": "ipython",
    "version": 3
   },
   "file_extension": ".py",
   "mimetype": "text/x-python",
   "name": "python",
   "nbconvert_exporter": "python",
   "pygments_lexer": "ipython3",
   "version": "3.7.6"
  }
 },
 "nbformat": 4,
 "nbformat_minor": 2
}
