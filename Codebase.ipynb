{
 "cells": [
  {
   "cell_type": "code",
   "execution_count": 1,
   "metadata": {},
   "outputs": [],
   "source": [
    "import pandas as pd"
   ]
  },
  {
   "cell_type": "code",
   "execution_count": null,
   "metadata": {},
   "outputs": [],
   "source": []
  },
  {
   "cell_type": "code",
   "execution_count": 2,
   "metadata": {},
   "outputs": [],
   "source": [
    "import seaborn  as sb"
   ]
  },
  {
   "cell_type": "code",
   "execution_count": null,
   "metadata": {},
   "outputs": [],
   "source": []
  },
  {
   "cell_type": "code",
   "execution_count": 3,
   "metadata": {},
   "outputs": [
    {
     "data": {
      "text/plain": [
       "pandas.core.frame.DataFrame"
      ]
     },
     "execution_count": 3,
     "metadata": {},
     "output_type": "execute_result"
    }
   ],
   "source": [
    "data = pd.read_csv(\"SetFiltered.csv\", sep= \";\") \n",
    "type(data)"
   ]
  },
  {
   "cell_type": "markdown",
   "metadata": {},
   "source": [
    "#Erste Erkenntnisse first look\n",
    "\n",
    "Null gibt es sonst nicht\n",
    "NAN auch nicht\n",
    "-1 auch nicht "
   ]
  },
  {
   "cell_type": "code",
   "execution_count": 4,
   "metadata": {},
   "outputs": [
    {
     "data": {
      "text/html": [
       "<div>\n",
       "<style scoped>\n",
       "    .dataframe tbody tr th:only-of-type {\n",
       "        vertical-align: middle;\n",
       "    }\n",
       "\n",
       "    .dataframe tbody tr th {\n",
       "        vertical-align: top;\n",
       "    }\n",
       "\n",
       "    .dataframe thead th {\n",
       "        text-align: right;\n",
       "    }\n",
       "</style>\n",
       "<table border=\"1\" class=\"dataframe\">\n",
       "  <thead>\n",
       "    <tr style=\"text-align: right;\">\n",
       "      <th></th>\n",
       "      <th>MSZoning</th>\n",
       "      <th>LotArea</th>\n",
       "      <th>Neighborhood</th>\n",
       "      <th>BldgType</th>\n",
       "      <th>OverallQual</th>\n",
       "      <th>OverallCond</th>\n",
       "      <th>YearBuilt</th>\n",
       "      <th>YearRemodAdd</th>\n",
       "      <th>RoofStyle</th>\n",
       "      <th>TotalBsmtSF</th>\n",
       "      <th>HeatingQC</th>\n",
       "      <th>CentralAir</th>\n",
       "      <th>GrLivArea</th>\n",
       "      <th>TotRmsAbvGrd</th>\n",
       "      <th>GarageCars</th>\n",
       "      <th>YrSold</th>\n",
       "      <th>SalePrice</th>\n",
       "    </tr>\n",
       "  </thead>\n",
       "  <tbody>\n",
       "    <tr>\n",
       "      <th>81</th>\n",
       "      <td>C (all)</td>\n",
       "      <td>8500</td>\n",
       "      <td>IDOTRR</td>\n",
       "      <td>1Fam</td>\n",
       "      <td>4</td>\n",
       "      <td>4</td>\n",
       "      <td>1920</td>\n",
       "      <td>1950</td>\n",
       "      <td>Gambrel</td>\n",
       "      <td>649</td>\n",
       "      <td>TA</td>\n",
       "      <td>N</td>\n",
       "      <td>1317</td>\n",
       "      <td>6</td>\n",
       "      <td>1</td>\n",
       "      <td>2008</td>\n",
       "      <td>40000</td>\n",
       "    </tr>\n",
       "  </tbody>\n",
       "</table>\n",
       "</div>"
      ],
      "text/plain": [
       "   MSZoning  LotArea Neighborhood BldgType  OverallQual  OverallCond  \\\n",
       "81  C (all)     8500       IDOTRR     1Fam            4            4   \n",
       "\n",
       "    YearBuilt  YearRemodAdd RoofStyle  TotalBsmtSF HeatingQC CentralAir  \\\n",
       "81       1920          1950   Gambrel          649        TA          N   \n",
       "\n",
       "    GrLivArea  TotRmsAbvGrd  GarageCars  YrSold  SalePrice  \n",
       "81       1317             6           1    2008      40000  "
      ]
     },
     "execution_count": 4,
     "metadata": {},
     "output_type": "execute_result"
    }
   ],
   "source": [
    "data[81:82]\n"
   ]
  },
  {
   "cell_type": "code",
   "execution_count": 5,
   "metadata": {},
   "outputs": [
    {
     "data": {
      "text/html": [
       "<div>\n",
       "<style scoped>\n",
       "    .dataframe tbody tr th:only-of-type {\n",
       "        vertical-align: middle;\n",
       "    }\n",
       "\n",
       "    .dataframe tbody tr th {\n",
       "        vertical-align: top;\n",
       "    }\n",
       "\n",
       "    .dataframe thead th {\n",
       "        text-align: right;\n",
       "    }\n",
       "</style>\n",
       "<table border=\"1\" class=\"dataframe\">\n",
       "  <thead>\n",
       "    <tr style=\"text-align: right;\">\n",
       "      <th></th>\n",
       "      <th>LotArea</th>\n",
       "      <th>OverallQual</th>\n",
       "      <th>OverallCond</th>\n",
       "      <th>YearBuilt</th>\n",
       "      <th>YearRemodAdd</th>\n",
       "      <th>TotalBsmtSF</th>\n",
       "      <th>GrLivArea</th>\n",
       "      <th>TotRmsAbvGrd</th>\n",
       "      <th>GarageCars</th>\n",
       "      <th>YrSold</th>\n",
       "      <th>SalePrice</th>\n",
       "    </tr>\n",
       "  </thead>\n",
       "  <tbody>\n",
       "    <tr>\n",
       "      <th>count</th>\n",
       "      <td>900.000000</td>\n",
       "      <td>900.000000</td>\n",
       "      <td>900.000000</td>\n",
       "      <td>900.000000</td>\n",
       "      <td>900.000000</td>\n",
       "      <td>900.000000</td>\n",
       "      <td>900.000000</td>\n",
       "      <td>900.000000</td>\n",
       "      <td>900.000000</td>\n",
       "      <td>900.000000</td>\n",
       "      <td>900.000000</td>\n",
       "    </tr>\n",
       "    <tr>\n",
       "      <th>mean</th>\n",
       "      <td>10629.817778</td>\n",
       "      <td>6.014444</td>\n",
       "      <td>5.652222</td>\n",
       "      <td>1969.347778</td>\n",
       "      <td>1984.185556</td>\n",
       "      <td>1028.166667</td>\n",
       "      <td>1487.441111</td>\n",
       "      <td>6.415556</td>\n",
       "      <td>1.745556</td>\n",
       "      <td>2007.896667</td>\n",
       "      <td>176184.454444</td>\n",
       "    </tr>\n",
       "    <tr>\n",
       "      <th>std</th>\n",
       "      <td>9947.088936</td>\n",
       "      <td>1.336912</td>\n",
       "      <td>1.151555</td>\n",
       "      <td>29.573049</td>\n",
       "      <td>20.195265</td>\n",
       "      <td>403.019702</td>\n",
       "      <td>504.588271</td>\n",
       "      <td>1.601786</td>\n",
       "      <td>0.715887</td>\n",
       "      <td>1.306010</td>\n",
       "      <td>71412.482393</td>\n",
       "    </tr>\n",
       "    <tr>\n",
       "      <th>min</th>\n",
       "      <td>1300.000000</td>\n",
       "      <td>1.000000</td>\n",
       "      <td>1.000000</td>\n",
       "      <td>1872.000000</td>\n",
       "      <td>1950.000000</td>\n",
       "      <td>0.000000</td>\n",
       "      <td>334.000000</td>\n",
       "      <td>2.000000</td>\n",
       "      <td>0.000000</td>\n",
       "      <td>2006.000000</td>\n",
       "      <td>39300.000000</td>\n",
       "    </tr>\n",
       "    <tr>\n",
       "      <th>25%</th>\n",
       "      <td>7432.250000</td>\n",
       "      <td>5.000000</td>\n",
       "      <td>5.000000</td>\n",
       "      <td>1953.000000</td>\n",
       "      <td>1966.000000</td>\n",
       "      <td>790.250000</td>\n",
       "      <td>1102.750000</td>\n",
       "      <td>5.000000</td>\n",
       "      <td>1.000000</td>\n",
       "      <td>2007.000000</td>\n",
       "      <td>130000.000000</td>\n",
       "    </tr>\n",
       "    <tr>\n",
       "      <th>50%</th>\n",
       "      <td>9475.000000</td>\n",
       "      <td>6.000000</td>\n",
       "      <td>5.000000</td>\n",
       "      <td>1971.000000</td>\n",
       "      <td>1993.000000</td>\n",
       "      <td>968.500000</td>\n",
       "      <td>1443.500000</td>\n",
       "      <td>6.000000</td>\n",
       "      <td>2.000000</td>\n",
       "      <td>2008.000000</td>\n",
       "      <td>161000.000000</td>\n",
       "    </tr>\n",
       "    <tr>\n",
       "      <th>75%</th>\n",
       "      <td>11700.000000</td>\n",
       "      <td>7.000000</td>\n",
       "      <td>6.000000</td>\n",
       "      <td>1998.000000</td>\n",
       "      <td>2002.000000</td>\n",
       "      <td>1249.500000</td>\n",
       "      <td>1750.500000</td>\n",
       "      <td>7.000000</td>\n",
       "      <td>2.000000</td>\n",
       "      <td>2009.000000</td>\n",
       "      <td>205000.000000</td>\n",
       "    </tr>\n",
       "    <tr>\n",
       "      <th>max</th>\n",
       "      <td>164660.000000</td>\n",
       "      <td>10.000000</td>\n",
       "      <td>9.000000</td>\n",
       "      <td>2009.000000</td>\n",
       "      <td>2009.000000</td>\n",
       "      <td>3206.000000</td>\n",
       "      <td>4316.000000</td>\n",
       "      <td>12.000000</td>\n",
       "      <td>4.000000</td>\n",
       "      <td>2010.000000</td>\n",
       "      <td>755000.000000</td>\n",
       "    </tr>\n",
       "  </tbody>\n",
       "</table>\n",
       "</div>"
      ],
      "text/plain": [
       "             LotArea  OverallQual  OverallCond    YearBuilt  YearRemodAdd  \\\n",
       "count     900.000000   900.000000   900.000000   900.000000    900.000000   \n",
       "mean    10629.817778     6.014444     5.652222  1969.347778   1984.185556   \n",
       "std      9947.088936     1.336912     1.151555    29.573049     20.195265   \n",
       "min      1300.000000     1.000000     1.000000  1872.000000   1950.000000   \n",
       "25%      7432.250000     5.000000     5.000000  1953.000000   1966.000000   \n",
       "50%      9475.000000     6.000000     5.000000  1971.000000   1993.000000   \n",
       "75%     11700.000000     7.000000     6.000000  1998.000000   2002.000000   \n",
       "max    164660.000000    10.000000     9.000000  2009.000000   2009.000000   \n",
       "\n",
       "       TotalBsmtSF    GrLivArea  TotRmsAbvGrd  GarageCars       YrSold  \\\n",
       "count   900.000000   900.000000    900.000000  900.000000   900.000000   \n",
       "mean   1028.166667  1487.441111      6.415556    1.745556  2007.896667   \n",
       "std     403.019702   504.588271      1.601786    0.715887     1.306010   \n",
       "min       0.000000   334.000000      2.000000    0.000000  2006.000000   \n",
       "25%     790.250000  1102.750000      5.000000    1.000000  2007.000000   \n",
       "50%     968.500000  1443.500000      6.000000    2.000000  2008.000000   \n",
       "75%    1249.500000  1750.500000      7.000000    2.000000  2009.000000   \n",
       "max    3206.000000  4316.000000     12.000000    4.000000  2010.000000   \n",
       "\n",
       "           SalePrice  \n",
       "count     900.000000  \n",
       "mean   176184.454444  \n",
       "std     71412.482393  \n",
       "min     39300.000000  \n",
       "25%    130000.000000  \n",
       "50%    161000.000000  \n",
       "75%    205000.000000  \n",
       "max    755000.000000  "
      ]
     },
     "execution_count": 5,
     "metadata": {},
     "output_type": "execute_result"
    }
   ],
   "source": [
    "data.describe()"
   ]
  },
  {
   "cell_type": "markdown",
   "metadata": {},
   "source": [
    "Lot Area riesiges Maximum kann riesige Auswirkungen haben. </br>\n",
    "Riesiges Minimum und Maximum </br>\n",
    "\n",
    "\n"
   ]
  },
  {
   "cell_type": "code",
   "execution_count": null,
   "metadata": {},
   "outputs": [],
   "source": []
  },
  {
   "cell_type": "code",
   "execution_count": 6,
   "metadata": {},
   "outputs": [
    {
     "data": {
      "text/html": [
       "<div>\n",
       "<style scoped>\n",
       "    .dataframe tbody tr th:only-of-type {\n",
       "        vertical-align: middle;\n",
       "    }\n",
       "\n",
       "    .dataframe tbody tr th {\n",
       "        vertical-align: top;\n",
       "    }\n",
       "\n",
       "    .dataframe thead th {\n",
       "        text-align: right;\n",
       "    }\n",
       "</style>\n",
       "<table border=\"1\" class=\"dataframe\">\n",
       "  <thead>\n",
       "    <tr style=\"text-align: right;\">\n",
       "      <th></th>\n",
       "      <th>MSZoning</th>\n",
       "      <th>LotArea</th>\n",
       "      <th>Neighborhood</th>\n",
       "      <th>BldgType</th>\n",
       "      <th>OverallQual</th>\n",
       "      <th>OverallCond</th>\n",
       "      <th>YearBuilt</th>\n",
       "      <th>YearRemodAdd</th>\n",
       "      <th>RoofStyle</th>\n",
       "      <th>TotalBsmtSF</th>\n",
       "      <th>HeatingQC</th>\n",
       "      <th>CentralAir</th>\n",
       "      <th>GrLivArea</th>\n",
       "      <th>TotRmsAbvGrd</th>\n",
       "      <th>GarageCars</th>\n",
       "      <th>YrSold</th>\n",
       "      <th>SalePrice</th>\n",
       "    </tr>\n",
       "  </thead>\n",
       "  <tbody>\n",
       "    <tr>\n",
       "      <th>123</th>\n",
       "      <td>RL</td>\n",
       "      <td>10655</td>\n",
       "      <td>NridgHt</td>\n",
       "      <td>1Fam</td>\n",
       "      <td>8</td>\n",
       "      <td>5</td>\n",
       "      <td>2003</td>\n",
       "      <td>2004</td>\n",
       "      <td>Gable</td>\n",
       "      <td>3206</td>\n",
       "      <td>Ex</td>\n",
       "      <td>Y</td>\n",
       "      <td>1629</td>\n",
       "      <td>7</td>\n",
       "      <td>3</td>\n",
       "      <td>2009</td>\n",
       "      <td>284000</td>\n",
       "    </tr>\n",
       "  </tbody>\n",
       "</table>\n",
       "</div>"
      ],
      "text/plain": [
       "    MSZoning  LotArea Neighborhood BldgType  OverallQual  OverallCond  \\\n",
       "123       RL    10655      NridgHt     1Fam            8            5   \n",
       "\n",
       "     YearBuilt  YearRemodAdd RoofStyle  TotalBsmtSF HeatingQC CentralAir  \\\n",
       "123       2003          2004     Gable         3206        Ex          Y   \n",
       "\n",
       "     GrLivArea  TotRmsAbvGrd  GarageCars  YrSold  SalePrice  \n",
       "123       1629             7           3    2009     284000  "
      ]
     },
     "execution_count": 6,
     "metadata": {},
     "output_type": "execute_result"
    }
   ],
   "source": [
    "bigG = data.query(\"TotalBsmtSF == 3206\")\n",
    "bigG\n"
   ]
  },
  {
   "cell_type": "code",
   "execution_count": 7,
   "metadata": {},
   "outputs": [
    {
     "data": {
      "text/html": [
       "<div>\n",
       "<style scoped>\n",
       "    .dataframe tbody tr th:only-of-type {\n",
       "        vertical-align: middle;\n",
       "    }\n",
       "\n",
       "    .dataframe tbody tr th {\n",
       "        vertical-align: top;\n",
       "    }\n",
       "\n",
       "    .dataframe thead th {\n",
       "        text-align: right;\n",
       "    }\n",
       "</style>\n",
       "<table border=\"1\" class=\"dataframe\">\n",
       "  <thead>\n",
       "    <tr style=\"text-align: right;\">\n",
       "      <th></th>\n",
       "      <th>MSZoning</th>\n",
       "      <th>LotArea</th>\n",
       "      <th>Neighborhood</th>\n",
       "      <th>BldgType</th>\n",
       "      <th>OverallQual</th>\n",
       "      <th>OverallCond</th>\n",
       "      <th>YearBuilt</th>\n",
       "      <th>YearRemodAdd</th>\n",
       "      <th>RoofStyle</th>\n",
       "      <th>TotalBsmtSF</th>\n",
       "      <th>HeatingQC</th>\n",
       "      <th>CentralAir</th>\n",
       "      <th>GrLivArea</th>\n",
       "      <th>TotRmsAbvGrd</th>\n",
       "      <th>GarageCars</th>\n",
       "      <th>YrSold</th>\n",
       "      <th>SalePrice</th>\n",
       "    </tr>\n",
       "  </thead>\n",
       "  <tbody>\n",
       "    <tr>\n",
       "      <th>844</th>\n",
       "      <td>RL</td>\n",
       "      <td>164660</td>\n",
       "      <td>Timber</td>\n",
       "      <td>2fmCon</td>\n",
       "      <td>5</td>\n",
       "      <td>6</td>\n",
       "      <td>1965</td>\n",
       "      <td>1965</td>\n",
       "      <td>Gable</td>\n",
       "      <td>1499</td>\n",
       "      <td>Ex</td>\n",
       "      <td>Y</td>\n",
       "      <td>1786</td>\n",
       "      <td>7</td>\n",
       "      <td>2</td>\n",
       "      <td>2008</td>\n",
       "      <td>228950</td>\n",
       "    </tr>\n",
       "  </tbody>\n",
       "</table>\n",
       "</div>"
      ],
      "text/plain": [
       "    MSZoning  LotArea Neighborhood BldgType  OverallQual  OverallCond  \\\n",
       "844       RL   164660       Timber   2fmCon            5            6   \n",
       "\n",
       "     YearBuilt  YearRemodAdd RoofStyle  TotalBsmtSF HeatingQC CentralAir  \\\n",
       "844       1965          1965     Gable         1499        Ex          Y   \n",
       "\n",
       "     GrLivArea  TotRmsAbvGrd  GarageCars  YrSold  SalePrice  \n",
       "844       1786             7           2    2008     228950  "
      ]
     },
     "execution_count": 7,
     "metadata": {},
     "output_type": "execute_result"
    }
   ],
   "source": [
    "data[data[\"LotArea\"].idxmax():data[\"LotArea\"].idxmax()+1]"
   ]
  },
  {
   "cell_type": "code",
   "execution_count": 8,
   "metadata": {},
   "outputs": [
    {
     "data": {
      "text/plain": [
       "array(['RL', 'RM', 'FV', 'RH', 'C (all)'], dtype=object)"
      ]
     },
     "execution_count": 8,
     "metadata": {},
     "output_type": "execute_result"
    }
   ],
   "source": [
    "data[\"MSZoning\"].unique()"
   ]
  },
  {
   "cell_type": "code",
   "execution_count": 9,
   "metadata": {
    "scrolled": true
   },
   "outputs": [
    {
     "data": {
      "text/plain": [
       "RL         716\n",
       "RM         145\n",
       "FV          28\n",
       "RH          10\n",
       "C (all)      1\n",
       "Name: MSZoning, dtype: int64"
      ]
     },
     "execution_count": 9,
     "metadata": {},
     "output_type": "execute_result"
    }
   ],
   "source": [
    "data['MSZoning'].value_counts()"
   ]
  },
  {
   "cell_type": "markdown",
   "metadata": {},
   "source": [
    "C (all) ist nur alleine "
   ]
  },
  {
   "cell_type": "code",
   "execution_count": 10,
   "metadata": {},
   "outputs": [],
   "source": [
    "data = data.query(\"MSZoning != 'C (all)'\")"
   ]
  },
  {
   "cell_type": "code",
   "execution_count": 11,
   "metadata": {},
   "outputs": [
    {
     "data": {
      "text/plain": [
       "NAmes      150\n",
       "CollgCr    103\n",
       "OldTown     71\n",
       "Edwards     53\n",
       "Sawyer      52\n",
       "Gilbert     47\n",
       "NWAmes      46\n",
       "BrkSide     41\n",
       "NridgHt     39\n",
       "SawyerW     37\n",
       "Somerst     34\n",
       "Crawfor     34\n",
       "Mitchel     33\n",
       "NoRidge     26\n",
       "Timber      21\n",
       "IDOTRR      20\n",
       "SWISU       18\n",
       "ClearCr     17\n",
       "StoneBr     13\n",
       "MeadowV     12\n",
       "BrDale       9\n",
       "Blmngtn      9\n",
       "Veenker      8\n",
       "NPkVill      5\n",
       "Blueste      1\n",
       "Name: Neighborhood, dtype: int64"
      ]
     },
     "execution_count": 11,
     "metadata": {},
     "output_type": "execute_result"
    }
   ],
   "source": [
    "data['Neighborhood'].value_counts()"
   ]
  },
  {
   "cell_type": "markdown",
   "metadata": {},
   "source": [
    "Blueste kommt nur einmal vor"
   ]
  },
  {
   "cell_type": "code",
   "execution_count": 12,
   "metadata": {},
   "outputs": [],
   "source": [
    "data = data.query(\"Neighborhood != 'Blueste'\")\n"
   ]
  },
  {
   "cell_type": "markdown",
   "metadata": {},
   "source": [
    "Geund warum dies man kann mit der Information Blueste wenn es nur einen Eintrag gibt nichts anfangen"
   ]
  },
  {
   "cell_type": "code",
   "execution_count": 13,
   "metadata": {},
   "outputs": [
    {
     "data": {
      "text/plain": [
       "1Fam      758\n",
       "TwnhsE     67\n",
       "Duplex     29\n",
       "Twnhs      27\n",
       "2fmCon     17\n",
       "Name: BldgType, dtype: int64"
      ]
     },
     "execution_count": 13,
     "metadata": {},
     "output_type": "execute_result"
    }
   ],
   "source": [
    "data['BldgType'].value_counts()"
   ]
  },
  {
   "cell_type": "markdown",
   "metadata": {},
   "source": [
    "Einfamiliehaushalt ist am häufigsten "
   ]
  },
  {
   "cell_type": "code",
   "execution_count": 14,
   "metadata": {},
   "outputs": [
    {
     "data": {
      "text/plain": [
       "5     248\n",
       "6     243\n",
       "7     193\n",
       "8      92\n",
       "4      77\n",
       "9      23\n",
       "3      13\n",
       "10      6\n",
       "1       2\n",
       "2       1\n",
       "Name: OverallQual, dtype: int64"
      ]
     },
     "execution_count": 14,
     "metadata": {},
     "output_type": "execute_result"
    }
   ],
   "source": [
    "data['OverallQual'].value_counts()"
   ]
  },
  {
   "cell_type": "code",
   "execution_count": 15,
   "metadata": {},
   "outputs": [
    {
     "data": {
      "text/plain": [
       "<matplotlib.axes._subplots.AxesSubplot at 0x15667dfe848>"
      ]
     },
     "execution_count": 15,
     "metadata": {},
     "output_type": "execute_result"
    },
    {
     "data": {
      "image/png": "[encoded data removed]",
      "text/plain": [
       "<Figure size 432x288 with 1 Axes>"
      ]
     },
     "metadata": {
      "needs_background": "light"
     },
     "output_type": "display_data"
    }
   ],
   "source": [
    "sb.lineplot(data['OverallQual'].value_counts().keys(), data['OverallQual'].value_counts())\n"
   ]
  },
  {
   "cell_type": "code",
   "execution_count": null,
   "metadata": {},
   "outputs": [],
   "source": []
  },
  {
   "cell_type": "markdown",
   "metadata": {},
   "source": [
    "schaut nach einer Gaussverteilung aus"
   ]
  },
  {
   "cell_type": "code",
   "execution_count": 16,
   "metadata": {},
   "outputs": [
    {
     "data": {
      "text/plain": [
       "5    481\n",
       "6    157\n",
       "7    134\n",
       "8     55\n",
       "4     40\n",
       "9     17\n",
       "3     12\n",
       "2      1\n",
       "1      1\n",
       "Name: OverallCond, dtype: int64"
      ]
     },
     "execution_count": 16,
     "metadata": {},
     "output_type": "execute_result"
    }
   ],
   "source": [
    "data['OverallCond'].value_counts()"
   ]
  },
  {
   "cell_type": "code",
   "execution_count": 17,
   "metadata": {},
   "outputs": [
    {
     "data": {
      "text/plain": [
       "<matplotlib.axes._subplots.AxesSubplot at 0x1566a0d6548>"
      ]
     },
     "execution_count": 17,
     "metadata": {},
     "output_type": "execute_result"
    },
    {
     "data": {
      "image/png": "[encoded data removed]",
      "text/plain": [
       "<Figure size 432x288 with 1 Axes>"
      ]
     },
     "metadata": {
      "needs_background": "light"
     },
     "output_type": "display_data"
    }
   ],
   "source": [
    "sb.lineplot(data['OverallCond'].value_counts().keys(), data['OverallCond'].value_counts())"
   ]
  },
  {
   "cell_type": "code",
   "execution_count": 18,
   "metadata": {},
   "outputs": [
    {
     "data": {
      "text/plain": [
       "Gable      707\n",
       "Hip        171\n",
       "Flat         7\n",
       "Gambrel      6\n",
       "Mansard      5\n",
       "Shed         2\n",
       "Name: RoofStyle, dtype: int64"
      ]
     },
     "execution_count": 18,
     "metadata": {},
     "output_type": "execute_result"
    }
   ],
   "source": [
    "data['RoofStyle'].value_counts()"
   ]
  },
  {
   "cell_type": "markdown",
   "metadata": {},
   "source": [
    "Giebel und hip dach sind auf häufigsten "
   ]
  },
  {
   "cell_type": "code",
   "execution_count": 19,
   "metadata": {},
   "outputs": [
    {
     "data": {
      "text/plain": [
       "Ex    448\n",
       "TA    262\n",
       "Gd    161\n",
       "Fa     26\n",
       "Po      1\n",
       "Name: HeatingQC, dtype: int64"
      ]
     },
     "execution_count": 19,
     "metadata": {},
     "output_type": "execute_result"
    }
   ],
   "source": [
    "data['HeatingQC'].value_counts()"
   ]
  },
  {
   "cell_type": "markdown",
   "metadata": {},
   "source": [
    "schlechte warmequaltität der Heizung ist nur ein Haus"
   ]
  },
  {
   "cell_type": "code",
   "execution_count": 20,
   "metadata": {},
   "outputs": [
    {
     "data": {
      "text/plain": [
       "Y    844\n",
       "N     54\n",
       "Name: CentralAir, dtype: int64"
      ]
     },
     "execution_count": 20,
     "metadata": {},
     "output_type": "execute_result"
    }
   ],
   "source": [
    "data['CentralAir'].value_counts()"
   ]
  },
  {
   "cell_type": "markdown",
   "metadata": {},
   "source": [
    "Meiste haben eine Klimaanlage"
   ]
  },
  {
   "cell_type": "code",
   "execution_count": 21,
   "metadata": {},
   "outputs": [
    {
     "data": {
      "text/plain": [
       "<matplotlib.axes._subplots.AxesSubplot at 0x15669944ac8>"
      ]
     },
     "execution_count": 21,
     "metadata": {},
     "output_type": "execute_result"
    },
    {
     "data": {
      "image/png": "[encoded data removed]",
      "text/plain": [
       "<Figure size 432x288 with 1 Axes>"
      ]
     },
     "metadata": {
      "needs_background": "light"
     },
     "output_type": "display_data"
    }
   ],
   "source": [
    "sb.lineplot(data['GrLivArea'].value_counts().keys(), data['GrLivArea'].value_counts())"
   ]
  },
  {
   "cell_type": "markdown",
   "metadata": {},
   "source": [
    "Viele kleine und der eine ausreisser"
   ]
  },
  {
   "cell_type": "code",
   "execution_count": 22,
   "metadata": {},
   "outputs": [
    {
     "data": {
      "text/plain": [
       "<matplotlib.axes._subplots.AxesSubplot at 0x1566a1bfa48>"
      ]
     },
     "execution_count": 22,
     "metadata": {},
     "output_type": "execute_result"
    },
    {
     "data": {
      "image/png": "[encoded data removed]",
      "text/plain": [
       "<Figure size 432x288 with 1 Axes>"
      ]
     },
     "metadata": {
      "needs_background": "light"
     },
     "output_type": "display_data"
    }
   ],
   "source": [
    "sb.lineplot(data['TotRmsAbvGrd'].value_counts().keys(), data['TotRmsAbvGrd'].value_counts())"
   ]
  },
  {
   "cell_type": "markdown",
   "metadata": {},
   "source": [
    "Sieht gut aus"
   ]
  },
  {
   "cell_type": "code",
   "execution_count": 23,
   "metadata": {},
   "outputs": [
    {
     "data": {
      "text/plain": [
       "<matplotlib.axes._subplots.AxesSubplot at 0x1566a221d48>"
      ]
     },
     "execution_count": 23,
     "metadata": {},
     "output_type": "execute_result"
    },
    {
     "data": {
      "image/png": "[encoded data removed]",
      "text/plain": [
       "<Figure size 432x288 with 1 Axes>"
      ]
     },
     "metadata": {
      "needs_background": "light"
     },
     "output_type": "display_data"
    }
   ],
   "source": [
    "sb.lineplot(data['GarageCars'].value_counts().keys(), data['GarageCars'].value_counts())"
   ]
  },
  {
   "cell_type": "markdown",
   "metadata": {},
   "source": [
    "geht "
   ]
  },
  {
   "cell_type": "code",
   "execution_count": 24,
   "metadata": {},
   "outputs": [
    {
     "data": {
      "text/plain": [
       "<matplotlib.axes._subplots.AxesSubplot at 0x1566a2a8b08>"
      ]
     },
     "execution_count": 24,
     "metadata": {},
     "output_type": "execute_result"
    },
    {
     "data": {
      "image/png": "[encoded data removed]",
      "text/plain": [
       "<Figure size 432x288 with 1 Axes>"
      ]
     },
     "metadata": {
      "needs_background": "light"
     },
     "output_type": "display_data"
    }
   ],
   "source": [
    "sb.lineplot(data['YrSold'].value_counts().keys(), data['YrSold'].value_counts())"
   ]
  },
  {
   "cell_type": "markdown",
   "metadata": {},
   "source": [
    "Was war 2009.5 ?"
   ]
  },
  {
   "cell_type": "code",
   "execution_count": null,
   "metadata": {},
   "outputs": [],
   "source": []
  },
  {
   "cell_type": "code",
   "execution_count": null,
   "metadata": {},
   "outputs": [],
   "source": []
  },
  {
   "cell_type": "code",
   "execution_count": 25,
   "metadata": {},
   "outputs": [
    {
     "data": {
      "text/plain": [
       "2009    218\n",
       "2008    202\n",
       "2007    196\n",
       "2006    170\n",
       "2010    112\n",
       "Name: YrSold, dtype: int64"
      ]
     },
     "execution_count": 25,
     "metadata": {},
     "output_type": "execute_result"
    }
   ],
   "source": [
    "data['YrSold'].value_counts()"
   ]
  },
  {
   "cell_type": "code",
   "execution_count": 26,
   "metadata": {},
   "outputs": [
    {
     "data": {
      "text/plain": [
       "<matplotlib.axes._subplots.AxesSubplot at 0x1566a322888>"
      ]
     },
     "execution_count": 26,
     "metadata": {},
     "output_type": "execute_result"
    },
    {
     "data": {
      "image/png": "[encoded data removed]",
      "text/plain": [
       "<Figure size 432x288 with 1 Axes>"
      ]
     },
     "metadata": {
      "needs_background": "light"
     },
     "output_type": "display_data"
    }
   ],
   "source": [
    "sb.lineplot(data['YearBuilt'].value_counts().keys(), data['YearBuilt'].value_counts())"
   ]
  },
  {
   "cell_type": "code",
   "execution_count": null,
   "metadata": {},
   "outputs": [],
   "source": []
  },
  {
   "cell_type": "code",
   "execution_count": null,
   "metadata": {},
   "outputs": [],
   "source": []
  },
  {
   "cell_type": "code",
   "execution_count": 27,
   "metadata": {},
   "outputs": [],
   "source": [
    "YearBuilt = data['YearBuilt'].value_counts()"
   ]
  },
  {
   "cell_type": "code",
   "execution_count": 28,
   "metadata": {},
   "outputs": [
    {
     "name": "stdout",
     "output_type": "stream",
     "text": [
      "1940: 12\n",
      "1941: 10\n",
      "1942: 2\n",
      "Kein Haus im Jahr: 1943\n",
      "Kein Haus im Jahr: 1944\n",
      "1945: 5\n",
      "1946: 2\n",
      "1947: 2\n",
      "1948: 11\n",
      "1949: 9\n",
      "1950: 16\n",
      "1951: 2\n",
      "1952: 1\n",
      "1953: 8\n",
      "1954: 15\n",
      "1955: 12\n",
      "1956: 10\n",
      "1957: 16\n",
      "1958: 14\n",
      "1959: 17\n",
      "1960: 10\n"
     ]
    },
    {
     "data": {
      "text/plain": [
       "174"
      ]
     },
     "execution_count": 28,
     "metadata": {},
     "output_type": "execute_result"
    }
   ],
   "source": [
    "built = 0\n",
    "for i in range(1940,1961):\n",
    "    if i in YearBuilt.keys():\n",
    "        built+=YearBuilt[i]\n",
    "        print(\"{}: {}\".format(i,YearBuilt[i]))\n",
    "    else:\n",
    "        print(\"Kein Haus im Jahr: {}\".format(i))\n",
    "built"
   ]
  },
  {
   "cell_type": "code",
   "execution_count": 29,
   "metadata": {},
   "outputs": [
    {
     "data": {
      "text/plain": [
       "1950    111\n",
       "2005     53\n",
       "2004     46\n",
       "2006     38\n",
       "2000     37\n",
       "2002     36\n",
       "2003     35\n",
       "2007     32\n",
       "1996     26\n",
       "1995     25\n",
       "1997     23\n",
       "1998     23\n",
       "1999     20\n",
       "1994     16\n",
       "2001     15\n",
       "1976     15\n",
       "2008     14\n",
       "1972     14\n",
       "1993     13\n",
       "1970     13\n",
       "1977     13\n",
       "1966     12\n",
       "1959     12\n",
       "1990     12\n",
       "1978     11\n",
       "1965     11\n",
       "1968     11\n",
       "1967     11\n",
       "1973     10\n",
       "1971     10\n",
       "1964      9\n",
       "1962      9\n",
       "1991      9\n",
       "1963      8\n",
       "1980      8\n",
       "1975      8\n",
       "1985      8\n",
       "1988      8\n",
       "1957      7\n",
       "1960      7\n",
       "1992      7\n",
       "1954      7\n",
       "1956      7\n",
       "1987      7\n",
       "1981      7\n",
       "1955      7\n",
       "1958      7\n",
       "1969      6\n",
       "1989      6\n",
       "1982      6\n",
       "1953      6\n",
       "2009      4\n",
       "1961      4\n",
       "1979      4\n",
       "1983      3\n",
       "1984      3\n",
       "1986      3\n",
       "1974      2\n",
       "1951      2\n",
       "1952      1\n",
       "Name: YearRemodAdd, dtype: int64"
      ]
     },
     "execution_count": 29,
     "metadata": {},
     "output_type": "execute_result"
    }
   ],
   "source": [
    "data['YearRemodAdd'].value_counts()"
   ]
  },
  {
   "cell_type": "code",
   "execution_count": 30,
   "metadata": {},
   "outputs": [
    {
     "data": {
      "text/plain": [
       "<matplotlib.axes._subplots.AxesSubplot at 0x1566a3a0b88>"
      ]
     },
     "execution_count": 30,
     "metadata": {},
     "output_type": "execute_result"
    },
    {
     "data": {
      "image/png": "[encoded data removed]",
      "text/plain": [
       "<Figure size 432x288 with 1 Axes>"
      ]
     },
     "metadata": {
      "needs_background": "light"
     },
     "output_type": "display_data"
    }
   ],
   "source": [
    "sb.lineplot(data['YearRemodAdd'].value_counts().keys(), data['YearRemodAdd'].value_counts())"
   ]
  },
  {
   "cell_type": "markdown",
   "metadata": {},
   "source": [
    "1950 gab es eine große renoirierungswelle"
   ]
  },
  {
   "cell_type": "code",
   "execution_count": 31,
   "metadata": {},
   "outputs": [
    {
     "data": {
      "text/html": [
       "<div>\n",
       "<style scoped>\n",
       "    .dataframe tbody tr th:only-of-type {\n",
       "        vertical-align: middle;\n",
       "    }\n",
       "\n",
       "    .dataframe tbody tr th {\n",
       "        vertical-align: top;\n",
       "    }\n",
       "\n",
       "    .dataframe thead th {\n",
       "        text-align: right;\n",
       "    }\n",
       "</style>\n",
       "<table border=\"1\" class=\"dataframe\">\n",
       "  <thead>\n",
       "    <tr style=\"text-align: right;\">\n",
       "      <th></th>\n",
       "      <th>LotArea</th>\n",
       "      <th>OverallQual</th>\n",
       "      <th>OverallCond</th>\n",
       "      <th>YearBuilt</th>\n",
       "      <th>YearRemodAdd</th>\n",
       "      <th>TotalBsmtSF</th>\n",
       "      <th>GrLivArea</th>\n",
       "      <th>TotRmsAbvGrd</th>\n",
       "      <th>GarageCars</th>\n",
       "      <th>YrSold</th>\n",
       "      <th>SalePrice</th>\n",
       "    </tr>\n",
       "  </thead>\n",
       "  <tbody>\n",
       "    <tr>\n",
       "      <th>LotArea</th>\n",
       "      <td>1.000000</td>\n",
       "      <td>0.078118</td>\n",
       "      <td>0.008611</td>\n",
       "      <td>-0.002769</td>\n",
       "      <td>0.013309</td>\n",
       "      <td>0.214496</td>\n",
       "      <td>0.241608</td>\n",
       "      <td>0.170915</td>\n",
       "      <td>0.175377</td>\n",
       "      <td>-0.028536</td>\n",
       "      <td>0.294612</td>\n",
       "    </tr>\n",
       "    <tr>\n",
       "      <th>OverallQual</th>\n",
       "      <td>0.078118</td>\n",
       "      <td>1.000000</td>\n",
       "      <td>-0.070117</td>\n",
       "      <td>0.505580</td>\n",
       "      <td>0.497455</td>\n",
       "      <td>0.503372</td>\n",
       "      <td>0.579505</td>\n",
       "      <td>0.420298</td>\n",
       "      <td>0.570377</td>\n",
       "      <td>0.015041</td>\n",
       "      <td>0.778689</td>\n",
       "    </tr>\n",
       "    <tr>\n",
       "      <th>OverallCond</th>\n",
       "      <td>0.008611</td>\n",
       "      <td>-0.070117</td>\n",
       "      <td>1.000000</td>\n",
       "      <td>-0.413357</td>\n",
       "      <td>0.106004</td>\n",
       "      <td>-0.179958</td>\n",
       "      <td>-0.064906</td>\n",
       "      <td>-0.042361</td>\n",
       "      <td>-0.175688</td>\n",
       "      <td>-0.013004</td>\n",
       "      <td>-0.048636</td>\n",
       "    </tr>\n",
       "    <tr>\n",
       "      <th>YearBuilt</th>\n",
       "      <td>-0.002769</td>\n",
       "      <td>0.505580</td>\n",
       "      <td>-0.413357</td>\n",
       "      <td>1.000000</td>\n",
       "      <td>0.531105</td>\n",
       "      <td>0.375120</td>\n",
       "      <td>0.150368</td>\n",
       "      <td>0.058768</td>\n",
       "      <td>0.502403</td>\n",
       "      <td>0.042530</td>\n",
       "      <td>0.471721</td>\n",
       "    </tr>\n",
       "    <tr>\n",
       "      <th>YearRemodAdd</th>\n",
       "      <td>0.013309</td>\n",
       "      <td>0.497455</td>\n",
       "      <td>0.106004</td>\n",
       "      <td>0.531105</td>\n",
       "      <td>1.000000</td>\n",
       "      <td>0.249978</td>\n",
       "      <td>0.234302</td>\n",
       "      <td>0.143257</td>\n",
       "      <td>0.384041</td>\n",
       "      <td>0.066916</td>\n",
       "      <td>0.463600</td>\n",
       "    </tr>\n",
       "    <tr>\n",
       "      <th>TotalBsmtSF</th>\n",
       "      <td>0.214496</td>\n",
       "      <td>0.503372</td>\n",
       "      <td>-0.179958</td>\n",
       "      <td>0.375120</td>\n",
       "      <td>0.249978</td>\n",
       "      <td>1.000000</td>\n",
       "      <td>0.391654</td>\n",
       "      <td>0.255091</td>\n",
       "      <td>0.408928</td>\n",
       "      <td>0.049185</td>\n",
       "      <td>0.628727</td>\n",
       "    </tr>\n",
       "    <tr>\n",
       "      <th>GrLivArea</th>\n",
       "      <td>0.241608</td>\n",
       "      <td>0.579505</td>\n",
       "      <td>-0.064906</td>\n",
       "      <td>0.150368</td>\n",
       "      <td>0.234302</td>\n",
       "      <td>0.391654</td>\n",
       "      <td>1.000000</td>\n",
       "      <td>0.835124</td>\n",
       "      <td>0.476622</td>\n",
       "      <td>-0.013700</td>\n",
       "      <td>0.758611</td>\n",
       "    </tr>\n",
       "    <tr>\n",
       "      <th>TotRmsAbvGrd</th>\n",
       "      <td>0.170915</td>\n",
       "      <td>0.420298</td>\n",
       "      <td>-0.042361</td>\n",
       "      <td>0.058768</td>\n",
       "      <td>0.143257</td>\n",
       "      <td>0.255091</td>\n",
       "      <td>0.835124</td>\n",
       "      <td>1.000000</td>\n",
       "      <td>0.357591</td>\n",
       "      <td>-0.016895</td>\n",
       "      <td>0.550466</td>\n",
       "    </tr>\n",
       "    <tr>\n",
       "      <th>GarageCars</th>\n",
       "      <td>0.175377</td>\n",
       "      <td>0.570377</td>\n",
       "      <td>-0.175688</td>\n",
       "      <td>0.502403</td>\n",
       "      <td>0.384041</td>\n",
       "      <td>0.408928</td>\n",
       "      <td>0.476622</td>\n",
       "      <td>0.357591</td>\n",
       "      <td>1.000000</td>\n",
       "      <td>0.009687</td>\n",
       "      <td>0.633621</td>\n",
       "    </tr>\n",
       "    <tr>\n",
       "      <th>YrSold</th>\n",
       "      <td>-0.028536</td>\n",
       "      <td>0.015041</td>\n",
       "      <td>-0.013004</td>\n",
       "      <td>0.042530</td>\n",
       "      <td>0.066916</td>\n",
       "      <td>0.049185</td>\n",
       "      <td>-0.013700</td>\n",
       "      <td>-0.016895</td>\n",
       "      <td>0.009687</td>\n",
       "      <td>1.000000</td>\n",
       "      <td>0.010421</td>\n",
       "    </tr>\n",
       "    <tr>\n",
       "      <th>SalePrice</th>\n",
       "      <td>0.294612</td>\n",
       "      <td>0.778689</td>\n",
       "      <td>-0.048636</td>\n",
       "      <td>0.471721</td>\n",
       "      <td>0.463600</td>\n",
       "      <td>0.628727</td>\n",
       "      <td>0.758611</td>\n",
       "      <td>0.550466</td>\n",
       "      <td>0.633621</td>\n",
       "      <td>0.010421</td>\n",
       "      <td>1.000000</td>\n",
       "    </tr>\n",
       "  </tbody>\n",
       "</table>\n",
       "</div>"
      ],
      "text/plain": [
       "               LotArea  OverallQual  OverallCond  YearBuilt  YearRemodAdd  \\\n",
       "LotArea       1.000000     0.078118     0.008611  -0.002769      0.013309   \n",
       "OverallQual   0.078118     1.000000    -0.070117   0.505580      0.497455   \n",
       "OverallCond   0.008611    -0.070117     1.000000  -0.413357      0.106004   \n",
       "YearBuilt    -0.002769     0.505580    -0.413357   1.000000      0.531105   \n",
       "YearRemodAdd  0.013309     0.497455     0.106004   0.531105      1.000000   \n",
       "TotalBsmtSF   0.214496     0.503372    -0.179958   0.375120      0.249978   \n",
       "GrLivArea     0.241608     0.579505    -0.064906   0.150368      0.234302   \n",
       "TotRmsAbvGrd  0.170915     0.420298    -0.042361   0.058768      0.143257   \n",
       "GarageCars    0.175377     0.570377    -0.175688   0.502403      0.384041   \n",
       "YrSold       -0.028536     0.015041    -0.013004   0.042530      0.066916   \n",
       "SalePrice     0.294612     0.778689    -0.048636   0.471721      0.463600   \n",
       "\n",
       "              TotalBsmtSF  GrLivArea  TotRmsAbvGrd  GarageCars    YrSold  \\\n",
       "LotArea          0.214496   0.241608      0.170915    0.175377 -0.028536   \n",
       "OverallQual      0.503372   0.579505      0.420298    0.570377  0.015041   \n",
       "OverallCond     -0.179958  -0.064906     -0.042361   -0.175688 -0.013004   \n",
       "YearBuilt        0.375120   0.150368      0.058768    0.502403  0.042530   \n",
       "YearRemodAdd     0.249978   0.234302      0.143257    0.384041  0.066916   \n",
       "TotalBsmtSF      1.000000   0.391654      0.255091    0.408928  0.049185   \n",
       "GrLivArea        0.391654   1.000000      0.835124    0.476622 -0.013700   \n",
       "TotRmsAbvGrd     0.255091   0.835124      1.000000    0.357591 -0.016895   \n",
       "GarageCars       0.408928   0.476622      0.357591    1.000000  0.009687   \n",
       "YrSold           0.049185  -0.013700     -0.016895    0.009687  1.000000   \n",
       "SalePrice        0.628727   0.758611      0.550466    0.633621  0.010421   \n",
       "\n",
       "              SalePrice  \n",
       "LotArea        0.294612  \n",
       "OverallQual    0.778689  \n",
       "OverallCond   -0.048636  \n",
       "YearBuilt      0.471721  \n",
       "YearRemodAdd   0.463600  \n",
       "TotalBsmtSF    0.628727  \n",
       "GrLivArea      0.758611  \n",
       "TotRmsAbvGrd   0.550466  \n",
       "GarageCars     0.633621  \n",
       "YrSold         0.010421  \n",
       "SalePrice      1.000000  "
      ]
     },
     "execution_count": 31,
     "metadata": {},
     "output_type": "execute_result"
    }
   ],
   "source": [
    "data.corr()"
   ]
  },
  {
   "cell_type": "code",
   "execution_count": 32,
   "metadata": {},
   "outputs": [
    {
     "data": {
      "text/plain": [
       "pandas.core.frame.DataFrame"
      ]
     },
     "execution_count": 32,
     "metadata": {},
     "output_type": "execute_result"
    }
   ],
   "source": [
    "type(data)"
   ]
  },
  {
   "cell_type": "markdown",
   "metadata": {},
   "source": [
    "Starke corr zwischen preis mit Qulität, TotalMsmtSF, LivArea, größe Garage. außerdem livArea und room above ground, Idee: eines weglassen  "
   ]
  },
  {
   "cell_type": "code",
   "execution_count": 33,
   "metadata": {},
   "outputs": [],
   "source": [
    "dataP = data.drop(columns = [\"TotRmsAbvGrd\"])\n",
    "#data.drop(columns = [\"YearBuilt\"]) ???"
   ]
  },
  {
   "cell_type": "code",
   "execution_count": 34,
   "metadata": {},
   "outputs": [],
   "source": [
    "dataP = dataP.drop(columns = [\"YrSold\"])"
   ]
  },
  {
   "cell_type": "markdown",
   "metadata": {},
   "source": [
    "Hat corr kaum relation mit SalePrice und auch mit den anderen keine, dassheißt hier gibt es keinen Mehrwert "
   ]
  },
  {
   "cell_type": "markdown",
   "metadata": {},
   "source": [
    "Weil Daten doppelt mit livArea "
   ]
  },
  {
   "cell_type": "code",
   "execution_count": 35,
   "metadata": {
    "scrolled": false
   },
   "outputs": [
    {
     "data": {
      "text/plain": [
       "<matplotlib.axes._subplots.AxesSubplot at 0x1566a407fc8>"
      ]
     },
     "execution_count": 35,
     "metadata": {},
     "output_type": "execute_result"
    },
    {
     "data": {
      "image/png": "[encoded data removed]",
      "text/plain": [
       "<Figure size 432x288 with 1 Axes>"
      ]
     },
     "metadata": {
      "needs_background": "light"
     },
     "output_type": "display_data"
    }
   ],
   "source": [
    "sb.scatterplot(dataP[\"GrLivArea\"],dataP[\"SalePrice\"])"
   ]
  },
  {
   "cell_type": "markdown",
   "metadata": {},
   "source": [
    "Dadurch passen Ausreißer von Größe und Preis zusammen"
   ]
  },
  {
   "cell_type": "code",
   "execution_count": 36,
   "metadata": {},
   "outputs": [
    {
     "data": {
      "text/plain": [
       "<matplotlib.axes._subplots.AxesSubplot at 0x1566a47a808>"
      ]
     },
     "execution_count": 36,
     "metadata": {},
     "output_type": "execute_result"
    },
    {
     "data": {
      "image/png": "[encoded data removed]",
      "text/plain": [
       "<Figure size 432x288 with 1 Axes>"
      ]
     },
     "metadata": {
      "needs_background": "light"
     },
     "output_type": "display_data"
    }
   ],
   "source": [
    "sb.scatterplot(dataP[\"OverallQual\"],dataP[\"SalePrice\"])"
   ]
  },
  {
   "cell_type": "markdown",
   "metadata": {},
   "source": [
    "qualitat hat range"
   ]
  },
  {
   "cell_type": "code",
   "execution_count": 37,
   "metadata": {},
   "outputs": [
    {
     "data": {
      "text/plain": [
       "<matplotlib.axes._subplots.AxesSubplot at 0x1566a4def88>"
      ]
     },
     "execution_count": 37,
     "metadata": {},
     "output_type": "execute_result"
    },
    {
     "data": {
      "image/png": "[encoded data removed]",
      "text/plain": [
       "<Figure size 432x288 with 1 Axes>"
      ]
     },
     "metadata": {
      "needs_background": "light"
     },
     "output_type": "display_data"
    }
   ],
   "source": [
    "sb.boxplot(dataP[\"LotArea\"])"
   ]
  },
  {
   "cell_type": "markdown",
   "metadata": {},
   "source": [
    "aussreiser nach oben viele "
   ]
  },
  {
   "cell_type": "code",
   "execution_count": null,
   "metadata": {
    "scrolled": true
   },
   "outputs": [],
   "source": []
  },
  {
   "cell_type": "markdown",
   "metadata": {},
   "source": [
    "r"
   ]
  },
  {
   "cell_type": "code",
   "execution_count": null,
   "metadata": {},
   "outputs": [],
   "source": []
  },
  {
   "cell_type": "code",
   "execution_count": 38,
   "metadata": {},
   "outputs": [],
   "source": [
    "dataP = dataP.sample(frac=1, random_state = 42)\n",
    "#Die Daten zufällig anordnen, random state damit Beispielrechnung richtig und Ergebnisse gelcih bleiben"
   ]
  },
  {
   "cell_type": "code",
   "execution_count": 39,
   "metadata": {
    "scrolled": true
   },
   "outputs": [
    {
     "data": {
      "text/plain": [
       "332    117000\n",
       "639    360000\n",
       "327    130500\n",
       "850    185850\n",
       "39     337500\n",
       "        ...  \n",
       "107     80000\n",
       "271    179500\n",
       "862    188700\n",
       "436    213000\n",
       "103     60000\n",
       "Name: SalePrice, Length: 898, dtype: int64"
      ]
     },
     "execution_count": 39,
     "metadata": {},
     "output_type": "execute_result"
    }
   ],
   "source": [
    "labels = dataP[\"SalePrice\"]\n",
    "labels"
   ]
  },
  {
   "cell_type": "code",
   "execution_count": 40,
   "metadata": {},
   "outputs": [
    {
     "data": {
      "text/plain": [
       "<matplotlib.axes._subplots.AxesSubplot at 0x1566a47ea88>"
      ]
     },
     "execution_count": 40,
     "metadata": {},
     "output_type": "execute_result"
    },
    {
     "data": {
      "image/png": "[encoded data removed]",
      "text/plain": [
       "<Figure size 432x288 with 1 Axes>"
      ]
     },
     "metadata": {
      "needs_background": "light"
     },
     "output_type": "display_data"
    }
   ],
   "source": [
    "sb.boxplot(dataP[\"SalePrice\"])"
   ]
  },
  {
   "cell_type": "code",
   "execution_count": 41,
   "metadata": {},
   "outputs": [],
   "source": [
    "lenDataSet = len(dataP)"
   ]
  },
  {
   "cell_type": "code",
   "execution_count": 42,
   "metadata": {},
   "outputs": [],
   "source": [
    "import nltk\n",
    "import numpy as np\n",
    "\n",
    "\n",
    "def text_to_numbers(text, cutoff_for_rare_words = 1):\n",
    "    \"\"\"Function to convert text to numbers. Text must be tokenzied so that\n",
    "    test is presented as a list of words. The index number for a word\n",
    "    is based on its frequency (words occuring more often have a lower index).\n",
    "    If a word does not occur as many times as cutoff_for_rare_words,\n",
    "    then it is given a word index of zero. All rare words will be zero.\n",
    "    \"\"\"\n",
    "    \n",
    "    # Flatten list if sublists are present\n",
    "    if len(text) > 1:\n",
    "        flat_text = [sublist for sublist in text]\n",
    "        \n",
    "    else:\n",
    "        flat_text = text\n",
    "    \n",
    "    # get word freuqncy\n",
    "    fdist = nltk.FreqDist(flat_text)\n",
    "\n",
    "    # Convert to Pandas dataframe\n",
    "    df_fdist = pd.DataFrame.from_dict(fdist, orient='index')\n",
    "    df_fdist.columns = ['Frequency']\n",
    "\n",
    "    # Sort by word frequency\n",
    "    df_fdist.sort_values(by=['Frequency'], ascending=False, inplace=True)\n",
    "\n",
    "    # Add word index\n",
    "    number_of_words = df_fdist.shape[0]\n",
    "    df_fdist['word_index'] = list(np.arange(number_of_words)+1)\n",
    "\n",
    "   \n",
    "    \n",
    "    # Convert pandas to dictionary\n",
    "    word_dict = df_fdist['word_index'].to_dict()\n",
    "   \n",
    "    \n",
    "    # Use dictionary to convert words in text to numbers\n",
    "    text_numbers = []\n",
    "    for string in text:\n",
    "        string_numbers = word_dict[string]\n",
    "        text_numbers.append(string_numbers)  \n",
    "    \n",
    "    return (text_numbers)"
   ]
  },
  {
   "cell_type": "code",
   "execution_count": 43,
   "metadata": {},
   "outputs": [
    {
     "data": {
      "text/plain": [
       "332    RL\n",
       "639    RL\n",
       "327    RL\n",
       "850    RL\n",
       "39     RL\n",
       "       ..\n",
       "107    RM\n",
       "271    RL\n",
       "862    RL\n",
       "436    RL\n",
       "103    RL\n",
       "Name: MSZoning, Length: 898, dtype: object"
      ]
     },
     "execution_count": 43,
     "metadata": {},
     "output_type": "execute_result"
    }
   ],
   "source": [
    "dataP.loc[:,\"MSZoning\"]"
   ]
  },
  {
   "cell_type": "code",
   "execution_count": 44,
   "metadata": {},
   "outputs": [],
   "source": [
    "stringLabels = [\"MSZoning\",\"Neighborhood\",\"BldgType\",\"RoofStyle\",\"HeatingQC\",\"CentralAir\"]"
   ]
  },
  {
   "cell_type": "code",
   "execution_count": 45,
   "metadata": {
    "scrolled": true
   },
   "outputs": [
    {
     "data": {
      "text/html": [
       "<div>\n",
       "<style scoped>\n",
       "    .dataframe tbody tr th:only-of-type {\n",
       "        vertical-align: middle;\n",
       "    }\n",
       "\n",
       "    .dataframe tbody tr th {\n",
       "        vertical-align: top;\n",
       "    }\n",
       "\n",
       "    .dataframe thead th {\n",
       "        text-align: right;\n",
       "    }\n",
       "</style>\n",
       "<table border=\"1\" class=\"dataframe\">\n",
       "  <thead>\n",
       "    <tr style=\"text-align: right;\">\n",
       "      <th></th>\n",
       "      <th>MSZoning</th>\n",
       "      <th>LotArea</th>\n",
       "      <th>Neighborhood</th>\n",
       "      <th>BldgType</th>\n",
       "      <th>OverallQual</th>\n",
       "      <th>OverallCond</th>\n",
       "      <th>YearBuilt</th>\n",
       "      <th>YearRemodAdd</th>\n",
       "      <th>RoofStyle</th>\n",
       "      <th>TotalBsmtSF</th>\n",
       "      <th>HeatingQC</th>\n",
       "      <th>CentralAir</th>\n",
       "      <th>GrLivArea</th>\n",
       "      <th>TotRmsAbvGrd</th>\n",
       "      <th>GarageCars</th>\n",
       "      <th>YrSold</th>\n",
       "      <th>SalePrice</th>\n",
       "    </tr>\n",
       "  </thead>\n",
       "  <tbody>\n",
       "    <tr>\n",
       "      <th>0</th>\n",
       "      <td>RL</td>\n",
       "      <td>9590</td>\n",
       "      <td>Timber</td>\n",
       "      <td>1Fam</td>\n",
       "      <td>7</td>\n",
       "      <td>5</td>\n",
       "      <td>2003</td>\n",
       "      <td>2003</td>\n",
       "      <td>Gable</td>\n",
       "      <td>868</td>\n",
       "      <td>Ex</td>\n",
       "      <td>Y</td>\n",
       "      <td>1146</td>\n",
       "      <td>6</td>\n",
       "      <td>2</td>\n",
       "      <td>2007</td>\n",
       "      <td>187500</td>\n",
       "    </tr>\n",
       "    <tr>\n",
       "      <th>1</th>\n",
       "      <td>RL</td>\n",
       "      <td>12256</td>\n",
       "      <td>NoRidge</td>\n",
       "      <td>1Fam</td>\n",
       "      <td>8</td>\n",
       "      <td>5</td>\n",
       "      <td>1994</td>\n",
       "      <td>1995</td>\n",
       "      <td>Gable</td>\n",
       "      <td>1463</td>\n",
       "      <td>Ex</td>\n",
       "      <td>Y</td>\n",
       "      <td>2622</td>\n",
       "      <td>9</td>\n",
       "      <td>2</td>\n",
       "      <td>2010</td>\n",
       "      <td>325000</td>\n",
       "    </tr>\n",
       "    <tr>\n",
       "      <th>2</th>\n",
       "      <td>RL</td>\n",
       "      <td>12108</td>\n",
       "      <td>Edwards</td>\n",
       "      <td>Duplex</td>\n",
       "      <td>4</td>\n",
       "      <td>4</td>\n",
       "      <td>1955</td>\n",
       "      <td>1955</td>\n",
       "      <td>Gable</td>\n",
       "      <td>1440</td>\n",
       "      <td>TA</td>\n",
       "      <td>N</td>\n",
       "      <td>1440</td>\n",
       "      <td>8</td>\n",
       "      <td>0</td>\n",
       "      <td>2008</td>\n",
       "      <td>118000</td>\n",
       "    </tr>\n",
       "    <tr>\n",
       "      <th>3</th>\n",
       "      <td>RL</td>\n",
       "      <td>7500</td>\n",
       "      <td>Sawyer</td>\n",
       "      <td>1Fam</td>\n",
       "      <td>5</td>\n",
       "      <td>5</td>\n",
       "      <td>1963</td>\n",
       "      <td>1963</td>\n",
       "      <td>Gable</td>\n",
       "      <td>1040</td>\n",
       "      <td>Fa</td>\n",
       "      <td>Y</td>\n",
       "      <td>1040</td>\n",
       "      <td>5</td>\n",
       "      <td>1</td>\n",
       "      <td>2010</td>\n",
       "      <td>133000</td>\n",
       "    </tr>\n",
       "    <tr>\n",
       "      <th>4</th>\n",
       "      <td>RM</td>\n",
       "      <td>6000</td>\n",
       "      <td>OldTown</td>\n",
       "      <td>2fmCon</td>\n",
       "      <td>4</td>\n",
       "      <td>4</td>\n",
       "      <td>1953</td>\n",
       "      <td>1953</td>\n",
       "      <td>Gable</td>\n",
       "      <td>936</td>\n",
       "      <td>TA</td>\n",
       "      <td>N</td>\n",
       "      <td>936</td>\n",
       "      <td>4</td>\n",
       "      <td>2</td>\n",
       "      <td>2009</td>\n",
       "      <td>93000</td>\n",
       "    </tr>\n",
       "    <tr>\n",
       "      <th>...</th>\n",
       "      <td>...</td>\n",
       "      <td>...</td>\n",
       "      <td>...</td>\n",
       "      <td>...</td>\n",
       "      <td>...</td>\n",
       "      <td>...</td>\n",
       "      <td>...</td>\n",
       "      <td>...</td>\n",
       "      <td>...</td>\n",
       "      <td>...</td>\n",
       "      <td>...</td>\n",
       "      <td>...</td>\n",
       "      <td>...</td>\n",
       "      <td>...</td>\n",
       "      <td>...</td>\n",
       "      <td>...</td>\n",
       "      <td>...</td>\n",
       "    </tr>\n",
       "    <tr>\n",
       "      <th>895</th>\n",
       "      <td>RL</td>\n",
       "      <td>8750</td>\n",
       "      <td>CollgCr</td>\n",
       "      <td>1Fam</td>\n",
       "      <td>7</td>\n",
       "      <td>5</td>\n",
       "      <td>1996</td>\n",
       "      <td>1996</td>\n",
       "      <td>Gable</td>\n",
       "      <td>880</td>\n",
       "      <td>Ex</td>\n",
       "      <td>Y</td>\n",
       "      <td>1716</td>\n",
       "      <td>7</td>\n",
       "      <td>2</td>\n",
       "      <td>2009</td>\n",
       "      <td>191000</td>\n",
       "    </tr>\n",
       "    <tr>\n",
       "      <th>896</th>\n",
       "      <td>RL</td>\n",
       "      <td>8064</td>\n",
       "      <td>NAmes</td>\n",
       "      <td>1Fam</td>\n",
       "      <td>5</td>\n",
       "      <td>7</td>\n",
       "      <td>1949</td>\n",
       "      <td>2006</td>\n",
       "      <td>Gable</td>\n",
       "      <td>672</td>\n",
       "      <td>Ex</td>\n",
       "      <td>Y</td>\n",
       "      <td>924</td>\n",
       "      <td>6</td>\n",
       "      <td>2</td>\n",
       "      <td>2007</td>\n",
       "      <td>122900</td>\n",
       "    </tr>\n",
       "    <tr>\n",
       "      <th>897</th>\n",
       "      <td>RL</td>\n",
       "      <td>13005</td>\n",
       "      <td>NWAmes</td>\n",
       "      <td>1Fam</td>\n",
       "      <td>7</td>\n",
       "      <td>7</td>\n",
       "      <td>1980</td>\n",
       "      <td>1980</td>\n",
       "      <td>Gable</td>\n",
       "      <td>845</td>\n",
       "      <td>TA</td>\n",
       "      <td>Y</td>\n",
       "      <td>2353</td>\n",
       "      <td>10</td>\n",
       "      <td>2</td>\n",
       "      <td>2009</td>\n",
       "      <td>260000</td>\n",
       "    </tr>\n",
       "    <tr>\n",
       "      <th>898</th>\n",
       "      <td>RL</td>\n",
       "      <td>9375</td>\n",
       "      <td>CollgCr</td>\n",
       "      <td>1Fam</td>\n",
       "      <td>8</td>\n",
       "      <td>5</td>\n",
       "      <td>2002</td>\n",
       "      <td>2002</td>\n",
       "      <td>Gable</td>\n",
       "      <td>1284</td>\n",
       "      <td>Ex</td>\n",
       "      <td>Y</td>\n",
       "      <td>2169</td>\n",
       "      <td>7</td>\n",
       "      <td>2</td>\n",
       "      <td>2007</td>\n",
       "      <td>228500</td>\n",
       "    </tr>\n",
       "    <tr>\n",
       "      <th>899</th>\n",
       "      <td>RL</td>\n",
       "      <td>9135</td>\n",
       "      <td>CollgCr</td>\n",
       "      <td>1Fam</td>\n",
       "      <td>7</td>\n",
       "      <td>5</td>\n",
       "      <td>2002</td>\n",
       "      <td>2003</td>\n",
       "      <td>Gable</td>\n",
       "      <td>1536</td>\n",
       "      <td>Ex</td>\n",
       "      <td>Y</td>\n",
       "      <td>1536</td>\n",
       "      <td>7</td>\n",
       "      <td>2</td>\n",
       "      <td>2008</td>\n",
       "      <td>214000</td>\n",
       "    </tr>\n",
       "  </tbody>\n",
       "</table>\n",
       "<p>898 rows × 17 columns</p>\n",
       "</div>"
      ],
      "text/plain": [
       "    MSZoning  LotArea Neighborhood BldgType  OverallQual  OverallCond  \\\n",
       "0         RL     9590       Timber     1Fam            7            5   \n",
       "1         RL    12256      NoRidge     1Fam            8            5   \n",
       "2         RL    12108      Edwards   Duplex            4            4   \n",
       "3         RL     7500       Sawyer     1Fam            5            5   \n",
       "4         RM     6000      OldTown   2fmCon            4            4   \n",
       "..       ...      ...          ...      ...          ...          ...   \n",
       "895       RL     8750      CollgCr     1Fam            7            5   \n",
       "896       RL     8064        NAmes     1Fam            5            7   \n",
       "897       RL    13005       NWAmes     1Fam            7            7   \n",
       "898       RL     9375      CollgCr     1Fam            8            5   \n",
       "899       RL     9135      CollgCr     1Fam            7            5   \n",
       "\n",
       "     YearBuilt  YearRemodAdd RoofStyle  TotalBsmtSF HeatingQC CentralAir  \\\n",
       "0         2003          2003     Gable          868        Ex          Y   \n",
       "1         1994          1995     Gable         1463        Ex          Y   \n",
       "2         1955          1955     Gable         1440        TA          N   \n",
       "3         1963          1963     Gable         1040        Fa          Y   \n",
       "4         1953          1953     Gable          936        TA          N   \n",
       "..         ...           ...       ...          ...       ...        ...   \n",
       "895       1996          1996     Gable          880        Ex          Y   \n",
       "896       1949          2006     Gable          672        Ex          Y   \n",
       "897       1980          1980     Gable          845        TA          Y   \n",
       "898       2002          2002     Gable         1284        Ex          Y   \n",
       "899       2002          2003     Gable         1536        Ex          Y   \n",
       "\n",
       "     GrLivArea  TotRmsAbvGrd  GarageCars  YrSold  SalePrice  \n",
       "0         1146             6           2    2007     187500  \n",
       "1         2622             9           2    2010     325000  \n",
       "2         1440             8           0    2008     118000  \n",
       "3         1040             5           1    2010     133000  \n",
       "4          936             4           2    2009      93000  \n",
       "..         ...           ...         ...     ...        ...  \n",
       "895       1716             7           2    2009     191000  \n",
       "896        924             6           2    2007     122900  \n",
       "897       2353            10           2    2009     260000  \n",
       "898       2169             7           2    2007     228500  \n",
       "899       1536             7           2    2008     214000  \n",
       "\n",
       "[898 rows x 17 columns]"
      ]
     },
     "execution_count": 45,
     "metadata": {},
     "output_type": "execute_result"
    }
   ],
   "source": [
    "for element in stringLabels:\n",
    "    dataP.loc[:,element] = text_to_numbers(dataP.loc[:,element])\n",
    "data"
   ]
  },
  {
   "cell_type": "code",
   "execution_count": null,
   "metadata": {},
   "outputs": [],
   "source": []
  },
  {
   "cell_type": "code",
   "execution_count": 46,
   "metadata": {},
   "outputs": [
    {
     "data": {
      "text/html": [
       "<div>\n",
       "<style scoped>\n",
       "    .dataframe tbody tr th:only-of-type {\n",
       "        vertical-align: middle;\n",
       "    }\n",
       "\n",
       "    .dataframe tbody tr th {\n",
       "        vertical-align: top;\n",
       "    }\n",
       "\n",
       "    .dataframe thead th {\n",
       "        text-align: right;\n",
       "    }\n",
       "</style>\n",
       "<table border=\"1\" class=\"dataframe\">\n",
       "  <thead>\n",
       "    <tr style=\"text-align: right;\">\n",
       "      <th></th>\n",
       "      <th>MSZoning</th>\n",
       "      <th>LotArea</th>\n",
       "      <th>Neighborhood</th>\n",
       "      <th>BldgType</th>\n",
       "      <th>OverallQual</th>\n",
       "      <th>OverallCond</th>\n",
       "      <th>YearBuilt</th>\n",
       "      <th>YearRemodAdd</th>\n",
       "      <th>RoofStyle</th>\n",
       "      <th>TotalBsmtSF</th>\n",
       "      <th>HeatingQC</th>\n",
       "      <th>CentralAir</th>\n",
       "      <th>GrLivArea</th>\n",
       "      <th>GarageCars</th>\n",
       "    </tr>\n",
       "  </thead>\n",
       "  <tbody>\n",
       "    <tr>\n",
       "      <th>332</th>\n",
       "      <td>1</td>\n",
       "      <td>10998</td>\n",
       "      <td>4</td>\n",
       "      <td>1</td>\n",
       "      <td>5</td>\n",
       "      <td>5</td>\n",
       "      <td>1941</td>\n",
       "      <td>1960</td>\n",
       "      <td>1</td>\n",
       "      <td>984</td>\n",
       "      <td>1</td>\n",
       "      <td>1</td>\n",
       "      <td>1604</td>\n",
       "      <td>2</td>\n",
       "    </tr>\n",
       "    <tr>\n",
       "      <th>639</th>\n",
       "      <td>1</td>\n",
       "      <td>12378</td>\n",
       "      <td>9</td>\n",
       "      <td>1</td>\n",
       "      <td>9</td>\n",
       "      <td>5</td>\n",
       "      <td>2003</td>\n",
       "      <td>2004</td>\n",
       "      <td>1</td>\n",
       "      <td>1896</td>\n",
       "      <td>1</td>\n",
       "      <td>1</td>\n",
       "      <td>1944</td>\n",
       "      <td>3</td>\n",
       "    </tr>\n",
       "    <tr>\n",
       "      <th>327</th>\n",
       "      <td>1</td>\n",
       "      <td>6600</td>\n",
       "      <td>13</td>\n",
       "      <td>1</td>\n",
       "      <td>5</td>\n",
       "      <td>9</td>\n",
       "      <td>1982</td>\n",
       "      <td>2008</td>\n",
       "      <td>1</td>\n",
       "      <td>816</td>\n",
       "      <td>1</td>\n",
       "      <td>1</td>\n",
       "      <td>816</td>\n",
       "      <td>1</td>\n",
       "    </tr>\n",
       "    <tr>\n",
       "      <th>850</th>\n",
       "      <td>1</td>\n",
       "      <td>7052</td>\n",
       "      <td>9</td>\n",
       "      <td>2</td>\n",
       "      <td>7</td>\n",
       "      <td>5</td>\n",
       "      <td>2005</td>\n",
       "      <td>2005</td>\n",
       "      <td>1</td>\n",
       "      <td>1364</td>\n",
       "      <td>1</td>\n",
       "      <td>1</td>\n",
       "      <td>1364</td>\n",
       "      <td>2</td>\n",
       "    </tr>\n",
       "    <tr>\n",
       "      <th>39</th>\n",
       "      <td>1</td>\n",
       "      <td>12456</td>\n",
       "      <td>9</td>\n",
       "      <td>1</td>\n",
       "      <td>10</td>\n",
       "      <td>5</td>\n",
       "      <td>2006</td>\n",
       "      <td>2007</td>\n",
       "      <td>2</td>\n",
       "      <td>1700</td>\n",
       "      <td>1</td>\n",
       "      <td>1</td>\n",
       "      <td>1718</td>\n",
       "      <td>3</td>\n",
       "    </tr>\n",
       "    <tr>\n",
       "      <th>...</th>\n",
       "      <td>...</td>\n",
       "      <td>...</td>\n",
       "      <td>...</td>\n",
       "      <td>...</td>\n",
       "      <td>...</td>\n",
       "      <td>...</td>\n",
       "      <td>...</td>\n",
       "      <td>...</td>\n",
       "      <td>...</td>\n",
       "      <td>...</td>\n",
       "      <td>...</td>\n",
       "      <td>...</td>\n",
       "      <td>...</td>\n",
       "      <td>...</td>\n",
       "    </tr>\n",
       "    <tr>\n",
       "      <th>107</th>\n",
       "      <td>2</td>\n",
       "      <td>4608</td>\n",
       "      <td>3</td>\n",
       "      <td>1</td>\n",
       "      <td>4</td>\n",
       "      <td>6</td>\n",
       "      <td>1945</td>\n",
       "      <td>1950</td>\n",
       "      <td>1</td>\n",
       "      <td>747</td>\n",
       "      <td>2</td>\n",
       "      <td>1</td>\n",
       "      <td>747</td>\n",
       "      <td>1</td>\n",
       "    </tr>\n",
       "    <tr>\n",
       "      <th>271</th>\n",
       "      <td>1</td>\n",
       "      <td>8400</td>\n",
       "      <td>17</td>\n",
       "      <td>1</td>\n",
       "      <td>5</td>\n",
       "      <td>8</td>\n",
       "      <td>1939</td>\n",
       "      <td>1997</td>\n",
       "      <td>1</td>\n",
       "      <td>720</td>\n",
       "      <td>1</td>\n",
       "      <td>1</td>\n",
       "      <td>2192</td>\n",
       "      <td>1</td>\n",
       "    </tr>\n",
       "    <tr>\n",
       "      <th>862</th>\n",
       "      <td>1</td>\n",
       "      <td>11988</td>\n",
       "      <td>11</td>\n",
       "      <td>1</td>\n",
       "      <td>6</td>\n",
       "      <td>7</td>\n",
       "      <td>1934</td>\n",
       "      <td>1995</td>\n",
       "      <td>2</td>\n",
       "      <td>715</td>\n",
       "      <td>4</td>\n",
       "      <td>1</td>\n",
       "      <td>1660</td>\n",
       "      <td>1</td>\n",
       "    </tr>\n",
       "    <tr>\n",
       "      <th>436</th>\n",
       "      <td>1</td>\n",
       "      <td>8400</td>\n",
       "      <td>2</td>\n",
       "      <td>1</td>\n",
       "      <td>7</td>\n",
       "      <td>5</td>\n",
       "      <td>2004</td>\n",
       "      <td>2005</td>\n",
       "      <td>1</td>\n",
       "      <td>1473</td>\n",
       "      <td>1</td>\n",
       "      <td>1</td>\n",
       "      <td>1484</td>\n",
       "      <td>2</td>\n",
       "    </tr>\n",
       "    <tr>\n",
       "      <th>103</th>\n",
       "      <td>1</td>\n",
       "      <td>8400</td>\n",
       "      <td>17</td>\n",
       "      <td>1</td>\n",
       "      <td>2</td>\n",
       "      <td>5</td>\n",
       "      <td>1920</td>\n",
       "      <td>1950</td>\n",
       "      <td>1</td>\n",
       "      <td>290</td>\n",
       "      <td>2</td>\n",
       "      <td>2</td>\n",
       "      <td>438</td>\n",
       "      <td>1</td>\n",
       "    </tr>\n",
       "  </tbody>\n",
       "</table>\n",
       "<p>898 rows × 14 columns</p>\n",
       "</div>"
      ],
      "text/plain": [
       "     MSZoning  LotArea  Neighborhood  BldgType  OverallQual  OverallCond  \\\n",
       "332         1    10998             4         1            5            5   \n",
       "639         1    12378             9         1            9            5   \n",
       "327         1     6600            13         1            5            9   \n",
       "850         1     7052             9         2            7            5   \n",
       "39          1    12456             9         1           10            5   \n",
       "..        ...      ...           ...       ...          ...          ...   \n",
       "107         2     4608             3         1            4            6   \n",
       "271         1     8400            17         1            5            8   \n",
       "862         1    11988            11         1            6            7   \n",
       "436         1     8400             2         1            7            5   \n",
       "103         1     8400            17         1            2            5   \n",
       "\n",
       "     YearBuilt  YearRemodAdd  RoofStyle  TotalBsmtSF  HeatingQC  CentralAir  \\\n",
       "332       1941          1960          1          984          1           1   \n",
       "639       2003          2004          1         1896          1           1   \n",
       "327       1982          2008          1          816          1           1   \n",
       "850       2005          2005          1         1364          1           1   \n",
       "39        2006          2007          2         1700          1           1   \n",
       "..         ...           ...        ...          ...        ...         ...   \n",
       "107       1945          1950          1          747          2           1   \n",
       "271       1939          1997          1          720          1           1   \n",
       "862       1934          1995          2          715          4           1   \n",
       "436       2004          2005          1         1473          1           1   \n",
       "103       1920          1950          1          290          2           2   \n",
       "\n",
       "     GrLivArea  GarageCars  \n",
       "332       1604           2  \n",
       "639       1944           3  \n",
       "327        816           1  \n",
       "850       1364           2  \n",
       "39        1718           3  \n",
       "..         ...         ...  \n",
       "107        747           1  \n",
       "271       2192           1  \n",
       "862       1660           1  \n",
       "436       1484           2  \n",
       "103        438           1  \n",
       "\n",
       "[898 rows x 14 columns]"
      ]
     },
     "execution_count": 46,
     "metadata": {},
     "output_type": "execute_result"
    }
   ],
   "source": [
    "rawdata = dataP.loc[:,\"MSZoning\":\"GarageCars\"]\n",
    "rawdata"
   ]
  },
  {
   "cell_type": "code",
   "execution_count": 47,
   "metadata": {},
   "outputs": [],
   "source": [
    "import math"
   ]
  },
  {
   "cell_type": "code",
   "execution_count": 48,
   "metadata": {},
   "outputs": [],
   "source": [
    "trainData = rawdata[0:math.floor(lenDataSet*0.8)]"
   ]
  },
  {
   "cell_type": "code",
   "execution_count": 49,
   "metadata": {},
   "outputs": [],
   "source": [
    "validateData = rawdata[math.ceil(lenDataSet*0.8):math.floor(lenDataSet*0.95)] "
   ]
  },
  {
   "cell_type": "code",
   "execution_count": null,
   "metadata": {},
   "outputs": [],
   "source": []
  },
  {
   "cell_type": "code",
   "execution_count": 50,
   "metadata": {},
   "outputs": [],
   "source": [
    "testData = rawdata[math.ceil(lenDataSet*0.95):]"
   ]
  },
  {
   "cell_type": "code",
   "execution_count": 51,
   "metadata": {},
   "outputs": [],
   "source": [
    "trainLabels = labels[0:math.floor(lenDataSet*0.8)] "
   ]
  },
  {
   "cell_type": "code",
   "execution_count": 52,
   "metadata": {},
   "outputs": [],
   "source": [
    "validateLabels = labels[math.ceil(lenDataSet*0.8):math.floor(lenDataSet*0.95)]"
   ]
  },
  {
   "cell_type": "code",
   "execution_count": 53,
   "metadata": {},
   "outputs": [],
   "source": [
    "testLabels = labels[math.ceil(lenDataSet*0.95):]"
   ]
  },
  {
   "cell_type": "markdown",
   "metadata": {},
   "source": []
  },
  {
   "cell_type": "code",
   "execution_count": 54,
   "metadata": {},
   "outputs": [
    {
     "data": {
      "text/plain": [
       "RandomForestRegressor(bootstrap=True, ccp_alpha=0.0, criterion='mse',\n",
       "                      max_depth=None, max_features=3, max_leaf_nodes=None,\n",
       "                      max_samples=None, min_impurity_decrease=0.0,\n",
       "                      min_impurity_split=None, min_samples_leaf=1,\n",
       "                      min_samples_split=2, min_weight_fraction_leaf=0.0,\n",
       "                      n_estimators=1000, n_jobs=None, oob_score=False,\n",
       "                      random_state=42, verbose=0, warm_start=False)"
      ]
     },
     "execution_count": 54,
     "metadata": {},
     "output_type": "execute_result"
    }
   ],
   "source": [
    "from sklearn.ensemble import RandomForestRegressor\n",
    "\n",
    "rfR = RandomForestRegressor(n_estimators = 1000, random_state = 42, max_features = 3)\n",
    "rfR.fit(trainData, trainLabels)\n",
    "#n_estimators = Anzahl an trees \n",
    "#random_state = \n",
    "# max_featurs = anzahl der feautres maximal \n"
   ]
  },
  {
   "cell_type": "code",
   "execution_count": 55,
   "metadata": {},
   "outputs": [
    {
     "data": {
      "text/plain": [
       "0.9174617531675052"
      ]
     },
     "execution_count": 55,
     "metadata": {},
     "output_type": "execute_result"
    }
   ],
   "source": [
    "rfR.score(validateData, validateLabels)\n"
   ]
  },
  {
   "cell_type": "code",
   "execution_count": 56,
   "metadata": {
    "scrolled": false
   },
   "outputs": [],
   "source": [
    "import sklearn\n",
    "#import sklearn.cross_validation"
   ]
  },
  {
   "cell_type": "code",
   "execution_count": 57,
   "metadata": {
    "scrolled": true
   },
   "outputs": [],
   "source": [
    " from sklearn.model_selection import cross_val_score"
   ]
  },
  {
   "cell_type": "code",
   "execution_count": 58,
   "metadata": {},
   "outputs": [
    {
     "data": {
      "text/plain": [
       "array([0.88123051, 0.83794313, 0.90861283, 0.89474147, 0.82423702])"
      ]
     },
     "execution_count": 58,
     "metadata": {},
     "output_type": "execute_result"
    }
   ],
   "source": [
    "rfK = RandomForestRegressor(n_estimators = 1000, random_state = 42, max_features = 3)\n",
    "scores = cross_val_score(rfK, trainData, trainLabels, cv=5)\n",
    "scores"
   ]
  },
  {
   "cell_type": "code",
   "execution_count": 59,
   "metadata": {},
   "outputs": [
    {
     "data": {
      "text/plain": [
       "array([0.88123051, 0.83794313, 0.90861283, 0.89474147, 0.82423702])"
      ]
     },
     "execution_count": 59,
     "metadata": {},
     "output_type": "execute_result"
    }
   ],
   "source": [
    "rfK = RandomForestRegressor(n_estimators = 1000, random_state = 42, max_features = \"sqrt\")\n",
    "scores = cross_val_score(rfK, trainData, trainLabels, cv=5)\n",
    "scores"
   ]
  },
  {
   "cell_type": "code",
   "execution_count": 60,
   "metadata": {},
   "outputs": [],
   "source": [
    "#sqrtFeatures = 4\n",
    "#rfK = RandomForestRegressor(n_estimators = 1000, random_state = 42, max_features = sqrtFeatures)\n",
    "#scores = cross_val_score(rfK, trainData, trainLabels, cv=10)\n",
    "#sum(scores)/len(scores)\n"
   ]
  },
  {
   "cell_type": "code",
   "execution_count": 61,
   "metadata": {},
   "outputs": [],
   "source": [
    "#sqrtFeatures = 4\n",
    "#rfK = RandomForestRegressor(n_estimators = 1000, random_state = 42, max_features = sqrtFeatures + 1)\n",
    "#scores = cross_val_score(rfK, trainData, trainLabels, cv=10)\n",
    "#sum(scores)/len(scores)"
   ]
  },
  {
   "cell_type": "code",
   "execution_count": 62,
   "metadata": {},
   "outputs": [],
   "source": [
    "#sqrtFeatures = 4\n",
    "#rfK = RandomForestRegressor(n_estimators = 1000, random_state = 42, max_features = sqrtFeatures - 1)\n",
    "#scores = cross_val_score(rfK, trainData, trainLabels, cv=5)\n",
    "#sum(scores)/len(scores)"
   ]
  },
  {
   "cell_type": "code",
   "execution_count": 63,
   "metadata": {},
   "outputs": [],
   "source": [
    "#sqrtFeatures = 4\n",
    "#rfK = RandomForestRegressor(n_estimators = 1000, random_state = 42, max_features = sqrtFeatures - 2)\n",
    "#scores = cross_val_score(rfK, trainData, trainLabels, cv=10)\n",
    "#sum(scores)/len(scores)"
   ]
  },
  {
   "cell_type": "code",
   "execution_count": 64,
   "metadata": {},
   "outputs": [],
   "source": [
    "#sqrtFeatures = 4\n",
    "#rfK = RandomForestRegressor(n_estimators = 1000, random_state = 42, max_features = sqrtFeatures + 2)\n",
    "#scores = cross_val_score(rfK, trainData, trainLabels, cv=10)\n",
    "#sum(scores)/len(scores)"
   ]
  },
  {
   "cell_type": "code",
   "execution_count": 65,
   "metadata": {},
   "outputs": [],
   "source": [
    "from sklearn.ensemble import GradientBoostingRegressor"
   ]
  },
  {
   "cell_type": "code",
   "execution_count": 66,
   "metadata": {},
   "outputs": [
    {
     "data": {
      "text/plain": [
       "0.9151987022018815"
      ]
     },
     "execution_count": 66,
     "metadata": {},
     "output_type": "execute_result"
    }
   ],
   "source": [
    "gbR = GradientBoostingRegressor(\n",
    "    max_depth=1,\n",
    "    n_estimators=1000,\n",
    "    learning_rate=0.1\n",
    ")\n",
    "gbR.fit(trainData, trainLabels)\n",
    "gbR.score(validateData, validateLabels)\n",
    "#gbr.predict(rawdata[1:2])"
   ]
  },
  {
   "cell_type": "code",
   "execution_count": null,
   "metadata": {},
   "outputs": [],
   "source": []
  },
  {
   "cell_type": "code",
   "execution_count": 67,
   "metadata": {},
   "outputs": [],
   "source": [
    "linearData = trainData.iloc[:, [4 ,9, 12]]\n"
   ]
  },
  {
   "cell_type": "code",
   "execution_count": 68,
   "metadata": {},
   "outputs": [],
   "source": [
    "from sklearn.linear_model import LinearRegression\n",
    "clf = LinearRegression().fit(linearData, trainLabels)\n",
    "#clf.coef_\n",
    "#clf.intercept_\n",
    "#clf.score\n"
   ]
  },
  {
   "cell_type": "code",
   "execution_count": 69,
   "metadata": {},
   "outputs": [
    {
     "data": {
      "text/plain": [
       "0.8522736694312071"
      ]
     },
     "execution_count": 69,
     "metadata": {},
     "output_type": "execute_result"
    }
   ],
   "source": [
    "linearDataV = validateData.iloc[:, [4 ,9, 12]]\n",
    "clf.score(linearDataV,validateLabels)"
   ]
  },
  {
   "cell_type": "code",
   "execution_count": 70,
   "metadata": {},
   "outputs": [
    {
     "data": {
      "text/plain": [
       "array([21778.7995944 ,    47.55354281,    59.93549851])"
      ]
     },
     "execution_count": 70,
     "metadata": {},
     "output_type": "execute_result"
    }
   ],
   "source": [
    "clf.coef_"
   ]
  },
  {
   "cell_type": "code",
   "execution_count": 71,
   "metadata": {},
   "outputs": [
    {
     "data": {
      "text/plain": [
       "-93010.30612691233"
      ]
     },
     "execution_count": 71,
     "metadata": {},
     "output_type": "execute_result"
    }
   ],
   "source": [
    "clf.intercept_"
   ]
  },
  {
   "cell_type": "code",
   "execution_count": 72,
   "metadata": {},
   "outputs": [
    {
     "data": {
      "text/html": [
       "<div>\n",
       "<style scoped>\n",
       "    .dataframe tbody tr th:only-of-type {\n",
       "        vertical-align: middle;\n",
       "    }\n",
       "\n",
       "    .dataframe tbody tr th {\n",
       "        vertical-align: top;\n",
       "    }\n",
       "\n",
       "    .dataframe thead th {\n",
       "        text-align: right;\n",
       "    }\n",
       "</style>\n",
       "<table border=\"1\" class=\"dataframe\">\n",
       "  <thead>\n",
       "    <tr style=\"text-align: right;\">\n",
       "      <th></th>\n",
       "      <th>MSZoning</th>\n",
       "      <th>LotArea</th>\n",
       "      <th>Neighborhood</th>\n",
       "      <th>BldgType</th>\n",
       "      <th>OverallQual</th>\n",
       "      <th>OverallCond</th>\n",
       "      <th>YearBuilt</th>\n",
       "      <th>YearRemodAdd</th>\n",
       "      <th>RoofStyle</th>\n",
       "      <th>TotalBsmtSF</th>\n",
       "      <th>HeatingQC</th>\n",
       "      <th>CentralAir</th>\n",
       "      <th>GrLivArea</th>\n",
       "      <th>TotRmsAbvGrd</th>\n",
       "      <th>GarageCars</th>\n",
       "      <th>YrSold</th>\n",
       "      <th>SalePrice</th>\n",
       "    </tr>\n",
       "  </thead>\n",
       "  <tbody>\n",
       "    <tr>\n",
       "      <th>1</th>\n",
       "      <td>RL</td>\n",
       "      <td>12256</td>\n",
       "      <td>NoRidge</td>\n",
       "      <td>1Fam</td>\n",
       "      <td>8</td>\n",
       "      <td>5</td>\n",
       "      <td>1994</td>\n",
       "      <td>1995</td>\n",
       "      <td>Gable</td>\n",
       "      <td>1463</td>\n",
       "      <td>Ex</td>\n",
       "      <td>Y</td>\n",
       "      <td>2622</td>\n",
       "      <td>9</td>\n",
       "      <td>2</td>\n",
       "      <td>2010</td>\n",
       "      <td>325000</td>\n",
       "    </tr>\n",
       "  </tbody>\n",
       "</table>\n",
       "</div>"
      ],
      "text/plain": [
       "  MSZoning  LotArea Neighborhood BldgType  OverallQual  OverallCond  \\\n",
       "1       RL    12256      NoRidge     1Fam            8            5   \n",
       "\n",
       "   YearBuilt  YearRemodAdd RoofStyle  TotalBsmtSF HeatingQC CentralAir  \\\n",
       "1       1994          1995     Gable         1463        Ex          Y   \n",
       "\n",
       "   GrLivArea  TotRmsAbvGrd  GarageCars  YrSold  SalePrice  \n",
       "1       2622             9           2    2010     325000  "
      ]
     },
     "execution_count": 72,
     "metadata": {},
     "output_type": "execute_result"
    }
   ],
   "source": [
    "data[1:2] #vvlt lieber dataP also data Prepared nehmen (weniger Spalten)"
   ]
  },
  {
   "cell_type": "markdown",
   "metadata": {},
   "source": [
    "SalePrice = 20733.21608279 * OverallQual + 45.01412324 * TotalBsmtSF +  62.89920511 * GrLIvArea \n",
    "SalePrice = 20733.21608279 * 4 + 45.01412324 * 721 +   62.89920511 * 841 - 88040.06676312693(1)\n",
    "predicted SalePrice =  80246.21192158308\n",
    "actuelle SalePrice =  82000\n",
    "p(Abweichung) =  1 -80246.21192158308/82000 = 0.021387659492889344\n"
   ]
  },
  {
   "cell_type": "code",
   "execution_count": 73,
   "metadata": {},
   "outputs": [
    {
     "data": {
      "text/plain": [
       "array([307941.80085104])"
      ]
     },
     "execution_count": 73,
     "metadata": {},
     "output_type": "execute_result"
    }
   ],
   "source": [
    "clf.predict(data.iloc[1:2, [4 ,9, 12]])"
   ]
  },
  {
   "cell_type": "markdown",
   "metadata": {},
   "source": [
    "#Klassifikation\n"
   ]
  },
  {
   "cell_type": "code",
   "execution_count": 74,
   "metadata": {},
   "outputs": [
    {
     "data": {
      "text/html": [
       "<div>\n",
       "<style scoped>\n",
       "    .dataframe tbody tr th:only-of-type {\n",
       "        vertical-align: middle;\n",
       "    }\n",
       "\n",
       "    .dataframe tbody tr th {\n",
       "        vertical-align: top;\n",
       "    }\n",
       "\n",
       "    .dataframe thead th {\n",
       "        text-align: right;\n",
       "    }\n",
       "</style>\n",
       "<table border=\"1\" class=\"dataframe\">\n",
       "  <thead>\n",
       "    <tr style=\"text-align: right;\">\n",
       "      <th></th>\n",
       "      <th>MSZoning</th>\n",
       "      <th>LotArea</th>\n",
       "      <th>Neighborhood</th>\n",
       "      <th>BldgType</th>\n",
       "      <th>OverallQual</th>\n",
       "      <th>OverallCond</th>\n",
       "      <th>YearBuilt</th>\n",
       "      <th>YearRemodAdd</th>\n",
       "      <th>RoofStyle</th>\n",
       "      <th>TotalBsmtSF</th>\n",
       "      <th>HeatingQC</th>\n",
       "      <th>GrLivArea</th>\n",
       "      <th>GarageCars</th>\n",
       "      <th>SalePrice</th>\n",
       "    </tr>\n",
       "  </thead>\n",
       "  <tbody>\n",
       "    <tr>\n",
       "      <th>332</th>\n",
       "      <td>1</td>\n",
       "      <td>10998</td>\n",
       "      <td>4</td>\n",
       "      <td>1</td>\n",
       "      <td>5</td>\n",
       "      <td>5</td>\n",
       "      <td>1941</td>\n",
       "      <td>1960</td>\n",
       "      <td>1</td>\n",
       "      <td>984</td>\n",
       "      <td>1</td>\n",
       "      <td>1604</td>\n",
       "      <td>2</td>\n",
       "      <td>117000</td>\n",
       "    </tr>\n",
       "    <tr>\n",
       "      <th>639</th>\n",
       "      <td>1</td>\n",
       "      <td>12378</td>\n",
       "      <td>9</td>\n",
       "      <td>1</td>\n",
       "      <td>9</td>\n",
       "      <td>5</td>\n",
       "      <td>2003</td>\n",
       "      <td>2004</td>\n",
       "      <td>1</td>\n",
       "      <td>1896</td>\n",
       "      <td>1</td>\n",
       "      <td>1944</td>\n",
       "      <td>3</td>\n",
       "      <td>360000</td>\n",
       "    </tr>\n",
       "    <tr>\n",
       "      <th>327</th>\n",
       "      <td>1</td>\n",
       "      <td>6600</td>\n",
       "      <td>13</td>\n",
       "      <td>1</td>\n",
       "      <td>5</td>\n",
       "      <td>9</td>\n",
       "      <td>1982</td>\n",
       "      <td>2008</td>\n",
       "      <td>1</td>\n",
       "      <td>816</td>\n",
       "      <td>1</td>\n",
       "      <td>816</td>\n",
       "      <td>1</td>\n",
       "      <td>130500</td>\n",
       "    </tr>\n",
       "    <tr>\n",
       "      <th>850</th>\n",
       "      <td>1</td>\n",
       "      <td>7052</td>\n",
       "      <td>9</td>\n",
       "      <td>2</td>\n",
       "      <td>7</td>\n",
       "      <td>5</td>\n",
       "      <td>2005</td>\n",
       "      <td>2005</td>\n",
       "      <td>1</td>\n",
       "      <td>1364</td>\n",
       "      <td>1</td>\n",
       "      <td>1364</td>\n",
       "      <td>2</td>\n",
       "      <td>185850</td>\n",
       "    </tr>\n",
       "    <tr>\n",
       "      <th>39</th>\n",
       "      <td>1</td>\n",
       "      <td>12456</td>\n",
       "      <td>9</td>\n",
       "      <td>1</td>\n",
       "      <td>10</td>\n",
       "      <td>5</td>\n",
       "      <td>2006</td>\n",
       "      <td>2007</td>\n",
       "      <td>2</td>\n",
       "      <td>1700</td>\n",
       "      <td>1</td>\n",
       "      <td>1718</td>\n",
       "      <td>3</td>\n",
       "      <td>337500</td>\n",
       "    </tr>\n",
       "    <tr>\n",
       "      <th>...</th>\n",
       "      <td>...</td>\n",
       "      <td>...</td>\n",
       "      <td>...</td>\n",
       "      <td>...</td>\n",
       "      <td>...</td>\n",
       "      <td>...</td>\n",
       "      <td>...</td>\n",
       "      <td>...</td>\n",
       "      <td>...</td>\n",
       "      <td>...</td>\n",
       "      <td>...</td>\n",
       "      <td>...</td>\n",
       "      <td>...</td>\n",
       "      <td>...</td>\n",
       "    </tr>\n",
       "    <tr>\n",
       "      <th>107</th>\n",
       "      <td>2</td>\n",
       "      <td>4608</td>\n",
       "      <td>3</td>\n",
       "      <td>1</td>\n",
       "      <td>4</td>\n",
       "      <td>6</td>\n",
       "      <td>1945</td>\n",
       "      <td>1950</td>\n",
       "      <td>1</td>\n",
       "      <td>747</td>\n",
       "      <td>2</td>\n",
       "      <td>747</td>\n",
       "      <td>1</td>\n",
       "      <td>80000</td>\n",
       "    </tr>\n",
       "    <tr>\n",
       "      <th>271</th>\n",
       "      <td>1</td>\n",
       "      <td>8400</td>\n",
       "      <td>17</td>\n",
       "      <td>1</td>\n",
       "      <td>5</td>\n",
       "      <td>8</td>\n",
       "      <td>1939</td>\n",
       "      <td>1997</td>\n",
       "      <td>1</td>\n",
       "      <td>720</td>\n",
       "      <td>1</td>\n",
       "      <td>2192</td>\n",
       "      <td>1</td>\n",
       "      <td>179500</td>\n",
       "    </tr>\n",
       "    <tr>\n",
       "      <th>862</th>\n",
       "      <td>1</td>\n",
       "      <td>11988</td>\n",
       "      <td>11</td>\n",
       "      <td>1</td>\n",
       "      <td>6</td>\n",
       "      <td>7</td>\n",
       "      <td>1934</td>\n",
       "      <td>1995</td>\n",
       "      <td>2</td>\n",
       "      <td>715</td>\n",
       "      <td>4</td>\n",
       "      <td>1660</td>\n",
       "      <td>1</td>\n",
       "      <td>188700</td>\n",
       "    </tr>\n",
       "    <tr>\n",
       "      <th>436</th>\n",
       "      <td>1</td>\n",
       "      <td>8400</td>\n",
       "      <td>2</td>\n",
       "      <td>1</td>\n",
       "      <td>7</td>\n",
       "      <td>5</td>\n",
       "      <td>2004</td>\n",
       "      <td>2005</td>\n",
       "      <td>1</td>\n",
       "      <td>1473</td>\n",
       "      <td>1</td>\n",
       "      <td>1484</td>\n",
       "      <td>2</td>\n",
       "      <td>213000</td>\n",
       "    </tr>\n",
       "    <tr>\n",
       "      <th>103</th>\n",
       "      <td>1</td>\n",
       "      <td>8400</td>\n",
       "      <td>17</td>\n",
       "      <td>1</td>\n",
       "      <td>2</td>\n",
       "      <td>5</td>\n",
       "      <td>1920</td>\n",
       "      <td>1950</td>\n",
       "      <td>1</td>\n",
       "      <td>290</td>\n",
       "      <td>2</td>\n",
       "      <td>438</td>\n",
       "      <td>1</td>\n",
       "      <td>60000</td>\n",
       "    </tr>\n",
       "  </tbody>\n",
       "</table>\n",
       "<p>898 rows × 14 columns</p>\n",
       "</div>"
      ],
      "text/plain": [
       "     MSZoning  LotArea  Neighborhood  BldgType  OverallQual  OverallCond  \\\n",
       "332         1    10998             4         1            5            5   \n",
       "639         1    12378             9         1            9            5   \n",
       "327         1     6600            13         1            5            9   \n",
       "850         1     7052             9         2            7            5   \n",
       "39          1    12456             9         1           10            5   \n",
       "..        ...      ...           ...       ...          ...          ...   \n",
       "107         2     4608             3         1            4            6   \n",
       "271         1     8400            17         1            5            8   \n",
       "862         1    11988            11         1            6            7   \n",
       "436         1     8400             2         1            7            5   \n",
       "103         1     8400            17         1            2            5   \n",
       "\n",
       "     YearBuilt  YearRemodAdd  RoofStyle  TotalBsmtSF  HeatingQC  GrLivArea  \\\n",
       "332       1941          1960          1          984          1       1604   \n",
       "639       2003          2004          1         1896          1       1944   \n",
       "327       1982          2008          1          816          1        816   \n",
       "850       2005          2005          1         1364          1       1364   \n",
       "39        2006          2007          2         1700          1       1718   \n",
       "..         ...           ...        ...          ...        ...        ...   \n",
       "107       1945          1950          1          747          2        747   \n",
       "271       1939          1997          1          720          1       2192   \n",
       "862       1934          1995          2          715          4       1660   \n",
       "436       2004          2005          1         1473          1       1484   \n",
       "103       1920          1950          1          290          2        438   \n",
       "\n",
       "     GarageCars  SalePrice  \n",
       "332           2     117000  \n",
       "639           3     360000  \n",
       "327           1     130500  \n",
       "850           2     185850  \n",
       "39            3     337500  \n",
       "..          ...        ...  \n",
       "107           1      80000  \n",
       "271           1     179500  \n",
       "862           1     188700  \n",
       "436           2     213000  \n",
       "103           1      60000  \n",
       "\n",
       "[898 rows x 14 columns]"
      ]
     },
     "execution_count": 74,
     "metadata": {},
     "output_type": "execute_result"
    }
   ],
   "source": [
    "caData = dataP.loc[:, dataP.columns != 'CentralAir']\n",
    "caData"
   ]
  },
  {
   "cell_type": "code",
   "execution_count": 75,
   "metadata": {},
   "outputs": [
    {
     "data": {
      "text/plain": [
       "332    1\n",
       "639    1\n",
       "327    1\n",
       "850    1\n",
       "39     1\n",
       "      ..\n",
       "107    1\n",
       "271    1\n",
       "862    1\n",
       "436    1\n",
       "103    2\n",
       "Name: CentralAir, Length: 898, dtype: int64"
      ]
     },
     "execution_count": 75,
     "metadata": {},
     "output_type": "execute_result"
    }
   ],
   "source": [
    "caLabels = dataP[\"CentralAir\"]\n",
    "caLabels"
   ]
  },
  {
   "cell_type": "code",
   "execution_count": 76,
   "metadata": {},
   "outputs": [],
   "source": [
    "trainCaData = caData[0:math.floor(lenDataSet*0.8)]"
   ]
  },
  {
   "cell_type": "code",
   "execution_count": 77,
   "metadata": {},
   "outputs": [],
   "source": [
    "validateCaData = caData[math.ceil(lenDataSet*0.8):math.floor(lenDataSet*0.95)] "
   ]
  },
  {
   "cell_type": "code",
   "execution_count": 78,
   "metadata": {},
   "outputs": [],
   "source": [
    "testCaData = caData[math.ceil(lenDataSet*0.95):]"
   ]
  },
  {
   "cell_type": "code",
   "execution_count": 79,
   "metadata": {},
   "outputs": [],
   "source": [
    "trainCaLabels = caLabels[0:math.floor(lenDataSet*0.8)] "
   ]
  },
  {
   "cell_type": "code",
   "execution_count": 80,
   "metadata": {},
   "outputs": [],
   "source": [
    "validateCaLabels = caLabels[math.ceil(lenDataSet*0.8):math.floor(lenDataSet*0.95)]"
   ]
  },
  {
   "cell_type": "code",
   "execution_count": 81,
   "metadata": {},
   "outputs": [],
   "source": [
    "testCaLabels = caLabels[math.ceil(lenDataSet*0.95):]"
   ]
  },
  {
   "cell_type": "code",
   "execution_count": null,
   "metadata": {},
   "outputs": [],
   "source": []
  },
  {
   "cell_type": "code",
   "execution_count": null,
   "metadata": {},
   "outputs": [],
   "source": []
  },
  {
   "cell_type": "code",
   "execution_count": null,
   "metadata": {},
   "outputs": [],
   "source": []
  },
  {
   "cell_type": "code",
   "execution_count": null,
   "metadata": {},
   "outputs": [],
   "source": []
  },
  {
   "cell_type": "code",
   "execution_count": null,
   "metadata": {},
   "outputs": [],
   "source": []
  },
  {
   "cell_type": "code",
   "execution_count": 82,
   "metadata": {},
   "outputs": [
    {
     "data": {
      "text/plain": [
       "0.9328358208955224"
      ]
     },
     "execution_count": 82,
     "metadata": {},
     "output_type": "execute_result"
    }
   ],
   "source": [
    "from sklearn import tree\n",
    "dtC= tree.DecisionTreeClassifier()\n",
    "dtC = dtC.fit(trainCaData, trainCaLabels)\n",
    "dtC.score(validateCaData,validateCaLabels)\n"
   ]
  },
  {
   "cell_type": "code",
   "execution_count": 104,
   "metadata": {},
   "outputs": [],
   "source": [
    "#from sklearn.externals.six import StringIO  \n",
    "#from IPython.display import Image  \n",
    "#from sklearn.tree import export_graphviz\n",
    "#import pydotplus\n",
    "#dot_data = StringIO()\n",
    "#feature_names = caData.columns\n",
    "#tree.export_graphviz(dtC, out_file=dot_data,\n",
    "#                     feature_names=feature_names ,\n",
    "#                     class_names=True)\n",
    "#graph = pydotplus.graph_from_dot_data(dot_data.getvalue())  \n",
    "#Image(graph.create_png())"
   ]
  },
  {
   "cell_type": "code",
   "execution_count": null,
   "metadata": {},
   "outputs": [],
   "source": []
  },
  {
   "cell_type": "code",
   "execution_count": 84,
   "metadata": {},
   "outputs": [],
   "source": [
    "from sklearn.ensemble import RandomForestClassifier"
   ]
  },
  {
   "cell_type": "code",
   "execution_count": 105,
   "metadata": {},
   "outputs": [
    {
     "data": {
      "text/plain": [
       "0.9328358208955224"
      ]
     },
     "execution_count": 105,
     "metadata": {},
     "output_type": "execute_result"
    }
   ],
   "source": [
    "rfC = RandomForestClassifier(max_depth=2, random_state=0)\n",
    "rfC.fit(trainCaData, trainCaLabels)\n",
    "rfC.score(validateCaData, validateCaLabels)"
   ]
  },
  {
   "cell_type": "code",
   "execution_count": 86,
   "metadata": {},
   "outputs": [],
   "source": [
    "from sklearn.ensemble import GradientBoostingClassifier"
   ]
  },
  {
   "cell_type": "code",
   "execution_count": 106,
   "metadata": {},
   "outputs": [
    {
     "data": {
      "text/plain": [
       "0.9402985074626866"
      ]
     },
     "execution_count": 106,
     "metadata": {},
     "output_type": "execute_result"
    }
   ],
   "source": [
    "gbC = GradientBoostingClassifier(n_estimators=20, max_features=2, max_depth=2, random_state=0)\n",
    "gbC.fit(trainCaData, trainCaLabels)\n",
    "gbC.score(validateCaData, validateCaLabels)"
   ]
  },
  {
   "cell_type": "markdown",
   "metadata": {},
   "source": [
    "93% der Häuser haben eine Klimaanlage. Beachten!!!"
   ]
  },
  {
   "cell_type": "code",
   "execution_count": null,
   "metadata": {},
   "outputs": [],
   "source": []
  },
  {
   "cell_type": "code",
   "execution_count": 135,
   "metadata": {},
   "outputs": [],
   "source": [
    "from sklearn.metrics import accuracy_score, mean_squared_error, r2_score, confusion_matrix\n",
    "\n",
    "def readData(filename):\n",
    "    if str(filename):\n",
    "        dataFrame = pd.read_csv(filename, sep= \";\")\n",
    "        return dataFrame;\n",
    "    \n",
    "def prepareDataRegression(dataFrame):\n",
    "    if type(dataFrame) == pd.core.frame.DataFrame:\n",
    "        #Data Preparation\n",
    "        #Spalten entfernen\n",
    "        dataFrame = dataFrame.drop(\"YrSold\", axis=1)\n",
    "        dataFrame = dataFrame.drop(\"TotRmsAbvGrd\", axis=1)\n",
    "        \n",
    "        #One hot encoding\n",
    "        for element in stringLabels:\n",
    "            dataFrame.loc[:,element] = text_to_numbers(dataFrame.loc[:,element])\n",
    "            \n",
    "        return dataFrame\n",
    "    \n",
    "def splitDataRegression(dataFrame):\n",
    "    if type(dataFrame) == pd.core.frame.DataFrame:\n",
    "        #Data Splitting in Data und Sale Price\n",
    "        x = dataFrame.drop('SalePrice', axis=1)\n",
    "        y = dataFrame.SalePrice\n",
    "        return x,y\n",
    "            \n",
    "def applyRegressor(model, dataFrame):\n",
    "    if type(dataFrame) == pd.core.frame.DataFrame:\n",
    "        dataFrame = prepareDataRegression(dataFrame)\n",
    "        x,y = splitDataRegression(dataFrame)\n",
    "        \n",
    "        if type(model) == sklearn.linear_model._base.LinearRegression:\n",
    "            x = x.iloc[:, [4 ,9, 12]]\n",
    "\n",
    "\n",
    "        #Führe Prediction durch und berechne Messwerte\n",
    "        pred = model.predict(x)\n",
    "        r2 = r2_score(y,pred)\n",
    "        mse = mean_squared_error(y, pred)\n",
    "        rmse = np.sqrt(mse)\n",
    "        mape = np.mean(np.abs((y - pred) / y)) * 100\n",
    "        maxDiff = np.amax(np.subtract(y,pred))\n",
    "        \n",
    "        print(\"r^2: {}\\n\\nmse: {}\\n\\nrmse: {}\\n\\nmape: {}\\n\\nmax*: {}\".format(r2,mse,rmse,mape,maxDiff))\n",
    "        \n",
    "def splitDataClassification(dataFrame):\n",
    "    if type(dataFrame) == pd.core.frame.DataFrame:\n",
    "        x = dataFrame.drop(\"CentralAir\",axis = 1)\n",
    "        y = dataFrame[\"CentralAir\"]\n",
    "        return x,y\n",
    "\n",
    "def applyClassifier(model, dataFrame):\n",
    "    if type(dataFrame) == pd.core.frame.DataFrame:\n",
    "        dataFrame = prepareDataRegression(dataFrame)\n",
    "        x, y = splitDataClassification(dataFrame)\n",
    "        \n",
    "        #Führe Prediction durch und berechne Messwerte\n",
    "        prediction = model.predict(x)\n",
    "        dataFrameSize = len(x.index)\n",
    "        confMat = confusion_matrix(y,prediction).ravel()\n",
    "        print(confMat)\n",
    "        truePositive,falseNegative,falsePositive,trueNegative = np.array(confMat,dtype='f') \n",
    "        truePositiveRate = truePositive/(truePositive + falsePositive)\n",
    "        trueNegativeRate =  trueNegative/(trueNegative + falseNegative)\n",
    "        falsePostiveRate = falsePositive/(truePositive + falsePositive)\n",
    "        falseNegativeRate = flaseNegative/(truePositive + falsePositive)\n",
    "        \n",
    "        \n",
    "\n",
    "        accuracy = (trueNegative + truePositive) / \n",
    "        \n",
    "        print(\"\"\"accuracy: {}\\n\\nfalse-positive-Rate: {}\\n\\nfalse-negative-Rate: {},\\n\n",
    "              true-positiv:{},\\n \n",
    "              true Negativ:{}\\n\\n\"\"\".format(accuracy, falsePositiveRate, falseNegativeRate, truePositiveRate, trueNegativeRate))\n",
    "        \n",
    "        \n",
    "def exportModel(filename):\n",
    "    dump([clf,gbR,rfR,dtC,rfC,gbC], filename)\n",
    "    \n",
    "def importModel(filename):\n",
    "    return load(filename)"
   ]
  },
  {
   "cell_type": "code",
   "execution_count": 100,
   "metadata": {
    "scrolled": false
   },
   "outputs": [
    {
     "name": "stdout",
     "output_type": "stream",
     "text": [
      "r^2: 0.7980206676898323\n",
      "\n",
      "mse: 1026396820.720986\n",
      "\n",
      "rmse: 32037.42843489449\n",
      "\n",
      "mape: 14.605591236052028\n",
      "\n",
      "max*: 255319.83998863515\n"
     ]
    },
    {
     "data": {
      "text/plain": [
       "sklearn.linear_model._base.LinearRegression"
      ]
     },
     "execution_count": 100,
     "metadata": {},
     "output_type": "execute_result"
    }
   ],
   "source": [
    "#Linear Regression\n",
    "applyRegressor(clf,data)\n",
    "type(clf)"
   ]
  },
  {
   "cell_type": "code",
   "execution_count": 108,
   "metadata": {
    "scrolled": true
   },
   "outputs": [
    {
     "name": "stdout",
     "output_type": "stream",
     "text": [
      "r^2: 0.9451032968607459\n",
      "\n",
      "mse: 278968154.44298667\n",
      "\n",
      "rmse: 16702.33978947221\n",
      "\n",
      "mape: 7.747450656716614\n",
      "\n",
      "max*: 62282.16252134909\n"
     ]
    }
   ],
   "source": [
    "#Gradient Boosting Tree Regression\n",
    "applyRegressor(gbR,data)"
   ]
  },
  {
   "cell_type": "code",
   "execution_count": 109,
   "metadata": {
    "scrolled": false
   },
   "outputs": [
    {
     "name": "stdout",
     "output_type": "stream",
     "text": [
      "r^2: 0.9722383731521528\n",
      "\n",
      "mse: 141076045.79519832\n",
      "\n",
      "rmse: 11877.543761030658\n",
      "\n",
      "mape: 4.439339662495125\n",
      "\n",
      "max*: 105217.81200000003\n"
     ]
    }
   ],
   "source": [
    "#Random Forest Regression\n",
    "applyRegressor(rfR,data)"
   ]
  },
  {
   "cell_type": "code",
   "execution_count": 134,
   "metadata": {
    "scrolled": true
   },
   "outputs": [
    {
     "name": "stdout",
     "output_type": "stream",
     "text": [
      "[839   5   6  48]\n"
     ]
    },
    {
     "ename": "NameError",
     "evalue": "name 'trueNegastiv' is not defined",
     "output_type": "error",
     "traceback": [
      "\u001b[1;31m---------------------------------------------------------------------------\u001b[0m",
      "\u001b[1;31mNameError\u001b[0m                                 Traceback (most recent call last)",
      "\u001b[1;32m<ipython-input-134-985c8eec749c>\u001b[0m in \u001b[0;36m<module>\u001b[1;34m\u001b[0m\n\u001b[0;32m      1\u001b[0m \u001b[1;31m#Decision Tree Classifier\u001b[0m\u001b[1;33m\u001b[0m\u001b[1;33m\u001b[0m\u001b[1;33m\u001b[0m\u001b[0m\n\u001b[1;32m----> 2\u001b[1;33m \u001b[0mapplyClassifier\u001b[0m\u001b[1;33m(\u001b[0m\u001b[0mdtC\u001b[0m\u001b[1;33m,\u001b[0m \u001b[0mdata\u001b[0m\u001b[1;33m)\u001b[0m\u001b[1;33m\u001b[0m\u001b[1;33m\u001b[0m\u001b[0m\n\u001b[0m",
      "\u001b[1;32m<ipython-input-133-a89018013aed>\u001b[0m in \u001b[0;36mapplyClassifier\u001b[1;34m(model, dataFrame)\u001b[0m\n\u001b[0;32m     63\u001b[0m         \u001b[0mtruePositive\u001b[0m\u001b[1;33m,\u001b[0m\u001b[0mfalseNegative\u001b[0m\u001b[1;33m,\u001b[0m\u001b[0mfalsePositive\u001b[0m\u001b[1;33m,\u001b[0m\u001b[0mtrueNegative\u001b[0m \u001b[1;33m=\u001b[0m \u001b[0mnp\u001b[0m\u001b[1;33m.\u001b[0m\u001b[0marray\u001b[0m\u001b[1;33m(\u001b[0m\u001b[0mconfMat\u001b[0m\u001b[1;33m,\u001b[0m\u001b[0mdtype\u001b[0m\u001b[1;33m=\u001b[0m\u001b[1;34m'f'\u001b[0m\u001b[1;33m)\u001b[0m\u001b[1;33m\u001b[0m\u001b[1;33m\u001b[0m\u001b[0m\n\u001b[0;32m     64\u001b[0m         \u001b[0mtruePositiveRate\u001b[0m \u001b[1;33m=\u001b[0m \u001b[0mtruePositive\u001b[0m\u001b[1;33m/\u001b[0m\u001b[1;33m(\u001b[0m\u001b[0mtruePositive\u001b[0m \u001b[1;33m+\u001b[0m \u001b[0mfalsePositive\u001b[0m\u001b[1;33m)\u001b[0m\u001b[1;33m\u001b[0m\u001b[1;33m\u001b[0m\u001b[0m\n\u001b[1;32m---> 65\u001b[1;33m         \u001b[0mtrueNegativeRate\u001b[0m \u001b[1;33m=\u001b[0m  \u001b[0mtrueNegative\u001b[0m\u001b[1;33m/\u001b[0m\u001b[1;33m(\u001b[0m\u001b[0mtrueNegastiv\u001b[0m \u001b[1;33m+\u001b[0m \u001b[0mfalseNegative\u001b[0m\u001b[1;33m)\u001b[0m\u001b[1;33m\u001b[0m\u001b[1;33m\u001b[0m\u001b[0m\n\u001b[0m\u001b[0;32m     66\u001b[0m         \u001b[0mfalsePostiveRate\u001b[0m \u001b[1;33m=\u001b[0m \u001b[0mfalsePositve\u001b[0m\u001b[1;33m/\u001b[0m\u001b[1;33m(\u001b[0m\u001b[0mtruePositive\u001b[0m \u001b[1;33m+\u001b[0m \u001b[0mfalsePositive\u001b[0m\u001b[1;33m)\u001b[0m\u001b[1;33m\u001b[0m\u001b[1;33m\u001b[0m\u001b[0m\n\u001b[0;32m     67\u001b[0m         \u001b[0mflaseNegativeRate\u001b[0m \u001b[1;33m=\u001b[0m \u001b[0mflaseNegative\u001b[0m\u001b[1;33m/\u001b[0m\u001b[1;33m(\u001b[0m\u001b[0mtruePositive\u001b[0m \u001b[1;33m+\u001b[0m \u001b[0mfalsePositive\u001b[0m\u001b[1;33m)\u001b[0m\u001b[1;33m\u001b[0m\u001b[1;33m\u001b[0m\u001b[0m\n",
      "\u001b[1;31mNameError\u001b[0m: name 'trueNegastiv' is not defined"
     ]
    }
   ],
   "source": [
    "#Decision Tree Classifier\n",
    "applyClassifier(dtC, data)\n"
   ]
  },
  {
   "cell_type": "code",
   "execution_count": 136,
   "metadata": {},
   "outputs": [
    {
     "name": "stdout",
     "output_type": "stream",
     "text": [
      "[844   0  53   1]\n"
     ]
    },
    {
     "ename": "NameError",
     "evalue": "name 'falsePositve' is not defined",
     "output_type": "error",
     "traceback": [
      "\u001b[1;31m---------------------------------------------------------------------------\u001b[0m",
      "\u001b[1;31mNameError\u001b[0m                                 Traceback (most recent call last)",
      "\u001b[1;32m<ipython-input-136-da8624527970>\u001b[0m in \u001b[0;36m<module>\u001b[1;34m\u001b[0m\n\u001b[0;32m      1\u001b[0m \u001b[1;31m#Random Forest Classifier\u001b[0m\u001b[1;33m\u001b[0m\u001b[1;33m\u001b[0m\u001b[1;33m\u001b[0m\u001b[0m\n\u001b[1;32m----> 2\u001b[1;33m \u001b[0mapplyClassifier\u001b[0m\u001b[1;33m(\u001b[0m\u001b[0mrfC\u001b[0m\u001b[1;33m,\u001b[0m \u001b[0mdata\u001b[0m\u001b[1;33m)\u001b[0m\u001b[1;33m\u001b[0m\u001b[1;33m\u001b[0m\u001b[0m\n\u001b[0m",
      "\u001b[1;32m<ipython-input-135-569638c7542a>\u001b[0m in \u001b[0;36mapplyClassifier\u001b[1;34m(model, dataFrame)\u001b[0m\n\u001b[0;32m     64\u001b[0m         \u001b[0mtruePositiveRate\u001b[0m \u001b[1;33m=\u001b[0m \u001b[0mtruePositive\u001b[0m\u001b[1;33m/\u001b[0m\u001b[1;33m(\u001b[0m\u001b[0mtruePositive\u001b[0m \u001b[1;33m+\u001b[0m \u001b[0mfalsePositive\u001b[0m\u001b[1;33m)\u001b[0m\u001b[1;33m\u001b[0m\u001b[1;33m\u001b[0m\u001b[0m\n\u001b[0;32m     65\u001b[0m         \u001b[0mtrueNegativeRate\u001b[0m \u001b[1;33m=\u001b[0m  \u001b[0mtrueNegative\u001b[0m\u001b[1;33m/\u001b[0m\u001b[1;33m(\u001b[0m\u001b[0mtrueNegative\u001b[0m \u001b[1;33m+\u001b[0m \u001b[0mfalseNegative\u001b[0m\u001b[1;33m)\u001b[0m\u001b[1;33m\u001b[0m\u001b[1;33m\u001b[0m\u001b[0m\n\u001b[1;32m---> 66\u001b[1;33m         \u001b[0mfalsePostiveRate\u001b[0m \u001b[1;33m=\u001b[0m \u001b[0mfalsePositve\u001b[0m\u001b[1;33m/\u001b[0m\u001b[1;33m(\u001b[0m\u001b[0mtruePositive\u001b[0m \u001b[1;33m+\u001b[0m \u001b[0mfalsePositive\u001b[0m\u001b[1;33m)\u001b[0m\u001b[1;33m\u001b[0m\u001b[1;33m\u001b[0m\u001b[0m\n\u001b[0m\u001b[0;32m     67\u001b[0m         \u001b[0mfalseNegativeRate\u001b[0m \u001b[1;33m=\u001b[0m \u001b[0mflaseNegative\u001b[0m\u001b[1;33m/\u001b[0m\u001b[1;33m(\u001b[0m\u001b[0mtruePositive\u001b[0m \u001b[1;33m+\u001b[0m \u001b[0mfalsePositive\u001b[0m\u001b[1;33m)\u001b[0m\u001b[1;33m\u001b[0m\u001b[1;33m\u001b[0m\u001b[0m\n\u001b[0;32m     68\u001b[0m \u001b[1;33m\u001b[0m\u001b[0m\n",
      "\u001b[1;31mNameError\u001b[0m: name 'falsePositve' is not defined"
     ]
    }
   ],
   "source": [
    "#Random Forest Classifier\n",
    "applyClassifier(rfC, data)"
   ]
  },
  {
   "cell_type": "code",
   "execution_count": 115,
   "metadata": {},
   "outputs": [
    {
     "name": "stdout",
     "output_type": "stream",
     "text": [
      "accuracy: 0.955456554889679\n",
      "\n",
      "false-positive-Rate: 0.0011135857785120606\n",
      "\n",
      "false-negative-Rate: 0.9387527704238892,\n",
      "              true-positiv:0.016703786328434944, \n",
      "              true Negativ:0.043429844081401825\n",
      "\n",
      "\n"
     ]
    }
   ],
   "source": [
    "#Gradient Boosting Tree Classifier\n",
    "applyClassifier(gbC, data)"
   ]
  },
  {
   "cell_type": "markdown",
   "metadata": {},
   "source": []
  },
  {
   "cell_type": "code",
   "execution_count": null,
   "metadata": {},
   "outputs": [],
   "source": []
  }
 ],
 "metadata": {
  "kernelspec": {
   "display_name": "Python 3",
   "language": "python",
   "name": "python3"
  },
  "language_info": {
   "codemirror_mode": {
    "name": "ipython",
    "version": 3
   },
   "file_extension": ".py",
   "mimetype": "text/x-python",
   "name": "python",
   "nbconvert_exporter": "python",
   "pygments_lexer": "ipython3",
   "version": "3.7.6"
  }
 },
 "nbformat": 4,
 "nbformat_minor": 2
}
